{
  "nbformat": 4,
  "nbformat_minor": 0,
  "metadata": {
    "colab": {
      "name": "Data Type and Collection",
      "provenance": [],
      "authorship_tag": "ABX9TyNrvbOP6iN25JoR5ypYxDJM"
    },
    "kernelspec": {
      "name": "python3",
      "display_name": "Python 3"
    }
  },
  "cells": [
    {
      "cell_type": "markdown",
      "metadata": {
        "id": "rAlPjZc_-qjj"
      },
      "source": [
        "## 변수의 이해 및 기본 데이터 타입\n",
        "\n",
        "**학습목표**\n",
        "1. python언어에서 변수의 의미 이해하기\n",
        "2. 기본 데이터 타입 선언하기\n",
        " - int, fliat, str, bool\n",
        "\n",
        " **기본 데이터 타입**\n",
        " - variable declaration & value assignment(변수 선언 및 값 할당)\n",
        "\n",
        "**=대입 연산자, ==비교 연산자**\n",
        "- 대입의 경우, 오른쪽의 수식이나 값을 evaluation(여기서는 계산이라는 의미로 사용)한 뒤, 왼쪽에 묭시된 변수에 해당 값을 대입\n",
        "- 변수는 해당값을 가지게 됨"
      ]
    },
    {
      "cell_type": "code",
      "metadata": {
        "id": "4hBRDe-g-qDw"
      },
      "source": [
        "a = 10 # int\n",
        "b = 11.4 # float"
      ],
      "execution_count": null,
      "outputs": []
    },
    {
      "cell_type": "markdown",
      "metadata": {
        "id": "wcultuLyALtz"
      },
      "source": [
        "**comment(주석)**\n",
        "- 코드에서 #으로 시작하는 뒷 부분은 실행되지 않음\n",
        "- 개발자가 보기 위한 용도로 사용"
      ]
    },
    {
      "cell_type": "code",
      "metadata": {
        "id": "E-EuVvlH-oJT"
      },
      "source": [
        "# this line is very important\n",
        "# so son't delete those lines\n",
        "\n",
        "a = 10\n",
        "b = 11.4"
      ],
      "execution_count": 1,
      "outputs": []
    },
    {
      "cell_type": "markdown",
      "metadata": {
        "id": "nHEtcsGEAyvn"
      },
      "source": [
        "**print 함수**\n",
        "- 함수란 특정 기능을 반복적으로 호출하여 사용가능한 코드블럭\n",
        "- 해당 변수의 값을 출력\n",
        "- ,로 여러 변수를 나열하면 한줄에 출력\n",
        "- 기본적으로는 한칸 띄어쓰기 후 출력"
      ]
    },
    {
      "cell_type": "code",
      "metadata": {
        "colab": {
          "base_uri": "https://localhost:8080/"
        },
        "id": "bokafKHQAxA1",
        "outputId": "4fd0819f-4ab6-4a2b-9852-88acd088d0b0"
      },
      "source": [
        "print(a, b)\n",
        "print(a, 10, 200, b)"
      ],
      "execution_count": 2,
      "outputs": [
        {
          "output_type": "stream",
          "text": [
            "10 11.4\n",
            "10 10 200 11.4\n"
          ],
          "name": "stdout"
        }
      ]
    },
    {
      "cell_type": "markdown",
      "metadata": {
        "id": "q5uRNxKpBxtO"
      },
      "source": [
        "- print함수 설정\n",
        " - sep: 구분자, 각 출력할 변수 사이에서 구별하는 역할을 함\n",
        " - end: 마지막에 출력할 문자열"
      ]
    },
    {
      "cell_type": "code",
      "metadata": {
        "colab": {
          "base_uri": "https://localhost:8080/"
        },
        "id": "p7s7YwkbBuwa",
        "outputId": "1c2be475-c2f9-4122-95a3-9c4c1982ce85"
      },
      "source": [
        "print(a, b, 10, 100, sep='*', end='!!')"
      ],
      "execution_count": 5,
      "outputs": [
        {
          "output_type": "stream",
          "text": [
            "10*11.4*10*100!!"
          ],
          "name": "stdout"
        }
      ]
    },
    {
      "cell_type": "markdown",
      "metadata": {
        "id": "sjmtTpFfCV-u"
      },
      "source": [
        "**변수 값 확인법**\n",
        "- print()함수 사용\n",
        "- 변수 값을 코드의 마지막에 위치 시킨 후 실행\n",
        " - 이 경우 output으로 변수의 값이 출력"
      ]
    },
    {
      "cell_type": "code",
      "metadata": {
        "colab": {
          "base_uri": "https://localhost:8080/"
        },
        "id": "RacXPxUrCP_C",
        "outputId": "a6e0d023-149f-49bb-e5f4-c507981d6470"
      },
      "source": [
        "a = 10\n",
        "b = 11.4\n",
        "a # print실행을 하지 않으면 마지막 b만 실행된다.\n",
        "b"
      ],
      "execution_count": 6,
      "outputs": [
        {
          "output_type": "execute_result",
          "data": {
            "text/plain": [
              "11.4"
            ]
          },
          "metadata": {
            "tags": []
          },
          "execution_count": 6
        }
      ]
    },
    {
      "cell_type": "markdown",
      "metadata": {
        "id": "NSDOtN-hCtiZ"
      },
      "source": [
        "**variable naming(변수 이름 규칙)**\n",
        "- 숫자로 시작하는 이름을 제외하고 영문 대소문자, _, 숫자로 구성가능\n",
        "- 아래의 예제는 모두 valid한 변수 이름\n",
        "- 일반적으로 해당 변수를 표현하고자 하는 정확하고 간결한 이름을 사용하는 것이 원칙\n",
        " - 코드를 읽은 것을 더 쉽게 할 수 있음\n",
        " - e.g)a = 1000의 경우보다 student_num = 1000로 명시한 것이 변수에 대한 이해가 빠름"
      ]
    },
    {
      "cell_type": "code",
      "metadata": {
        "id": "HLfeuIlnCscc"
      },
      "source": [
        "abcABC = 100\n",
        "_abc124 = 200\n",
        "ABC124 = 200\n",
        "a456BC = 100\n",
        "\n",
        "a = 200\n",
        "number_of_students = 200"
      ],
      "execution_count": 7,
      "outputs": []
    },
    {
      "cell_type": "markdown",
      "metadata": {
        "id": "8__n8ZiCEAg4"
      },
      "source": [
        "**invalid한 변수 이름에 예**\n",
        "- 숫자로 시작하면 안되는 이유는?"
      ]
    },
    {
      "cell_type": "code",
      "metadata": {
        "colab": {
          "base_uri": "https://localhost:8080/",
          "height": 134
        },
        "id": "iXzIPwkUDlje",
        "outputId": "d69b182b-8f75-4556-a33a-7ed3580ce2e2"
      },
      "source": [
        "4 = 9 # 값을 저장할수 없어서..."
      ],
      "execution_count": 8,
      "outputs": [
        {
          "output_type": "error",
          "ename": "SyntaxError",
          "evalue": "ignored",
          "traceback": [
            "\u001b[0;36m  File \u001b[0;32m\"<ipython-input-8-46b611c7eafc>\"\u001b[0;36m, line \u001b[0;32m1\u001b[0m\n\u001b[0;31m    4 = 9 # 값을 저장할수 없어서...\u001b[0m\n\u001b[0m                          ^\u001b[0m\n\u001b[0;31mSyntaxError\u001b[0m\u001b[0;31m:\u001b[0m can't assign to literal\n"
          ]
        }
      ]
    },
    {
      "cell_type": "markdown",
      "metadata": {
        "id": "uiPRP2qcEOpW"
      },
      "source": [
        "**reserved keywords(예약어)**\n",
        "- python에서 미리 선점하여 사용중인 키워드\n",
        "- 변수, 함수, 클래스 등등의 사용자 정의 이름으로 사용할 수 없음"
      ]
    },
    {
      "cell_type": "code",
      "metadata": {
        "colab": {
          "base_uri": "https://localhost:8080/",
          "height": 134
        },
        "id": "_NXHltAlENh9",
        "outputId": "ae740193-fa10-490d-bf4c-21abf2848a38"
      },
      "source": [
        "for\n",
        "while\n",
        "if\n",
        "elif\n",
        "class\n",
        "try\n",
        "except\n",
        "#...\n",
        "\n",
        "_class = 100\n",
        "print(_class) # 함수명은 사용이 안됨"
      ],
      "execution_count": 9,
      "outputs": [
        {
          "output_type": "error",
          "ename": "SyntaxError",
          "evalue": "ignored",
          "traceback": [
            "\u001b[0;36m  File \u001b[0;32m\"<ipython-input-9-fa485a3dcc80>\"\u001b[0;36m, line \u001b[0;32m1\u001b[0m\n\u001b[0;31m    for\u001b[0m\n\u001b[0m       ^\u001b[0m\n\u001b[0;31mSyntaxError\u001b[0m\u001b[0;31m:\u001b[0m invalid syntax\n"
          ]
        }
      ]
    },
    {
      "cell_type": "markdown",
      "metadata": {
        "id": "sSeGuhixE4Mc"
      },
      "source": [
        "**기본 데이터 타입**\n",
        "- 정수(int)\n",
        "- 실수(float)\n",
        "- 문자열(str)\n",
        "- 불리언(boolean)\n",
        "\n",
        "**type 함수**\n",
        "- 해당 변수, 값의 타입을 알고자 할 때 사용"
      ]
    },
    {
      "cell_type": "code",
      "metadata": {
        "colab": {
          "base_uri": "https://localhost:8080/"
        },
        "id": "sUoE_3JLEz1-",
        "outputId": "fa166aa0-3ca6-4458-f208-8ea7c23b95ff"
      },
      "source": [
        "a = 10\n",
        "b = 11.45\n",
        "\n",
        "type(b)"
      ],
      "execution_count": 10,
      "outputs": [
        {
          "output_type": "execute_result",
          "data": {
            "text/plain": [
              "float"
            ]
          },
          "metadata": {
            "tags": []
          },
          "execution_count": 10
        }
      ]
    },
    {
      "cell_type": "markdown",
      "metadata": {
        "id": "lIM0pgUqFewg"
      },
      "source": [
        "**comparison operator(비교 연산자)**\n",
        "- 프로그래밍에서는 비교를 할 경우, =대신 ==를 사용\n",
        "- <(작다), >(크다)\n",
        "- <=(작거나 같다), >=(크거나 같다)\n",
        "- ==같다\n",
        "- !=같지 않다\n",
        "- 비교 연산자의 결과는 bool 타입"
      ]
    },
    {
      "cell_type": "code",
      "metadata": {
        "colab": {
          "base_uri": "https://localhost:8080/"
        },
        "id": "NkmJEr02Fdnj",
        "outputId": "f52889c6-e17d-47d1-a733-8c5ae63edb10"
      },
      "source": [
        "a = 5\n",
        "b = 4\n",
        "\n",
        "print(a > b) # True\n",
        "print(a < b) # False\n",
        "print(a >= b) # True\n",
        "print(a <= b) # False\n",
        "print(a == b) # False\n",
        "print(a != b) # True\n",
        "# R과의 차이점은 r에서는 전부 대문자, 파이썬은 앞글자만 대문자\n",
        "c = a > b\n",
        "c = True\n",
        "print(type(c))\n",
        "print(c)"
      ],
      "execution_count": 11,
      "outputs": [
        {
          "output_type": "stream",
          "text": [
            "True\n",
            "False\n",
            "True\n",
            "False\n",
            "False\n",
            "True\n",
            "<class 'bool'>\n",
            "True\n"
          ],
          "name": "stdout"
        }
      ]
    },
    {
      "cell_type": "markdown",
      "metadata": {
        "id": "TkvsBy8AGUS8"
      },
      "source": [
        "**numbers (숫자형 타입)**\n",
        "- 정수, 실수로 구성\n",
        "- 수학의 기본 연산자(가감승제) 사용 가능"
      ]
    },
    {
      "cell_type": "code",
      "metadata": {
        "colab": {
          "base_uri": "https://localhost:8080/"
        },
        "id": "Pmo7tUChGO0g",
        "outputId": "e3fbf6f3-7ee5-4ec3-be61-91e2535f078a"
      },
      "source": [
        "a = 5\n",
        "b = 4\n",
        "\n",
        "print(a + b)\n",
        "print(a * b)\n",
        "print(a - b)\n",
        "print(a / b)\n",
        "print(a % b) # 나머지값(나누고 남은 값)\n",
        "print(a ** b) # 제곱\n"
      ],
      "execution_count": 12,
      "outputs": [
        {
          "output_type": "stream",
          "text": [
            "9\n",
            "20\n",
            "1\n",
            "1.25\n",
            "1\n",
            "625\n"
          ],
          "name": "stdout"
        }
      ]
    },
    {
      "cell_type": "markdown",
      "metadata": {
        "id": "qJnKavaxGo6Q"
      },
      "source": [
        "**operator priorities (연산자 우선순위)**\n",
        "- 기본적인 수학의 연산자와 동일\n",
        "- 강제로 연산을 선수하기 위해선, 괄호()를 사용"
      ]
    },
    {
      "cell_type": "code",
      "metadata": {
        "colab": {
          "base_uri": "https://localhost:8080/"
        },
        "id": "7bzC7QlGGg1x",
        "outputId": "b2d98b32-d2e1-4553-ed74-588582aa85c3"
      },
      "source": [
        "a = 5\n",
        "b = 4\n",
        "\n",
        "print(a + b *4)\n",
        "print((a + b) * 4)"
      ],
      "execution_count": 13,
      "outputs": [
        {
          "output_type": "stream",
          "text": [
            "21\n",
            "36\n"
          ],
          "name": "stdout"
        }
      ]
    },
    {
      "cell_type": "markdown",
      "metadata": {
        "id": "lBFPrj6JHE_h"
      },
      "source": [
        "**expression evaluation & assignment (식평가 & 대입)**\n",
        "- 변수의 값이 변경되기 위해서는 =를 사용하여 대입이 발생하는 경우에만 해당"
      ]
    },
    {
      "cell_type": "code",
      "metadata": {
        "colab": {
          "base_uri": "https://localhost:8080/"
        },
        "id": "EvE666P0G-RB",
        "outputId": "23bc516f-46ed-4272-98b5-23590b2ad0d3"
      },
      "source": [
        "a = 9\n",
        "a-3\n",
        "\n",
        "print(a) # 값을 할당하지 않아서 적용되지 않는다."
      ],
      "execution_count": 14,
      "outputs": [
        {
          "output_type": "stream",
          "text": [
            "9\n"
          ],
          "name": "stdout"
        }
      ]
    },
    {
      "cell_type": "code",
      "metadata": {
        "colab": {
          "base_uri": "https://localhost:8080/"
        },
        "id": "XKDfyrXoHWwD",
        "outputId": "f8e2e113-a1b5-4b1c-91b4-79acfaf4c646"
      },
      "source": [
        "a = 9\n",
        "t = a -3 # 값이 할당 되지 않음\n",
        "a = t # a = t 라는 값을 할당 받게 되어 계산됨\n",
        "\n",
        "print(a)"
      ],
      "execution_count": 16,
      "outputs": [
        {
          "output_type": "stream",
          "text": [
            "6\n"
          ],
          "name": "stdout"
        }
      ]
    },
    {
      "cell_type": "code",
      "metadata": {
        "colab": {
          "base_uri": "https://localhost:8080/"
        },
        "id": "2iyYj8fXHmNE",
        "outputId": "11f91951-e7cf-499d-9372-be4e4795aef9"
      },
      "source": [
        "a = 9\n",
        "a = a -3\n",
        "\n",
        "print(a)"
      ],
      "execution_count": 17,
      "outputs": [
        {
          "output_type": "stream",
          "text": [
            "6\n"
          ],
          "name": "stdout"
        }
      ]
    },
    {
      "cell_type": "code",
      "metadata": {
        "colab": {
          "base_uri": "https://localhost:8080/"
        },
        "id": "dSBuV1eCH7wX",
        "outputId": "6f54b913-1427-4810-ac99-04abfe230837"
      },
      "source": [
        "a = 9\n",
        "# a = a -3\n",
        "a **= 3\n",
        "print(a)"
      ],
      "execution_count": 18,
      "outputs": [
        {
          "output_type": "stream",
          "text": [
            "729\n"
          ],
          "name": "stdout"
        }
      ]
    },
    {
      "cell_type": "markdown",
      "metadata": {
        "id": "8xINaAtJIMot"
      },
      "source": [
        "## 문자열 타입의 이해\n",
        "\n",
        "**학습목표**\n",
        "1. 문자열(str) 타입 이해하기\n",
        "\n",
        "**string(문자열)**\n",
        "- 복수개의 문자를 순서대로 나열 한 것\n",
        "- 문자열을'혹은 \"사이에 문자를 넣어 생성\n",
        "- 문자열 자체에 ', \"가 있는 경우에는 각각 그 반대의 기호로 생성\n",
        "\n",
        "**''' '''사용하여 표현 가능**\n",
        "- 차이점\n",
        " - \",\"\"-> 한줄 문자열 표현\n",
        " - ''' '''->여러줄에 걸쳐 문자열 표현 가능"
      ]
    },
    {
      "cell_type": "code",
      "metadata": {
        "colab": {
          "base_uri": "https://localhost:8080/"
        },
        "id": "6tBPe8GtICP7",
        "outputId": "87e65ca4-2795-4c92-a19e-924b2a4a4b56"
      },
      "source": [
        "a = '\"Hello\" World'\n",
        "b = \"Hello' World\"\n",
        "\n",
        "print(a)\n",
        "print(b)"
      ],
      "execution_count": 21,
      "outputs": [
        {
          "output_type": "stream",
          "text": [
            "\"Hello\" World\n",
            "Hello' World\n"
          ],
          "name": "stdout"
        }
      ]
    },
    {
      "cell_type": "code",
      "metadata": {
        "colab": {
          "base_uri": "https://localhost:8080/"
        },
        "id": "gf4PJQWIJP4h",
        "outputId": "d61d35ec-7ac5-47f6-8b9f-14c92c1edd8b"
      },
      "source": [
        "c = '''Hello\n",
        "\n",
        "World'''\n",
        "\n",
        "d = \"\"\"Hello\n",
        "World\"\"\"\n",
        "\n",
        "print(c)\n",
        "print(d)"
      ],
      "execution_count": 22,
      "outputs": [
        {
          "output_type": "stream",
          "text": [
            "Hello\n",
            "\n",
            "World\n",
            "Hello\n",
            "World\n"
          ],
          "name": "stdout"
        }
      ]
    },
    {
      "cell_type": "markdown",
      "metadata": {
        "id": "miZ366xOKEuX"
      },
      "source": [
        "**escape string (이스케이프 문자)**\n",
        "- 문자열내의 일부 문자의 의미를 달리하여 ```특정한 효과```를 주는 것\n",
        "- ```\\n```: new line \n",
        "- ```\\t```: tab등"
      ]
    },
    {
      "cell_type": "code",
      "metadata": {
        "colab": {
          "base_uri": "https://localhost:8080/"
        },
        "id": "9twHcjmaKAt7",
        "outputId": "38c9cf99-ceed-4da4-9d52-103e27eac8e0"
      },
      "source": [
        "print('Hello World\\n\\n')\n",
        "print('ha\\thahaha')"
      ],
      "execution_count": 23,
      "outputs": [
        {
          "output_type": "stream",
          "text": [
            "Hello World\n",
            "\n",
            "\n",
            "ha\thahaha\n"
          ],
          "name": "stdout"
        }
      ]
    },
    {
      "cell_type": "markdown",
      "metadata": {
        "id": "eFnNCMHzKoyt"
      },
      "source": [
        "**indexing & slicing string (문자열 인덱스 및 추출)**\n",
        "- 문자열의 각 문자는 순서가 있음\n",
        "- 이때 각 문자열의 순서를 **인덱스** 하고 함\n",
        "- 첫번째 문자부터 마지막까지 차례대로의 순서를 가짐\n",
        "- 첫번째 시작문자의 순서는 0으로 시작(1이 아님)"
      ]
    },
    {
      "cell_type": "code",
      "metadata": {
        "colab": {
          "base_uri": "https://localhost:8080/"
        },
        "id": "z_1hvdC8KjNS",
        "outputId": "1afb7e04-c921-4104-c8d7-e82867f0b390"
      },
      "source": [
        "a = 'Hello World' # 길이: 11(뛰어 쓰기 포함)\n",
        "print(a[10]) # 인덱스 시작은 0부터"
      ],
      "execution_count": 24,
      "outputs": [
        {
          "output_type": "stream",
          "text": [
            "d\n"
          ],
          "name": "stdout"
        }
      ]
    },
    {
      "cell_type": "markdown",
      "metadata": {
        "id": "oEelN0kAMnER"
      },
      "source": [
        "**-1 인덱스**\n",
        "- 다른 언어와는 달리, python의 경우 음수 인덱스를 지원\n",
        "- -1이 가장 마지막 인덱스를, -2가 마지막에서 두번째 인덱스를 의미"
      ]
    },
    {
      "cell_type": "code",
      "metadata": {
        "colab": {
          "base_uri": "https://localhost:8080/"
        },
        "id": "EgqMVTNtMkC5",
        "outputId": "d329aeda-c036-4447-cf13-601b129f8f48"
      },
      "source": [
        "print(a[0])\n",
        "print(a[10])\n",
        "\n",
        "print(a[-1])\n",
        "print(a[-11])"
      ],
      "execution_count": 25,
      "outputs": [
        {
          "output_type": "stream",
          "text": [
            "H\n",
            "d\n",
            "d\n",
            "H\n"
          ],
          "name": "stdout"
        }
      ]
    },
    {
      "cell_type": "markdown",
      "metadata": {
        "id": "khj4M2PYNAoK"
      },
      "source": [
        "**인덱스의 범위**\n",
        "- 인덱스는 [0, 문자열의 길이]의 범위만 유효\n",
        "- 음수 인덱스를 사용할 경우, [-문자열의 길이, -1]\n",
        "- 범위를 넘어갈 경우 에러 발생"
      ]
    },
    {
      "cell_type": "code",
      "metadata": {
        "colab": {
          "base_uri": "https://localhost:8080/",
          "height": 186
        },
        "id": "HvHJBU7UNAWf",
        "outputId": "ea45aa1a-93e6-40f3-dcb8-7c496ce58f91"
      },
      "source": [
        "# print(a[11]) 인덱스 범위 초과\n",
        "print(a[-12]) # 인덱스 범위 초과"
      ],
      "execution_count": 27,
      "outputs": [
        {
          "output_type": "error",
          "ename": "IndexError",
          "evalue": "ignored",
          "traceback": [
            "\u001b[0;31m---------------------------------------------------------------------------\u001b[0m",
            "\u001b[0;31mIndexError\u001b[0m                                Traceback (most recent call last)",
            "\u001b[0;32m<ipython-input-27-0a1b9e38de5b>\u001b[0m in \u001b[0;36m<module>\u001b[0;34m()\u001b[0m\n\u001b[1;32m      1\u001b[0m \u001b[0;31m# print(a[11]) 인덱스 범위 초과\u001b[0m\u001b[0;34m\u001b[0m\u001b[0;34m\u001b[0m\u001b[0;34m\u001b[0m\u001b[0m\n\u001b[0;32m----> 2\u001b[0;31m \u001b[0mprint\u001b[0m\u001b[0;34m(\u001b[0m\u001b[0ma\u001b[0m\u001b[0;34m[\u001b[0m\u001b[0;34m-\u001b[0m\u001b[0;36m12\u001b[0m\u001b[0;34m]\u001b[0m\u001b[0;34m)\u001b[0m\u001b[0;34m\u001b[0m\u001b[0;34m\u001b[0m\u001b[0m\n\u001b[0m",
            "\u001b[0;31mIndexError\u001b[0m: string index out of range"
          ]
        }
      ]
    },
    {
      "cell_type": "markdown",
      "metadata": {
        "id": "AkXeTvt5NqFF"
      },
      "source": [
        "**문자열 slicing**\n",
        "- 인덱스가 하나의 문자만을 추출한다면, slicing은 부분 문자열을 추출한다고 볼 수 있음\n",
        "- [시작:끝]과 같이 명시하여 [시작,끝]에 해당하는 부분 문자열을 추출\n",
        "- 시작, 끝 인덱스가 생략되어 있다면, 0부터 혹은 끝까지로 간주"
      ]
    },
    {
      "cell_type": "code",
      "metadata": {
        "colab": {
          "base_uri": "https://localhost:8080/"
        },
        "id": "o3kCsLc2M-R-",
        "outputId": "c93e798e-437c-4b82-c7dd-74872b813111"
      },
      "source": [
        "a = 'Hello World'\n",
        "\n",
        "print(a[0:11])\n",
        "print(a[0:1])\n",
        "\n",
        "print(a[:5])\n",
        "print(a[3:])\n",
        "\n",
        "print(a[:])"
      ],
      "execution_count": 28,
      "outputs": [
        {
          "output_type": "stream",
          "text": [
            "Hello World\n",
            "H\n",
            "Hello\n",
            "lo World\n",
            "Hello World\n"
          ],
          "name": "stdout"
        }
      ]
    },
    {
      "cell_type": "markdown",
      "metadata": {
        "id": "gUBm7KekOeir"
      },
      "source": [
        "**문자열 함수**\n",
        "- 문자열은 여러가지 기능 제공을 위한 함수를 내장\n",
        "- 함수란 특정 기능을 하는 코드로 언제든지 호출하여 해당 기능을 사용 가능하도록 구성한 코드"
      ]
    },
    {
      "cell_type": "code",
      "metadata": {
        "colab": {
          "base_uri": "https://localhost:8080/",
          "height": 35
        },
        "id": "YBO9SYydObUZ",
        "outputId": "558f60e5-8c7a-4e13-ac35-ac9d8944675c"
      },
      "source": [
        "a = 'hello world'\n",
        "b = 'Hello World'\n",
        "a.upper() # 메서드, ex)'a를 upper해라'로 해석하면 편함 upper:모두 대문자로 만들어라\n",
        "b.lower() # lower:모두 소문자로 만들어라"
      ],
      "execution_count": 35,
      "outputs": [
        {
          "output_type": "execute_result",
          "data": {
            "application/vnd.google.colaboratory.intrinsic+json": {
              "type": "string"
            },
            "text/plain": [
              "'hello world'"
            ]
          },
          "metadata": {
            "tags": []
          },
          "execution_count": 35
        }
      ]
    },
    {
      "cell_type": "markdown",
      "metadata": {
        "id": "snEDzICCO64u"
      },
      "source": [
        "- replace\n",
        " - 문자열 내의 특정 문자를 치환"
      ]
    },
    {
      "cell_type": "code",
      "metadata": {
        "colab": {
          "base_uri": "https://localhost:8080/",
          "height": 35
        },
        "id": "gRwt-mqgOz_y",
        "outputId": "baec12e7-f65a-499c-8fbf-0944bb44297b"
      },
      "source": [
        "a = 'hello world'\n",
        "a.replace('h', 'j')"
      ],
      "execution_count": 30,
      "outputs": [
        {
          "output_type": "execute_result",
          "data": {
            "application/vnd.google.colaboratory.intrinsic+json": {
              "type": "string"
            },
            "text/plain": [
              "'jello world'"
            ]
          },
          "metadata": {
            "tags": []
          },
          "execution_count": 30
        }
      ]
    },
    {
      "cell_type": "code",
      "metadata": {
        "colab": {
          "base_uri": "https://localhost:8080/",
          "height": 35
        },
        "id": "d5Vlk_9RPJGg",
        "outputId": "1f6f54b2-7b5d-49d5-82de-fd2ad66511c0"
      },
      "source": [
        "a = 'hello world'\n",
        "a.replace('h', 'j'). replace('w', 'g') # 바꾸고자 하는 문자열을 찾아 수정"
      ],
      "execution_count": 34,
      "outputs": [
        {
          "output_type": "execute_result",
          "data": {
            "application/vnd.google.colaboratory.intrinsic+json": {
              "type": "string"
            },
            "text/plain": [
              "'jello gorld'"
            ]
          },
          "metadata": {
            "tags": []
          },
          "execution_count": 34
        }
      ]
    },
    {
      "cell_type": "markdown",
      "metadata": {
        "id": "7ZDszDqjP5iy"
      },
      "source": [
        "**format**\n",
        "- 문자열내의 특정한 값을 변수로부터 초기화하여 동적으로 문자열을 생성"
      ]
    },
    {
      "cell_type": "code",
      "metadata": {
        "colab": {
          "base_uri": "https://localhost:8080/"
        },
        "id": "PlsFrpzuPT0_",
        "outputId": "d988c613-c06f-4b97-c529-a21237cb5efc"
      },
      "source": [
        "temperature = 25.5\n",
        "prob = 80.0\n",
        "\n",
        "a = '오늘 기온{}도 이고, 비올 확률은 {}% 입니다.'.format(temperature, prob)\n",
        "print(a)"
      ],
      "execution_count": 36,
      "outputs": [
        {
          "output_type": "stream",
          "text": [
            "오늘 기온25.5도 이고, 비올 확률은 80.0% 입니다.\n"
          ],
          "name": "stdout"
        }
      ]
    },
    {
      "cell_type": "code",
      "metadata": {
        "colab": {
          "base_uri": "https://localhost:8080/"
        },
        "id": "BlPpvIPvQNb3",
        "outputId": "68e27785-8211-4e82-d400-fc71b7bc6bda"
      },
      "source": [
        "Temperature = 24.0\n",
        "Dust = '나쁨'\n",
        "\n",
        "b = '오늘 기온은 {}도 이고, 미세먼지는 {} 입니다'. format(Temperature, Dust)\n",
        "print(b)"
      ],
      "execution_count": 38,
      "outputs": [
        {
          "output_type": "stream",
          "text": [
            "오늘 기온은 24.0도 이고, 미세먼지는 나쁨 입니다\n"
          ],
          "name": "stdout"
        }
      ]
    },
    {
      "cell_type": "code",
      "metadata": {
        "colab": {
          "base_uri": "https://localhost:8080/"
        },
        "id": "RkzxgU7kQyOQ",
        "outputId": "829f59b3-b09d-4718-ceac-bf274bddf2be"
      },
      "source": [
        "c = '방일우'\n",
        "d = '평택'\n",
        "e = 29\n",
        "\n",
        "f = '나는 {} 입니다. 저는 {}에 살고 있고, 나이는 {}살 입니다.'. format(c, d, e)\n",
        "print(f)"
      ],
      "execution_count": 40,
      "outputs": [
        {
          "output_type": "stream",
          "text": [
            "나는 방일우 입니다. 저는 평택에 살고 있고, 나이는 29살 입니다.\n"
          ],
          "name": "stdout"
        }
      ]
    },
    {
      "cell_type": "markdown",
      "metadata": {
        "id": "tW3Gxa9lRVnE"
      },
      "source": [
        "**split**\n",
        "- 문자열을 특정한 문자로 구분하여 문자열의 리스트로 치환\n",
        "- 숫자열에 적용하기 위해서는 숫자를 문자형으로 변경"
      ]
    },
    {
      "cell_type": "code",
      "metadata": {
        "colab": {
          "base_uri": "https://localhost:8080/"
        },
        "id": "h6nahQeHQ4cZ",
        "outputId": "a343a068-27b1-4c75-ab90-566764f5ae61"
      },
      "source": [
        "a = 'hello world what a nice weather'\n",
        "a.split(' ') # 지정한 문자를 기준으로 끊어짐"
      ],
      "execution_count": 42,
      "outputs": [
        {
          "output_type": "execute_result",
          "data": {
            "text/plain": [
              "['hello', 'world', 'what', 'a', 'nice', 'weather']"
            ]
          },
          "metadata": {
            "tags": []
          },
          "execution_count": 42
        }
      ]
    },
    {
      "cell_type": "code",
      "metadata": {
        "colab": {
          "base_uri": "https://localhost:8080/"
        },
        "id": "QOE6wqV-Ro18",
        "outputId": "4b268956-226a-482b-a977-7dd518117347"
      },
      "source": [
        "b = 'bnagilwoo bangwooyhuen bangwoori bangdongwoo'\n",
        "b.split(' ')\n",
        "\n",
        "c = (\"123, 222, 124, 444, 111, 614, 714, 888, 912\")\n",
        "c.split(',')"
      ],
      "execution_count": 9,
      "outputs": [
        {
          "output_type": "execute_result",
          "data": {
            "text/plain": [
              "['123', ' 222', ' 124', ' 444', ' 111', ' 614', ' 714', ' 888', ' 912']"
            ]
          },
          "metadata": {
            "tags": []
          },
          "execution_count": 9
        }
      ]
    },
    {
      "cell_type": "markdown",
      "metadata": {
        "id": "HFeUECQVzT3i"
      },
      "source": [
        "## 컬렉션 타입의 이해\n",
        "\n",
        "**학습목표**\n",
        "1. list,tuple에 대해 이해 및 실습\n",
        "2. dictionary, set에 대해 이해 및 실습\n",
        "\n",
        "**리스트 & 튜플**\n",
        "- 복수개의 값을 담을 수 있는 데이터 구조\n",
        "- 실생활에서 사용하는 리스트(학생 리스트, 성정 리스트 등등)과 동일한 의미로 이해\n",
        "- list - mutable(생성된 후에 변경 가능)*\n",
        "- tuple - immutable(생성된 후에 변경 불가능)*\n",
        "\n",
        "**리스트 초기화**\n",
        "- []안에 값을 담아서 생성\n",
        "- list()함수로 생성\n",
        "- str.split()함수로 생성"
      ]
    },
    {
      "cell_type": "code",
      "metadata": {
        "colab": {
          "base_uri": "https://localhost:8080/"
        },
        "id": "YZ4keAP8CMSq",
        "outputId": "e5ca645b-6d0b-4dd8-eb68-e35ac36b1695"
      },
      "source": [
        "a = []\n",
        "print(a)"
      ],
      "execution_count": 10,
      "outputs": [
        {
          "output_type": "stream",
          "text": [
            "[]\n"
          ],
          "name": "stdout"
        }
      ]
    },
    {
      "cell_type": "code",
      "metadata": {
        "colab": {
          "base_uri": "https://localhost:8080/"
        },
        "id": "8ZhhDL-ozTfw",
        "outputId": "5c0edb39-f733-47de-af5a-bdd1b549c463"
      },
      "source": [
        "a = [1, 2, 3, 5, 10]\n",
        "#    0  1  2  3  4 \n",
        "print(a)"
      ],
      "execution_count": 11,
      "outputs": [
        {
          "output_type": "stream",
          "text": [
            "[1, 2, 3, 5, 10]\n"
          ],
          "name": "stdout"
        }
      ]
    },
    {
      "cell_type": "code",
      "metadata": {
        "colab": {
          "base_uri": "https://localhost:8080/"
        },
        "id": "JdiEj20USfZe",
        "outputId": "e87c8498-f360-433b-cf92-16e832a0aca1"
      },
      "source": [
        "a = ['korea', 'canada', 1, 23, [34, 56]]\n",
        "print(a)"
      ],
      "execution_count": 12,
      "outputs": [
        {
          "output_type": "stream",
          "text": [
            "['korea', 'canada', 1, 23, [34, 56]]\n"
          ],
          "name": "stdout"
        }
      ]
    },
    {
      "cell_type": "markdown",
      "metadata": {
        "id": "8lsW5v1uDXxC"
      },
      "source": [
        "**list()함수**\n",
        "- 다른 데이터 타입을 리스트로 변환할 때도 사용"
      ]
    },
    {
      "cell_type": "code",
      "metadata": {
        "colab": {
          "base_uri": "https://localhost:8080/"
        },
        "id": "bl6jr5oMDWz1",
        "outputId": "78481c7c-c0c9-45e2-8497-77fb610dda1f"
      },
      "source": [
        "a = 'hello world'\n",
        "b = list(a)\n",
        "print(b)\n",
        "\n",
        "c = (1, 2, 3, 4, 5)\n",
        "d = list(c)\n",
        "print(d)"
      ],
      "execution_count": 15,
      "outputs": [
        {
          "output_type": "stream",
          "text": [
            "['h', 'e', 'l', 'l', 'o', ' ', 'w', 'o', 'r', 'l', 'd']\n",
            "[1, 2, 3, 4, 5]\n"
          ],
          "name": "stdout"
        }
      ]
    },
    {
      "cell_type": "markdown",
      "metadata": {
        "id": "AJA1J6BqD0kS"
      },
      "source": [
        "**string split함수**\n",
        "- 구분자로 구분되는 리스트를 반환(빈번히 사용 됨)"
      ]
    },
    {
      "cell_type": "code",
      "metadata": {
        "colab": {
          "base_uri": "https://localhost:8080/"
        },
        "id": "_J3cUjanDo86",
        "outputId": "c25f528a-c353-4014-e859-ff081d26c82f"
      },
      "source": [
        "a = 'hello world nice weather'\n",
        "b = a.split()\n",
        "\n",
        "print(b)"
      ],
      "execution_count": 16,
      "outputs": [
        {
          "output_type": "stream",
          "text": [
            "['hello', 'world', 'nice', 'weather']\n"
          ],
          "name": "stdout"
        }
      ]
    },
    {
      "cell_type": "markdown",
      "metadata": {
        "id": "VJopPCBlELKU"
      },
      "source": [
        "**리스트 indexing**\n",
        "- 문자열의 인덱싱과 동일하게 동장\n",
        "- []연산자를 이용하여 항목 얻어오기\n",
        "- [i] - i번째 원소를 반환\n",
        "- i가 음수인 경우도 가능하며 마지막원소가 -1로 하여 앞으로 갈때마다 1씩 감소함"
      ]
    },
    {
      "cell_type": "code",
      "metadata": {
        "colab": {
          "base_uri": "https://localhost:8080/"
        },
        "id": "ER3pVV4EEE7q",
        "outputId": "d7c0e172-dcc7-48d5-f69f-85cb8088b38d"
      },
      "source": [
        "a = [1, 2, 3, 4, 5, 6]\n",
        "print(a[2])\n",
        "print(a[5])\n",
        "print(a[-1])"
      ],
      "execution_count": 17,
      "outputs": [
        {
          "output_type": "stream",
          "text": [
            "3\n",
            "6\n",
            "6\n"
          ],
          "name": "stdout"
        }
      ]
    },
    {
      "cell_type": "markdown",
      "metadata": {
        "id": "pkGVyqssEu1y"
      },
      "source": [
        "**리스트 개별 아이템에 접근**\n",
        "- 인덱스에 접근하여 값을 업데이트 가능"
      ]
    },
    {
      "cell_type": "code",
      "metadata": {
        "colab": {
          "base_uri": "https://localhost:8080/"
        },
        "id": "mXO1hxkZEqQy",
        "outputId": "cd249f50-242f-42db-b866-5d8c6ca64077"
      },
      "source": [
        "# 불변(immutable)\n",
        "a = 'hello world'\n",
        "print(a[0])\n",
        "\n",
        "b = 'jello world'\n",
        "c = 'j' + a[1:]\n",
        "\n",
        "d = a.replace('h', 'j')\n",
        "print(d)\n",
        "print(a)"
      ],
      "execution_count": 20,
      "outputs": [
        {
          "output_type": "stream",
          "text": [
            "h\n",
            "jello world\n",
            "hello world\n"
          ],
          "name": "stdout"
        }
      ]
    },
    {
      "cell_type": "code",
      "metadata": {
        "colab": {
          "base_uri": "https://localhost:8080/"
        },
        "id": "YvCGduadFi3Q",
        "outputId": "fc74f3a9-40f0-48c3-d978-8bc01f725dab"
      },
      "source": [
        "a = [1, 2, 3, 4, 5] # list는 아래와 같이 수정 가능\n",
        "a[0] = 100\n",
        "a[-1] = 90\n",
        "\n",
        "print(a)"
      ],
      "execution_count": 21,
      "outputs": [
        {
          "output_type": "stream",
          "text": [
            "[100, 2, 3, 4, 90]\n"
          ],
          "name": "stdout"
        }
      ]
    },
    {
      "cell_type": "markdown",
      "metadata": {
        "id": "cQJJdjVrGViP"
      },
      "source": [
        "**리스트 slicing**\n",
        "- 문자열 슬라이싱과 동일하게 동작\n",
        "- 슬라이싱의 결과 역시 list!"
      ]
    },
    {
      "cell_type": "code",
      "metadata": {
        "colab": {
          "base_uri": "https://localhost:8080/"
        },
        "id": "EgdXHbMIGTV_",
        "outputId": "473bb790-ae32-4fb6-b7e9-d5898a9c1fd8"
      },
      "source": [
        "a = [1, 2, 3, 4, 5, 5, 6, 7, 8]\n",
        "print(a[4:7])\n",
        "print(a[:7])\n",
        "print(a[3:])\n",
        "print(a[:])\n",
        "\n",
        "a[1:7]"
      ],
      "execution_count": 22,
      "outputs": [
        {
          "output_type": "stream",
          "text": [
            "[5, 5, 6]\n",
            "[1, 2, 3, 4, 5, 5, 6]\n",
            "[4, 5, 5, 6, 7, 8]\n",
            "[1, 2, 3, 4, 5, 5, 6, 7, 8]\n"
          ],
          "name": "stdout"
        },
        {
          "output_type": "execute_result",
          "data": {
            "text/plain": [
              "[2, 3, 4, 5, 5, 6]"
            ]
          },
          "metadata": {
            "tags": []
          },
          "execution_count": 22
        }
      ]
    },
    {
      "cell_type": "markdown",
      "metadata": {
        "id": "SY2SkrT7HDyd"
      },
      "source": [
        "**list 멤버 함수**\n",
        "- 생성된 리스트 객체에 동작하는 함수\n",
        "\n",
        "- **append()**\n",
        " - 리스트의 끝에 항목을 추가함"
      ]
    },
    {
      "cell_type": "code",
      "metadata": {
        "colab": {
          "base_uri": "https://localhost:8080/"
        },
        "id": "ssQRnJTnG3N_",
        "outputId": "51ad4e49-1cac-453e-bf18-242ba5c9124e"
      },
      "source": [
        "a = [1, 2, 3, 4, 5]\n",
        "a.append(10)\n",
        "\n",
        "print(a)"
      ],
      "execution_count": 23,
      "outputs": [
        {
          "output_type": "stream",
          "text": [
            "[1, 2, 3, 4, 5, 10]\n"
          ],
          "name": "stdout"
        }
      ]
    },
    {
      "cell_type": "markdown",
      "metadata": {
        "id": "P0x-VFPKHp1p"
      },
      "source": [
        "- **extend()**\n",
        " - 리스트를 연장\n",
        " - +=로도 가능함"
      ]
    },
    {
      "cell_type": "code",
      "metadata": {
        "colab": {
          "base_uri": "https://localhost:8080/"
        },
        "id": "xic4fMORHncW",
        "outputId": "04cb7fbc-c737-4e9a-ddfc-e422b8cd6549"
      },
      "source": [
        "a = [1, 2, 3, 4, 5]\n",
        "b = [6, 7, 8, 9, 10]\n",
        "\n",
        "# [1, 2, 3, 4, 5, 6, 7, 8, 9, 10]\n",
        "\n",
        "a.extend(b)\n",
        "# a += b \n",
        "print(a)"
      ],
      "execution_count": 30,
      "outputs": [
        {
          "output_type": "stream",
          "text": [
            "[1, 2, 3, 4, 5, 6, 7, 8, 9, 10]\n"
          ],
          "name": "stdout"
        }
      ]
    },
    {
      "cell_type": "markdown",
      "metadata": {
        "id": "thHKqB6kHf4L"
      },
      "source": [
        "- **insert()로 항목추가**\n",
        " - 리스트의 원하는 위치에 추가 가능\n",
        " - 앞에 인덱스를, 뒤에 아이템을 명시"
      ]
    },
    {
      "cell_type": "code",
      "metadata": {
        "colab": {
          "base_uri": "https://localhost:8080/"
        },
        "id": "0-e9B4ayHaqM",
        "outputId": "41741faf-6226-4c2b-e359-866765bed796"
      },
      "source": [
        "a =[1, 3, 4, 5, 6]\n",
        "a.insert(1, 40) # 원하는 위치에 넣도 뒷 숫자는 밀림\n",
        "print(a)"
      ],
      "execution_count": 31,
      "outputs": [
        {
          "output_type": "stream",
          "text": [
            "[1, 40, 3, 4, 5, 6]\n"
          ],
          "name": "stdout"
        }
      ]
    },
    {
      "cell_type": "markdown",
      "metadata": {
        "id": "qVe07Z5DI8t3"
      },
      "source": [
        "- **remove()**\n",
        " - 값으로 항목 삭제"
      ]
    },
    {
      "cell_type": "code",
      "metadata": {
        "colab": {
          "base_uri": "https://localhost:8080/"
        },
        "id": "gv0oORIzI2_V",
        "outputId": "df8a904c-6790-4382-94a6-696c0671679c"
      },
      "source": [
        "a = [1, 30, 2, 30, 4, 5, 9]\n",
        "a.remove(30) # 지정한 삭제, 단 중복값인 경우 앞에 값부터 삭제\n",
        "print(a)"
      ],
      "execution_count": 34,
      "outputs": [
        {
          "output_type": "stream",
          "text": [
            "[1, 2, 30, 30, 4, 5, 9]\n"
          ],
          "name": "stdout"
        }
      ]
    },
    {
      "cell_type": "markdown",
      "metadata": {
        "id": "gdbEbseRJbW2"
      },
      "source": [
        "- **pop()**\n",
        " - 지우고자 하는 아이템을 반환 후, 삭제\n"
      ]
    },
    {
      "cell_type": "code",
      "metadata": {
        "colab": {
          "base_uri": "https://localhost:8080/"
        },
        "id": "Zf2wJWsIJJI0",
        "outputId": "a4a1cb43-2478-452a-e6cc-703a703ceffd"
      },
      "source": [
        "a = [1, 2, 3, 4, 5]\n",
        "d = a.pop(2) # 삭제하고 변수로 뺄수 있음\n",
        "print(a)\n",
        "print(d)"
      ],
      "execution_count": 36,
      "outputs": [
        {
          "output_type": "stream",
          "text": [
            "[1, 2, 4, 5]\n",
            "3\n"
          ],
          "name": "stdout"
        }
      ]
    },
    {
      "cell_type": "markdown",
      "metadata": {
        "id": "W5wbk71_J3yX"
      },
      "source": [
        "- **index()***\n",
        " - 찾고자 하는 값의 인덱스 변환"
      ]
    },
    {
      "cell_type": "code",
      "metadata": {
        "colab": {
          "base_uri": "https://localhost:8080/"
        },
        "id": "z4Ma6h2TJxZH",
        "outputId": "1b1d6b2b-286e-49b9-e005-cd93d013e101"
      },
      "source": [
        "a = [2, 6, 7, 9, 10]\n",
        "a.index(9) # 숫자 9는 3번째 인덱스에 위치"
      ],
      "execution_count": 37,
      "outputs": [
        {
          "output_type": "execute_result",
          "data": {
            "text/plain": [
              "3"
            ]
          },
          "metadata": {
            "tags": []
          },
          "execution_count": 37
        }
      ]
    },
    {
      "cell_type": "code",
      "metadata": {
        "colab": {
          "base_uri": "https://localhost:8080/"
        },
        "id": "lzF9xWbeKDii",
        "outputId": "6adc48c6-969c-4ef5-e9ed-eb2dc7bb41c9"
      },
      "source": [
        "b = ['월', '화', '수', '목', '금', '토', '일']\n",
        "b.index('화')"
      ],
      "execution_count": 38,
      "outputs": [
        {
          "output_type": "execute_result",
          "data": {
            "text/plain": [
              "1"
            ]
          },
          "metadata": {
            "tags": []
          },
          "execution_count": 38
        }
      ]
    },
    {
      "cell_type": "markdown",
      "metadata": {
        "id": "eRuZPm9AKho0"
      },
      "source": [
        "- **in 키워드** \n",
        " - R내의 %in%과 같음\n",
        " - 리스트 내에 해당 값이 존재하는지 확인\n",
        " - value in [list]\n",
        " - True, False 중 한가지로 반환"
      ]
    },
    {
      "cell_type": "code",
      "metadata": {
        "colab": {
          "base_uri": "https://localhost:8080/"
        },
        "id": "uqn9Cq6SKgd2",
        "outputId": "6c95b5c4-0bd5-401b-c51d-4bb0d2dc47cc"
      },
      "source": [
        "a = [1, 2, 3, 4, 5, 10]\n",
        "b = 10\n",
        "\n",
        "c = b in a # a안에 b가 있나요? True\n",
        "print(c)"
      ],
      "execution_count": 39,
      "outputs": [
        {
          "output_type": "stream",
          "text": [
            "True\n"
          ],
          "name": "stdout"
        }
      ]
    },
    {
      "cell_type": "markdown",
      "metadata": {
        "id": "bvA6FCu4LeCk"
      },
      "source": [
        "- **list정렬**\n",
        " - sort() -> 리스트 자체를 내부적으로 정렬\n",
        " - sorted() -> 리스트의 정렬된 복사본을 반환"
      ]
    },
    {
      "cell_type": "code",
      "metadata": {
        "colab": {
          "base_uri": "https://localhost:8080/"
        },
        "id": "LLic-WQcLXI5",
        "outputId": "97e40b80-b50a-46ce-aee4-2ad226778ece"
      },
      "source": [
        "a = [9, 10, 7, 19, 1, 2, 20, 21, 7, 8]\n",
        "a.sort(reverse = True) # reverse로 내림차순으로 정렬\n",
        "print(a)\n",
        "b = sorted(a) \n",
        "print(b)"
      ],
      "execution_count": 41,
      "outputs": [
        {
          "output_type": "stream",
          "text": [
            "[21, 20, 19, 10, 9, 8, 7, 7, 2, 1]\n",
            "[1, 2, 7, 7, 8, 9, 10, 19, 20, 21]\n"
          ],
          "name": "stdout"
        }
      ]
    },
    {
      "cell_type": "code",
      "metadata": {
        "colab": {
          "base_uri": "https://localhost:8080/"
        },
        "id": "Kru1XJXkMGMS",
        "outputId": "366a51c5-5024-47e5-8d24-221b7fd8ebf9"
      },
      "source": [
        "c = [3, 4, 7, 8, 2, 1, 3, 5, 0, 12, 45]\n",
        "c.sort(reverse = True) # 리스트 내부 정렬에서 역순 정렬\n",
        "d = sorted(c, reverse = True) # 복사된 사본을 출력할때 역순으로 정렬\n",
        "print(c)\n",
        "print(d)"
      ],
      "execution_count": 42,
      "outputs": [
        {
          "output_type": "stream",
          "text": [
            "[45, 12, 8, 7, 5, 4, 3, 3, 2, 1, 0]\n",
            "[45, 12, 8, 7, 5, 4, 3, 3, 2, 1, 0]\n"
          ],
          "name": "stdout"
        }
      ]
    },
    {
      "cell_type": "code",
      "metadata": {
        "colab": {
          "base_uri": "https://localhost:8080/"
        },
        "id": "t3414RUNMtkQ",
        "outputId": "1ac65dcc-4cb4-40b6-d076-f428f35824e4"
      },
      "source": [
        "e = [1, 3, 65, 8, 4, 12, 54, 22, 9, 8]\n",
        "e.sort()\n",
        "f = sorted(e, reverse = True) # 복사된 사본만 역순으로 출력\n",
        "print(e)\n",
        "print(f)"
      ],
      "execution_count": 43,
      "outputs": [
        {
          "output_type": "stream",
          "text": [
            "[1, 3, 4, 8, 8, 9, 12, 22, 54, 65]\n",
            "[65, 54, 22, 12, 9, 8, 8, 4, 3, 1]\n"
          ],
          "name": "stdout"
        }
      ]
    },
    {
      "cell_type": "markdown",
      "metadata": {
        "id": "MiI0b-4SNSug"
      },
      "source": [
        "**tuple**\n",
        "- 리스트와 같이 복수개의 값을 갖는 컬렉션 타입\n",
        "- 생성된 후 변경이 불가능"
      ]
    },
    {
      "cell_type": "code",
      "metadata": {
        "colab": {
          "base_uri": "https://localhost:8080/",
          "height": 239
        },
        "id": "JOz4wGdkNLkO",
        "outputId": "f9388c1e-b6ae-4ea9-b04d-8f42aa1adbd8"
      },
      "source": [
        "a = [1, 2, 3]\n",
        "b = (1, 2, 3) #tuple 값은 변경이 불가, 변경을 위해서는 입력 값을 변경해야 한다.\n",
        "\n",
        "# print(a)\n",
        "# print(b)\n",
        "\n",
        "a[0] = 100\n",
        "print(a)\n",
        "\n",
        "b[O] = 100\n",
        "print(b) # 변환이 되지 않아서 아래와 같은 에러값이 발생"
      ],
      "execution_count": 49,
      "outputs": [
        {
          "output_type": "stream",
          "text": [
            "[100, 2, 3]\n"
          ],
          "name": "stdout"
        },
        {
          "output_type": "error",
          "ename": "NameError",
          "evalue": "ignored",
          "traceback": [
            "\u001b[0;31m---------------------------------------------------------------------------\u001b[0m",
            "\u001b[0;31mNameError\u001b[0m                                 Traceback (most recent call last)",
            "\u001b[0;32m<ipython-input-49-7641214f334d>\u001b[0m in \u001b[0;36m<module>\u001b[0;34m()\u001b[0m\n\u001b[1;32m      8\u001b[0m \u001b[0mprint\u001b[0m\u001b[0;34m(\u001b[0m\u001b[0ma\u001b[0m\u001b[0;34m)\u001b[0m\u001b[0;34m\u001b[0m\u001b[0;34m\u001b[0m\u001b[0m\n\u001b[1;32m      9\u001b[0m \u001b[0;34m\u001b[0m\u001b[0m\n\u001b[0;32m---> 10\u001b[0;31m \u001b[0mb\u001b[0m\u001b[0;34m[\u001b[0m\u001b[0mO\u001b[0m\u001b[0;34m]\u001b[0m \u001b[0;34m=\u001b[0m \u001b[0;36m100\u001b[0m\u001b[0;34m\u001b[0m\u001b[0;34m\u001b[0m\u001b[0m\n\u001b[0m\u001b[1;32m     11\u001b[0m \u001b[0mprint\u001b[0m\u001b[0;34m(\u001b[0m\u001b[0mb\u001b[0m\u001b[0;34m)\u001b[0m\u001b[0;34m\u001b[0m\u001b[0;34m\u001b[0m\u001b[0m\n",
            "\u001b[0;31mNameError\u001b[0m: name 'O' is not defined"
          ]
        }
      ]
    },
    {
      "cell_type": "markdown",
      "metadata": {
        "id": "DU8xzCJlOGgM"
      },
      "source": [
        "**tuple unpacking**\n",
        "- 튜플의 값을 차례대로 변수에 대입"
      ]
    },
    {
      "cell_type": "code",
      "metadata": {
        "colab": {
          "base_uri": "https://localhost:8080/"
        },
        "id": "bxr3Gv3sNvbh",
        "outputId": "f84c15d2-2e45-4db3-a8b1-f55bc1149b18"
      },
      "source": [
        "a, b, c, d = 100, 200, 300, 400\n",
        "print(a, b, c, d)"
      ],
      "execution_count": 50,
      "outputs": [
        {
          "output_type": "stream",
          "text": [
            "100 200 300 400\n"
          ],
          "name": "stdout"
        }
      ]
    },
    {
      "cell_type": "code",
      "metadata": {
        "colab": {
          "base_uri": "https://localhost:8080/",
          "height": 186
        },
        "id": "GKCfIaTlOWnL",
        "outputId": "e47ddba6-d011-4554-82d5-0d9d443076fc"
      },
      "source": [
        "a, b, c, d = 200, 300, 400, 500\n",
        "print[a, b, c, d] # list는 tuple 같이 그룹적용이 안됨"
      ],
      "execution_count": 51,
      "outputs": [
        {
          "output_type": "error",
          "ename": "TypeError",
          "evalue": "ignored",
          "traceback": [
            "\u001b[0;31m---------------------------------------------------------------------------\u001b[0m",
            "\u001b[0;31mTypeError\u001b[0m                                 Traceback (most recent call last)",
            "\u001b[0;32m<ipython-input-51-4a5295b68595>\u001b[0m in \u001b[0;36m<module>\u001b[0;34m()\u001b[0m\n\u001b[1;32m      1\u001b[0m \u001b[0ma\u001b[0m\u001b[0;34m,\u001b[0m \u001b[0mb\u001b[0m\u001b[0;34m,\u001b[0m \u001b[0mc\u001b[0m\u001b[0;34m,\u001b[0m \u001b[0md\u001b[0m \u001b[0;34m=\u001b[0m \u001b[0;36m200\u001b[0m\u001b[0;34m,\u001b[0m \u001b[0;36m300\u001b[0m\u001b[0;34m,\u001b[0m \u001b[0;36m400\u001b[0m\u001b[0;34m,\u001b[0m \u001b[0;36m500\u001b[0m\u001b[0;34m\u001b[0m\u001b[0;34m\u001b[0m\u001b[0m\n\u001b[0;32m----> 2\u001b[0;31m \u001b[0mprint\u001b[0m\u001b[0;34m[\u001b[0m\u001b[0ma\u001b[0m\u001b[0;34m,\u001b[0m \u001b[0mb\u001b[0m\u001b[0;34m,\u001b[0m \u001b[0mc\u001b[0m\u001b[0;34m,\u001b[0m \u001b[0md\u001b[0m\u001b[0;34m]\u001b[0m\u001b[0;34m\u001b[0m\u001b[0;34m\u001b[0m\u001b[0m\n\u001b[0m",
            "\u001b[0;31mTypeError\u001b[0m: 'builtin_function_or_method' object is not subscriptable"
          ]
        }
      ]
    },
    {
      "cell_type": "markdown",
      "metadata": {
        "id": "FMKhigpNOr7v"
      },
      "source": [
        "- 연습문제\n",
        " - a와 b의 값을 교환하시오"
      ]
    },
    {
      "cell_type": "code",
      "metadata": {
        "colab": {
          "base_uri": "https://localhost:8080/",
          "height": 239
        },
        "id": "iKvrwWnHOfNc",
        "outputId": "f73ee91b-4cc7-46d8-cc4e-162e88685c0b"
      },
      "source": [
        "# swop기능, 값을 a, b의 값을 바꿀때 사용\n",
        "a = 5\n",
        "b = 4\n",
        "print(a, b)\n",
        "\n",
        "# logic\n",
        "# temp = a\n",
        "# a = b\n",
        "# b = temp\n",
        "a, b = b, a\n",
        "print(a, b)\n",
        "print[a, b] # swop기능은 tuple형식으로만 가능"
      ],
      "execution_count": 54,
      "outputs": [
        {
          "output_type": "stream",
          "text": [
            "5 4\n",
            "4 5\n"
          ],
          "name": "stdout"
        },
        {
          "output_type": "error",
          "ename": "TypeError",
          "evalue": "ignored",
          "traceback": [
            "\u001b[0;31m---------------------------------------------------------------------------\u001b[0m",
            "\u001b[0;31mTypeError\u001b[0m                                 Traceback (most recent call last)",
            "\u001b[0;32m<ipython-input-54-bc8f83a8e9ff>\u001b[0m in \u001b[0;36m<module>\u001b[0;34m()\u001b[0m\n\u001b[1;32m     10\u001b[0m \u001b[0ma\u001b[0m\u001b[0;34m,\u001b[0m \u001b[0mb\u001b[0m \u001b[0;34m=\u001b[0m \u001b[0mb\u001b[0m\u001b[0;34m,\u001b[0m \u001b[0ma\u001b[0m\u001b[0;34m\u001b[0m\u001b[0;34m\u001b[0m\u001b[0m\n\u001b[1;32m     11\u001b[0m \u001b[0mprint\u001b[0m\u001b[0;34m(\u001b[0m\u001b[0ma\u001b[0m\u001b[0;34m,\u001b[0m \u001b[0mb\u001b[0m\u001b[0;34m)\u001b[0m\u001b[0;34m\u001b[0m\u001b[0;34m\u001b[0m\u001b[0m\n\u001b[0;32m---> 12\u001b[0;31m \u001b[0mprint\u001b[0m\u001b[0;34m[\u001b[0m\u001b[0ma\u001b[0m\u001b[0;34m,\u001b[0m \u001b[0mb\u001b[0m\u001b[0;34m]\u001b[0m\u001b[0;34m\u001b[0m\u001b[0;34m\u001b[0m\u001b[0m\n\u001b[0m",
            "\u001b[0;31mTypeError\u001b[0m: 'builtin_function_or_method' object is not subscriptable"
          ]
        }
      ]
    },
    {
      "cell_type": "markdown",
      "metadata": {
        "id": "Pq2G_K8gPqzg"
      },
      "source": [
        "**dictionary**\n",
        "- 키와 값을 갖는 데이터 구조\n",
        "- 키는 내부적으로 hash값으로 저장\n",
        "- 순서를 따지지 않음, 즈, 인덱스가 없음"
      ]
    },
    {
      "cell_type": "code",
      "metadata": {
        "colab": {
          "base_uri": "https://localhost:8080/",
          "height": 204
        },
        "id": "JJmIr71aPqfD",
        "outputId": "81aee195-f7aa-421d-d6da-7c7fb2c7fdf7"
      },
      "source": [
        "a = {'korea': 'seoul',\n",
        "     'canada': 'ottawa',\n",
        "     'usa': 'washington D.C'}\n",
        "b = {0:1, 1:6, 7:9, 8:10}\n",
        "print(b[2]) # key erro는 입력 값을 못 가져온다는 뜻"
      ],
      "execution_count": 55,
      "outputs": [
        {
          "output_type": "error",
          "ename": "KeyError",
          "evalue": "ignored",
          "traceback": [
            "\u001b[0;31m---------------------------------------------------------------------------\u001b[0m",
            "\u001b[0;31mKeyError\u001b[0m                                  Traceback (most recent call last)",
            "\u001b[0;32m<ipython-input-55-7bbd8b29761a>\u001b[0m in \u001b[0;36m<module>\u001b[0;34m()\u001b[0m\n\u001b[1;32m      3\u001b[0m      'usa': 'washington D.C'}\n\u001b[1;32m      4\u001b[0m \u001b[0mb\u001b[0m \u001b[0;34m=\u001b[0m \u001b[0;34m{\u001b[0m\u001b[0;36m0\u001b[0m\u001b[0;34m:\u001b[0m\u001b[0;36m1\u001b[0m\u001b[0;34m,\u001b[0m \u001b[0;36m1\u001b[0m\u001b[0;34m:\u001b[0m\u001b[0;36m6\u001b[0m\u001b[0;34m,\u001b[0m \u001b[0;36m7\u001b[0m\u001b[0;34m:\u001b[0m\u001b[0;36m9\u001b[0m\u001b[0;34m,\u001b[0m \u001b[0;36m8\u001b[0m\u001b[0;34m:\u001b[0m\u001b[0;36m10\u001b[0m\u001b[0;34m}\u001b[0m\u001b[0;34m\u001b[0m\u001b[0;34m\u001b[0m\u001b[0m\n\u001b[0;32m----> 5\u001b[0;31m \u001b[0mprint\u001b[0m\u001b[0;34m(\u001b[0m\u001b[0mb\u001b[0m\u001b[0;34m[\u001b[0m\u001b[0;36m2\u001b[0m\u001b[0;34m]\u001b[0m\u001b[0;34m)\u001b[0m\u001b[0;34m\u001b[0m\u001b[0;34m\u001b[0m\u001b[0m\n\u001b[0m",
            "\u001b[0;31mKeyError\u001b[0m: 2"
          ]
        }
      ]
    },
    {
      "cell_type": "code",
      "metadata": {
        "colab": {
          "base_uri": "https://localhost:8080/"
        },
        "id": "V9oylAk6O6FE",
        "outputId": "e5ce51a1-7292-40e6-8065-7640504ef8ba"
      },
      "source": [
        "temp = {\n",
        "    '서울': '두산',\n",
        "    '인천': 'sk',\n",
        "    '수원': 'kt'}\n",
        "print(temp['서울'])"
      ],
      "execution_count": 57,
      "outputs": [
        {
          "output_type": "stream",
          "text": [
            "두산\n"
          ],
          "name": "stdout"
        }
      ]
    },
    {
      "cell_type": "markdown",
      "metadata": {
        "id": "gYu0eUS_Q5yK"
      },
      "source": [
        "- **항목 추가 및 변경**\n",
        " - 기존에 키가 존재 하면, 새로운 값으로 업데이트\n",
        " - 존재하지 않으면, 새로운 키, 값 생성"
      ]
    },
    {
      "cell_type": "code",
      "metadata": {
        "colab": {
          "base_uri": "https://localhost:8080/"
        },
        "id": "XeR3uOoAQ1_6",
        "outputId": "e1008d38-ff8c-4e8d-b953-68a9e3942d3b"
      },
      "source": [
        "a = {'Korea': 'Seoul',\n",
        "     'Canada': 'Ottawa',\n",
        "     'USA': 'Washington D.C'}\n",
        "\n",
        "a['Japan'] = 'Kyoto'\n",
        "a['Japan'] = 'Tokyo'\n",
        "a['China'] = 'Beijing'\n",
        "\n",
        "print(a)"
      ],
      "execution_count": 59,
      "outputs": [
        {
          "output_type": "stream",
          "text": [
            "{'Korea': 'Seoul', 'Canada': 'Ottawa', 'USA': 'Washington D.C', 'Japan': 'Tokyo', 'China': 'Beijing'}\n"
          ],
          "name": "stdout"
        }
      ]
    },
    {
      "cell_type": "markdown",
      "metadata": {
        "id": "mOiwFG7OR7mv"
      },
      "source": [
        "- **update**\n",
        " - 두 딕셔너리를 병합함\n",
        " - 겹치는 키가 있다면 parameter로 전달되는 키 값이 overwrite된다. # overwrite: 덮어쓰기 "
      ]
    },
    {
      "cell_type": "code",
      "metadata": {
        "colab": {
          "base_uri": "https://localhost:8080/"
        },
        "id": "vj08CBnAR3NC",
        "outputId": "47d1ee4f-8daf-4464-84f1-cb04e59488eb"
      },
      "source": [
        "a = {'a':1, 'b':2, 'c':3}\n",
        "b = {'a':2, 'd':4, 'e':5}\n",
        "\n",
        "a.update(b)\n",
        "\n",
        "print(a)"
      ],
      "execution_count": 2,
      "outputs": [
        {
          "output_type": "stream",
          "text": [
            "{'a': 2, 'b': 2, 'c': 3, 'd': 4, 'e': 5}\n"
          ],
          "name": "stdout"
        }
      ]
    },
    {
      "cell_type": "markdown",
      "metadata": {
        "id": "VClyWrTNs89G"
      },
      "source": [
        "- **key삭제**\n",
        " - del키워드 사용\n",
        " - pop함수 이용"
      ]
    },
    {
      "cell_type": "code",
      "metadata": {
        "colab": {
          "base_uri": "https://localhost:8080/"
        },
        "id": "-tMl12eds1DT",
        "outputId": "d02232c7-6a53-46cc-e46b-5e61532d40f9"
      },
      "source": [
        "a = {'a':1, 'b':2, 'c':3}\n",
        "print(a)\n",
        "\n",
        "# a.pop('b')\n",
        "del a['b']\n",
        "print(a)"
      ],
      "execution_count": 4,
      "outputs": [
        {
          "output_type": "stream",
          "text": [
            "{'a': 1, 'b': 2, 'c': 3}\n",
            "{'a': 1, 'c': 3}\n"
          ],
          "name": "stdout"
        }
      ]
    },
    {
      "cell_type": "markdown",
      "metadata": {
        "id": "eUnODIzStWQq"
      },
      "source": [
        "- **clear()**\n",
        " - 딕셔너리의 모든 값을 초기화"
      ]
    },
    {
      "cell_type": "code",
      "metadata": {
        "colab": {
          "base_uri": "https://localhost:8080/"
        },
        "id": "F82flpKqtK8B",
        "outputId": "c25a775b-332c-4ff2-fe3d-f1b99e6c8da7"
      },
      "source": [
        "print(a)\n",
        "a.clear()\n",
        "print(a)"
      ],
      "execution_count": 5,
      "outputs": [
        {
          "output_type": "stream",
          "text": [
            "{'a': 1, 'c': 3}\n",
            "{}\n"
          ],
          "name": "stdout"
        }
      ]
    },
    {
      "cell_type": "markdown",
      "metadata": {
        "id": "YIzAasBfthDH"
      },
      "source": [
        "- **in**\n",
        " - key값 존재 확인\n",
        " - O(1)연사 - 딕셔너리의 크기와 관계없이 항상 연산의 속도가 일정하다는 의미"
      ]
    },
    {
      "cell_type": "code",
      "metadata": {
        "colab": {
          "base_uri": "https://localhost:8080/"
        },
        "id": "CgQlGcoWtf51",
        "outputId": "0bff8d0c-98ad-4373-d59f-8c760158f04b"
      },
      "source": [
        "a = {'a':1, 'b':2, 'c':3}\n",
        "b = [1, 2, 3, 4, 5, 6, 7, 9, 10, 100]\n",
        "\n",
        "print(100 in b)\n",
        "print(2 in a) # value값을 지정하면 못 찾음\n",
        "print('b' in a) # key값을 지정해야함"
      ],
      "execution_count": 7,
      "outputs": [
        {
          "output_type": "stream",
          "text": [
            "True\n",
            "False\n",
            "True\n"
          ],
          "name": "stdout"
        }
      ]
    },
    {
      "cell_type": "markdown",
      "metadata": {
        "id": "ti8n6ZqzuOxR"
      },
      "source": [
        "- **value access**\n",
        " - dict[key]로 접근, 키가 없는 경우 에러 발생\n",
        " - .get()함수로 접근, 키가 없는 경우 None반환"
      ]
    },
    {
      "cell_type": "code",
      "metadata": {
        "colab": {
          "base_uri": "https://localhost:8080/"
        },
        "id": "RDV5H9MTt7r_",
        "outputId": "e9e08364-2fc0-4284-efa4-74c8cad69f3c"
      },
      "source": [
        "print(a.get('d'))\n",
        "# print(a['b'])\n",
        "\n",
        "if 'd' in a :\n",
        "  print(a['d']) # a값에 b가 없어서"
      ],
      "execution_count": 10,
      "outputs": [
        {
          "output_type": "stream",
          "text": [
            "None\n"
          ],
          "name": "stdout"
        }
      ]
    },
    {
      "cell_type": "markdown",
      "metadata": {
        "id": "4-a9VjIJu4Ma"
      },
      "source": [
        "**모든 keys, values 접근**\n",
        "- keys()- 키만 반환\n",
        "- values()- 값만 변환\n",
        "- items()- 키, 값의 튜플을 반환"
      ]
    },
    {
      "cell_type": "code",
      "metadata": {
        "colab": {
          "base_uri": "https://localhost:8080/"
        },
        "id": "N92q3e_cuvEB",
        "outputId": "f51d05c7-9bcd-4993-f8ad-c6a2beee386e"
      },
      "source": [
        "print(a)\n",
        "print(list(a.keys()))\n",
        "print(list(a.values()))\n",
        "\n",
        "list(a.items())"
      ],
      "execution_count": 12,
      "outputs": [
        {
          "output_type": "stream",
          "text": [
            "{'a': 1, 'b': 2, 'c': 3}\n",
            "['a', 'b', 'c']\n",
            "[1, 2, 3]\n"
          ],
          "name": "stdout"
        },
        {
          "output_type": "execute_result",
          "data": {
            "text/plain": [
              "[('a', 1), ('b', 2), ('c', 3)]"
            ]
          },
          "metadata": {
            "tags": []
          },
          "execution_count": 12
        }
      ]
    },
    {
      "cell_type": "markdown",
      "metadata": {
        "id": "JwT0c3BJvZuN"
      },
      "source": [
        "**set**\n",
        "- dictionary에서 key만 활용하는 데이터 구조로 이해\n",
        "- 수학에서의 집합과 동일한 개념\n",
        "- key 와 value가 함께 나오면 dictionary, key만 나오면 set*"
      ]
    },
    {
      "cell_type": "code",
      "metadata": {
        "colab": {
          "base_uri": "https://localhost:8080/"
        },
        "id": "6AAlMh5_vWwX",
        "outputId": "5b97b392-0316-4b43-d052-af41e548ed69"
      },
      "source": [
        "a = {1, 1, 2, 3, 3, 4, 1, 5}\n",
        "print(a)"
      ],
      "execution_count": 13,
      "outputs": [
        {
          "output_type": "stream",
          "text": [
            "{1, 2, 3, 4, 5}\n"
          ],
          "name": "stdout"
        }
      ]
    },
    {
      "cell_type": "markdown",
      "metadata": {
        "id": "xOrEnNOsv1g9"
      },
      "source": [
        "- set()을 이용한 집합으로 변환"
      ]
    },
    {
      "cell_type": "code",
      "metadata": {
        "colab": {
          "base_uri": "https://localhost:8080/"
        },
        "id": "Yp09MkzUv0gX",
        "outputId": "48bc4d11-feaf-4311-f717-dc031332c548"
      },
      "source": [
        "a = [1, 1, 2, 3, 3, 4, 1, 5]\n",
        "print(a)\n",
        "\n",
        "b = set(a) # set형식으로 변경\n",
        "print(b)"
      ],
      "execution_count": 14,
      "outputs": [
        {
          "output_type": "stream",
          "text": [
            "[1, 1, 2, 3, 3, 4, 1, 5]\n",
            "{1, 2, 3, 4, 5}\n"
          ],
          "name": "stdout"
        }
      ]
    },
    {
      "cell_type": "code",
      "metadata": {
        "colab": {
          "base_uri": "https://localhost:8080/"
        },
        "id": "FSscGZ_BwNDO",
        "outputId": "ae361996-8160-485e-de24-ffa363444bdd"
      },
      "source": [
        "a = (1, 1, 2, 3, 3, 4, 1, 5)\n",
        "print(a)\n",
        "\n",
        "b = set(a) # set형식으로 변경\n",
        "print(b)"
      ],
      "execution_count": 15,
      "outputs": [
        {
          "output_type": "stream",
          "text": [
            "(1, 1, 2, 3, 3, 4, 1, 5)\n",
            "{1, 2, 3, 4, 5}\n"
          ],
          "name": "stdout"
        }
      ]
    },
    {
      "cell_type": "markdown",
      "metadata": {
        "id": "FKpYbBohwaBO"
      },
      "source": [
        "- **set operations**\n",
        " - 수학 연산과 동일\n",
        " - 교집합, 합집합, 차집합 등 지원"
      ]
    },
    {
      "cell_type": "code",
      "metadata": {
        "colab": {
          "base_uri": "https://localhost:8080/"
        },
        "id": "kfzWRno8wY8K",
        "outputId": "69828ebb-c806-49de-d6cd-34f0605bb2fc"
      },
      "source": [
        "a = {1, 2, 3}\n",
        "b = {2, 3, 4}\n",
        "\n",
        "print(a.union(b)) # 합집합\n",
        "print(a.intersection(b)) # 교집합\n",
        "print(a.difference(b)) # 차집합\n",
        "print(b.difference(a))\n",
        "print(a.issubset(b)) # 부분집합"
      ],
      "execution_count": 17,
      "outputs": [
        {
          "output_type": "stream",
          "text": [
            "{1, 2, 3, 4}\n",
            "{2, 3}\n",
            "{1}\n",
            "{4}\n",
            "False\n"
          ],
          "name": "stdout"
        }
      ]
    },
    {
      "cell_type": "code",
      "metadata": {
        "id": "B_pFTEGEziBF"
      },
      "source": [
        ""
      ],
      "execution_count": null,
      "outputs": []
    }
  ]
}