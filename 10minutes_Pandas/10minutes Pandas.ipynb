{
  "nbformat": 4,
  "nbformat_minor": 0,
  "metadata": {
    "colab": {
      "name": "10분 Pandas",
      "provenance": [],
      "collapsed_sections": [],
      "authorship_tag": "ABX9TyOsLuNamWVTHHAa3FQ4AOaS"
    },
    "kernelspec": {
      "name": "python3",
      "display_name": "Python 3"
    }
  },
  "cells": [
    {
      "cell_type": "markdown",
      "metadata": {
        "id": "oijAltyZl34_"
      },
      "source": [
        "# Pandas \n",
        "\n",
        "일반적으로 각 패키지는 pd, np, plt라는 이름으로 불러온다.\n"
      ]
    },
    {
      "cell_type": "code",
      "metadata": {
        "id": "33ao92YNnHAK"
      },
      "source": [
        "import pandas as pd\n",
        "import numpy as np\n",
        "import matplotlib.pyplot as plt"
      ],
      "execution_count": null,
      "outputs": []
    },
    {
      "cell_type": "markdown",
      "metadata": {
        "id": "599Vo9FMmc-1"
      },
      "source": [
        "## 1. Object Creation (객체 생성)\n",
        "\n",
        "pandas는 값을 가지고 있는 리스트를 통해 series를 만들고, 정수로 만들어진 인덱스를 기본값으로 불러올 것이다."
      ]
    },
    {
      "cell_type": "code",
      "metadata": {
        "id": "mX-4hXxXl03H",
        "outputId": "23987493-b5d1-4509-f7be-cdf56d23b02d",
        "colab": {
          "base_uri": "https://localhost:8080/"
        }
      },
      "source": [
        "s = pd. Series([1,3,4,np.nan,9,8])\n",
        "s"
      ],
      "execution_count": null,
      "outputs": [
        {
          "output_type": "execute_result",
          "data": {
            "text/plain": [
              "0    1.0\n",
              "1    3.0\n",
              "2    4.0\n",
              "3    NaN\n",
              "4    9.0\n",
              "5    8.0\n",
              "dtype: float64"
            ]
          },
          "metadata": {
            "tags": []
          },
          "execution_count": 6
        }
      ]
    },
    {
      "cell_type": "markdown",
      "metadata": {
        "id": "wUetVLBfnQdU"
      },
      "source": [
        "datetime 인덱스와 레이블이 있는 열을 가지고 있는 numpy 배열을 전달하여 데이터프레임을 만든다."
      ]
    },
    {
      "cell_type": "code",
      "metadata": {
        "id": "ij9fHrXKncQy",
        "outputId": "17646540-03f0-410c-e395-274638670da3",
        "colab": {
          "base_uri": "https://localhost:8080/"
        }
      },
      "source": [
        "dates = pd.date_range('20130101', periods=6)\n",
        "dates"
      ],
      "execution_count": null,
      "outputs": [
        {
          "output_type": "execute_result",
          "data": {
            "text/plain": [
              "DatetimeIndex(['2013-01-01', '2013-01-02', '2013-01-03', '2013-01-04',\n",
              "               '2013-01-05', '2013-01-06'],\n",
              "              dtype='datetime64[ns]', freq='D')"
            ]
          },
          "metadata": {
            "tags": []
          },
          "execution_count": 7
        }
      ]
    },
    {
      "cell_type": "code",
      "metadata": {
        "id": "z99MKNuGxDQb",
        "outputId": "a1297817-c387-4047-cea9-deb8d1dc61ba",
        "colab": {
          "base_uri": "https://localhost:8080/",
          "height": 225
        }
      },
      "source": [
        "df = pd.DataFrame(np.random.randn(6,4), index=dates, columns=list('ABCD'))\n",
        "df"
      ],
      "execution_count": null,
      "outputs": [
        {
          "output_type": "execute_result",
          "data": {
            "text/html": [
              "<div>\n",
              "<style scoped>\n",
              "    .dataframe tbody tr th:only-of-type {\n",
              "        vertical-align: middle;\n",
              "    }\n",
              "\n",
              "    .dataframe tbody tr th {\n",
              "        vertical-align: top;\n",
              "    }\n",
              "\n",
              "    .dataframe thead th {\n",
              "        text-align: right;\n",
              "    }\n",
              "</style>\n",
              "<table border=\"1\" class=\"dataframe\">\n",
              "  <thead>\n",
              "    <tr style=\"text-align: right;\">\n",
              "      <th></th>\n",
              "      <th>A</th>\n",
              "      <th>B</th>\n",
              "      <th>C</th>\n",
              "      <th>D</th>\n",
              "    </tr>\n",
              "  </thead>\n",
              "  <tbody>\n",
              "    <tr>\n",
              "      <th>2013-01-01</th>\n",
              "      <td>0.092341</td>\n",
              "      <td>-0.450261</td>\n",
              "      <td>0.367813</td>\n",
              "      <td>0.813462</td>\n",
              "    </tr>\n",
              "    <tr>\n",
              "      <th>2013-01-02</th>\n",
              "      <td>-0.259564</td>\n",
              "      <td>0.444768</td>\n",
              "      <td>0.217988</td>\n",
              "      <td>-0.218826</td>\n",
              "    </tr>\n",
              "    <tr>\n",
              "      <th>2013-01-03</th>\n",
              "      <td>-0.562367</td>\n",
              "      <td>1.347180</td>\n",
              "      <td>-0.217952</td>\n",
              "      <td>-0.609495</td>\n",
              "    </tr>\n",
              "    <tr>\n",
              "      <th>2013-01-04</th>\n",
              "      <td>-1.307470</td>\n",
              "      <td>0.494650</td>\n",
              "      <td>1.218323</td>\n",
              "      <td>1.020725</td>\n",
              "    </tr>\n",
              "    <tr>\n",
              "      <th>2013-01-05</th>\n",
              "      <td>1.200182</td>\n",
              "      <td>1.063413</td>\n",
              "      <td>-0.823259</td>\n",
              "      <td>1.319964</td>\n",
              "    </tr>\n",
              "    <tr>\n",
              "      <th>2013-01-06</th>\n",
              "      <td>0.232605</td>\n",
              "      <td>-1.285717</td>\n",
              "      <td>-0.797968</td>\n",
              "      <td>0.449817</td>\n",
              "    </tr>\n",
              "  </tbody>\n",
              "</table>\n",
              "</div>"
            ],
            "text/plain": [
              "                   A         B         C         D\n",
              "2013-01-01  0.092341 -0.450261  0.367813  0.813462\n",
              "2013-01-02 -0.259564  0.444768  0.217988 -0.218826\n",
              "2013-01-03 -0.562367  1.347180 -0.217952 -0.609495\n",
              "2013-01-04 -1.307470  0.494650  1.218323  1.020725\n",
              "2013-01-05  1.200182  1.063413 -0.823259  1.319964\n",
              "2013-01-06  0.232605 -1.285717 -0.797968  0.449817"
            ]
          },
          "metadata": {
            "tags": []
          },
          "execution_count": 8
        }
      ]
    },
    {
      "cell_type": "markdown",
      "metadata": {
        "id": "7jk7ehh2xJjX"
      },
      "source": [
        "Series와 같은 것으로 변환될 수 있는 객체들의 dict로 구성된 데이터프레임을 만든다."
      ]
    },
    {
      "cell_type": "code",
      "metadata": {
        "id": "u_avZsS8xTmw",
        "outputId": "3567ebc5-4673-4e94-b1a2-754c99caafc5",
        "colab": {
          "base_uri": "https://localhost:8080/",
          "height": 166
        }
      },
      "source": [
        "df2 = pd.DataFrame({'A' : 1.,\n",
        "                    'B' : pd.Timestamp('20130102'),\n",
        "                    'C' : pd.Series(1,index=list(range(4)),dtype='float32'),\n",
        "                    'D' : np.array([3] * 4,dtype='int32'),\n",
        "                    'E' : pd.Categorical([\"test\",\"train\",\"test\",\"train\"]),\n",
        "                    'F' : 'foo' })\n",
        "df2"
      ],
      "execution_count": null,
      "outputs": [
        {
          "output_type": "execute_result",
          "data": {
            "text/html": [
              "<div>\n",
              "<style scoped>\n",
              "    .dataframe tbody tr th:only-of-type {\n",
              "        vertical-align: middle;\n",
              "    }\n",
              "\n",
              "    .dataframe tbody tr th {\n",
              "        vertical-align: top;\n",
              "    }\n",
              "\n",
              "    .dataframe thead th {\n",
              "        text-align: right;\n",
              "    }\n",
              "</style>\n",
              "<table border=\"1\" class=\"dataframe\">\n",
              "  <thead>\n",
              "    <tr style=\"text-align: right;\">\n",
              "      <th></th>\n",
              "      <th>A</th>\n",
              "      <th>B</th>\n",
              "      <th>C</th>\n",
              "      <th>D</th>\n",
              "      <th>E</th>\n",
              "      <th>F</th>\n",
              "    </tr>\n",
              "  </thead>\n",
              "  <tbody>\n",
              "    <tr>\n",
              "      <th>0</th>\n",
              "      <td>1.0</td>\n",
              "      <td>2013-01-02</td>\n",
              "      <td>1.0</td>\n",
              "      <td>3</td>\n",
              "      <td>test</td>\n",
              "      <td>foo</td>\n",
              "    </tr>\n",
              "    <tr>\n",
              "      <th>1</th>\n",
              "      <td>1.0</td>\n",
              "      <td>2013-01-02</td>\n",
              "      <td>1.0</td>\n",
              "      <td>3</td>\n",
              "      <td>train</td>\n",
              "      <td>foo</td>\n",
              "    </tr>\n",
              "    <tr>\n",
              "      <th>2</th>\n",
              "      <td>1.0</td>\n",
              "      <td>2013-01-02</td>\n",
              "      <td>1.0</td>\n",
              "      <td>3</td>\n",
              "      <td>test</td>\n",
              "      <td>foo</td>\n",
              "    </tr>\n",
              "    <tr>\n",
              "      <th>3</th>\n",
              "      <td>1.0</td>\n",
              "      <td>2013-01-02</td>\n",
              "      <td>1.0</td>\n",
              "      <td>3</td>\n",
              "      <td>train</td>\n",
              "      <td>foo</td>\n",
              "    </tr>\n",
              "  </tbody>\n",
              "</table>\n",
              "</div>"
            ],
            "text/plain": [
              "     A          B    C  D      E    F\n",
              "0  1.0 2013-01-02  1.0  3   test  foo\n",
              "1  1.0 2013-01-02  1.0  3  train  foo\n",
              "2  1.0 2013-01-02  1.0  3   test  foo\n",
              "3  1.0 2013-01-02  1.0  3  train  foo"
            ]
          },
          "metadata": {
            "tags": []
          },
          "execution_count": 9
        }
      ]
    },
    {
      "cell_type": "markdown",
      "metadata": {
        "id": "vfZs4oo1xiQv"
      },
      "source": [
        "데이터프레임 결과물의 열은 다양한 데이터 타입 (dtypes)으로 구성된다."
      ]
    },
    {
      "cell_type": "code",
      "metadata": {
        "id": "hUws98vexj_x",
        "outputId": "25537d7e-aca1-4170-bf4e-5762b252da67",
        "colab": {
          "base_uri": "https://localhost:8080/"
        }
      },
      "source": [
        "df2.dtypes"
      ],
      "execution_count": null,
      "outputs": [
        {
          "output_type": "execute_result",
          "data": {
            "text/plain": [
              "A           float64\n",
              "B    datetime64[ns]\n",
              "C           float32\n",
              "D             int32\n",
              "E          category\n",
              "F            object\n",
              "dtype: object"
            ]
          },
          "metadata": {
            "tags": []
          },
          "execution_count": 11
        }
      ]
    },
    {
      "cell_type": "markdown",
      "metadata": {
        "id": "uaZMlFvWxpz7"
      },
      "source": [
        "IPython을 이용하고 있다면 (공용 속성을 포함한) 열 이름에 대한 Tap 자동완성 기능이 자동으로 활성화 된다. 다음은 완성될 속성에 대한 부분집합 (subset)이다.\n",
        "\n",
        "역자 주 : 아래 제시된 코드의 경우, IPython이 아닌 환경 (Google Colaboratory, Jupyter 등)에서는 사용이 불가능한 코드인 점에 주의한다."
      ]
    },
    {
      "cell_type": "code",
      "metadata": {
        "id": "7W7UQD6Hx0pg"
      },
      "source": [
        "# df2.<TAB>"
      ],
      "execution_count": null,
      "outputs": []
    },
    {
      "cell_type": "markdown",
      "metadata": {
        "id": "mcP534PG12zb"
      },
      "source": [
        "## 2. Viewing Data (데이터 확인하기)\n",
        "\n",
        "데이터프레임의 가장 윗 줄과 마지막 줄을 확인하고 싶을 때에 사용하는 방법은 다음과 같다.\n",
        "\n",
        "역자 주: 괄호() 안에는 숫자가 들어갈 수도 있고 안 들어갈 수도 있다. 숫자가 들어간다면, 윗 / 마지막 줄의 특정 줄을 불러올 수 있다. 숫자가 들어가지 않다면, 기본값인 5로 처리된다.\n",
        "\n",
        "예시"
      ]
    },
    {
      "cell_type": "code",
      "metadata": {
        "id": "3q3rmuhD2HCl",
        "outputId": "77e0bbf1-589c-49d9-f371-dd30b6e6b243",
        "colab": {
          "base_uri": "https://localhost:8080/",
          "height": 195
        }
      },
      "source": [
        "df.tail()  # 끝에서 마지막 5줄 불러옴\n",
        "df.head() # 앞에서 5줄 불러옴"
      ],
      "execution_count": null,
      "outputs": [
        {
          "output_type": "execute_result",
          "data": {
            "text/html": [
              "<div>\n",
              "<style scoped>\n",
              "    .dataframe tbody tr th:only-of-type {\n",
              "        vertical-align: middle;\n",
              "    }\n",
              "\n",
              "    .dataframe tbody tr th {\n",
              "        vertical-align: top;\n",
              "    }\n",
              "\n",
              "    .dataframe thead th {\n",
              "        text-align: right;\n",
              "    }\n",
              "</style>\n",
              "<table border=\"1\" class=\"dataframe\">\n",
              "  <thead>\n",
              "    <tr style=\"text-align: right;\">\n",
              "      <th></th>\n",
              "      <th>A</th>\n",
              "      <th>B</th>\n",
              "      <th>C</th>\n",
              "      <th>D</th>\n",
              "    </tr>\n",
              "  </thead>\n",
              "  <tbody>\n",
              "    <tr>\n",
              "      <th>2013-01-01</th>\n",
              "      <td>1.047063</td>\n",
              "      <td>0.472251</td>\n",
              "      <td>-0.886721</td>\n",
              "      <td>1.959561</td>\n",
              "    </tr>\n",
              "    <tr>\n",
              "      <th>2013-01-02</th>\n",
              "      <td>0.392131</td>\n",
              "      <td>1.055226</td>\n",
              "      <td>1.192205</td>\n",
              "      <td>-1.323171</td>\n",
              "    </tr>\n",
              "    <tr>\n",
              "      <th>2013-01-03</th>\n",
              "      <td>0.200696</td>\n",
              "      <td>0.414275</td>\n",
              "      <td>0.190812</td>\n",
              "      <td>0.185149</td>\n",
              "    </tr>\n",
              "    <tr>\n",
              "      <th>2013-01-04</th>\n",
              "      <td>-0.770361</td>\n",
              "      <td>-0.917366</td>\n",
              "      <td>0.904097</td>\n",
              "      <td>0.256496</td>\n",
              "    </tr>\n",
              "    <tr>\n",
              "      <th>2013-01-05</th>\n",
              "      <td>-0.759546</td>\n",
              "      <td>1.008527</td>\n",
              "      <td>2.167210</td>\n",
              "      <td>1.761440</td>\n",
              "    </tr>\n",
              "  </tbody>\n",
              "</table>\n",
              "</div>"
            ],
            "text/plain": [
              "                   A         B         C         D\n",
              "2013-01-01  1.047063  0.472251 -0.886721  1.959561\n",
              "2013-01-02  0.392131  1.055226  1.192205 -1.323171\n",
              "2013-01-03  0.200696  0.414275  0.190812  0.185149\n",
              "2013-01-04 -0.770361 -0.917366  0.904097  0.256496\n",
              "2013-01-05 -0.759546  1.008527  2.167210  1.761440"
            ]
          },
          "metadata": {
            "tags": []
          },
          "execution_count": 49
        }
      ]
    },
    {
      "cell_type": "code",
      "metadata": {
        "id": "2d43E0w02K4L",
        "outputId": "08b63195-3a72-41ed-eaef-84ed90fa6abe",
        "colab": {
          "base_uri": "https://localhost:8080/",
          "height": 136
        }
      },
      "source": [
        "df.tail(3) # 끝에서 마지막 3줄을 불러옴, ()안의 숫자는 표시할 데이터의 수를 의미"
      ],
      "execution_count": null,
      "outputs": [
        {
          "output_type": "execute_result",
          "data": {
            "text/html": [
              "<div>\n",
              "<style scoped>\n",
              "    .dataframe tbody tr th:only-of-type {\n",
              "        vertical-align: middle;\n",
              "    }\n",
              "\n",
              "    .dataframe tbody tr th {\n",
              "        vertical-align: top;\n",
              "    }\n",
              "\n",
              "    .dataframe thead th {\n",
              "        text-align: right;\n",
              "    }\n",
              "</style>\n",
              "<table border=\"1\" class=\"dataframe\">\n",
              "  <thead>\n",
              "    <tr style=\"text-align: right;\">\n",
              "      <th></th>\n",
              "      <th>A</th>\n",
              "      <th>B</th>\n",
              "      <th>C</th>\n",
              "      <th>D</th>\n",
              "    </tr>\n",
              "  </thead>\n",
              "  <tbody>\n",
              "    <tr>\n",
              "      <th>2013-01-04</th>\n",
              "      <td>-0.514383</td>\n",
              "      <td>-1.763194</td>\n",
              "      <td>0.454993</td>\n",
              "      <td>1.244137</td>\n",
              "    </tr>\n",
              "    <tr>\n",
              "      <th>2013-01-05</th>\n",
              "      <td>-0.074217</td>\n",
              "      <td>1.905904</td>\n",
              "      <td>0.954576</td>\n",
              "      <td>-1.548098</td>\n",
              "    </tr>\n",
              "    <tr>\n",
              "      <th>2013-01-06</th>\n",
              "      <td>0.266077</td>\n",
              "      <td>0.811469</td>\n",
              "      <td>0.236836</td>\n",
              "      <td>-1.103073</td>\n",
              "    </tr>\n",
              "  </tbody>\n",
              "</table>\n",
              "</div>"
            ],
            "text/plain": [
              "                   A         B         C         D\n",
              "2013-01-04 -0.514383 -1.763194  0.454993  1.244137\n",
              "2013-01-05 -0.074217  1.905904  0.954576 -1.548098\n",
              "2013-01-06  0.266077  0.811469  0.236836 -1.103073"
            ]
          },
          "metadata": {
            "tags": []
          },
          "execution_count": 11
        }
      ]
    },
    {
      "cell_type": "markdown",
      "metadata": {
        "id": "nVTihWwZIhib"
      },
      "source": [
        "인덱스 (index), 열 (column) 그리고 numpy 데이터에 대한 세부 정보를 본다."
      ]
    },
    {
      "cell_type": "code",
      "metadata": {
        "id": "hz4Hjwzn2N7c",
        "outputId": "a4872b36-e402-4865-c807-d62eb120dfb5",
        "colab": {
          "base_uri": "https://localhost:8080/"
        }
      },
      "source": [
        "df.index # 위치 값을 뜻함, 국어사전 옆면에 ㄱ, ㄴ, ㄷ으로 표시해 놓은 것과 비슷"
      ],
      "execution_count": null,
      "outputs": [
        {
          "output_type": "execute_result",
          "data": {
            "text/plain": [
              "DatetimeIndex(['2013-01-01', '2013-01-02', '2013-01-03', '2013-01-04',\n",
              "               '2013-01-05', '2013-01-06'],\n",
              "              dtype='datetime64[ns]', freq='D')"
            ]
          },
          "metadata": {
            "tags": []
          },
          "execution_count": 12
        }
      ]
    },
    {
      "cell_type": "code",
      "metadata": {
        "id": "0nGTIudd2QfX",
        "outputId": "63a1015e-8b5b-45e4-b37f-110cc3f4e1b4",
        "colab": {
          "base_uri": "https://localhost:8080/"
        }
      },
      "source": [
        "df.columns"
      ],
      "execution_count": null,
      "outputs": [
        {
          "output_type": "execute_result",
          "data": {
            "text/plain": [
              "Index(['A', 'B', 'C', 'D'], dtype='object')"
            ]
          },
          "metadata": {
            "tags": []
          },
          "execution_count": 13
        }
      ]
    },
    {
      "cell_type": "code",
      "metadata": {
        "id": "HV9dPbHm2S5H",
        "outputId": "83455290-b70a-42c6-889c-e26cd2732f53",
        "colab": {
          "base_uri": "https://localhost:8080/"
        }
      },
      "source": [
        "df.values"
      ],
      "execution_count": null,
      "outputs": [
        {
          "output_type": "execute_result",
          "data": {
            "text/plain": [
              "array([[ 0.09234115, -0.45026089,  0.3678134 ,  0.81346197],\n",
              "       [-0.25956433,  0.44476786,  0.21798796, -0.21882572],\n",
              "       [-0.56236719,  1.3471799 , -0.21795237, -0.60949467],\n",
              "       [-1.30746978,  0.49464952,  1.21832335,  1.0207252 ],\n",
              "       [ 1.20018179,  1.06341282, -0.82325933,  1.31996414],\n",
              "       [ 0.23260539, -1.28571662, -0.79796781,  0.44981732]])"
            ]
          },
          "metadata": {
            "tags": []
          },
          "execution_count": 14
        }
      ]
    },
    {
      "cell_type": "markdown",
      "metadata": {
        "id": "Z_cgwQYv2Vaa"
      },
      "source": [
        "describe()는 데이터의 대략적인 통계적 정보 요약을 보여준다."
      ]
    },
    {
      "cell_type": "code",
      "metadata": {
        "id": "QsU3tj4N2UDu",
        "outputId": "e3747982-9e2a-4db8-e3b2-46522f052587",
        "colab": {
          "base_uri": "https://localhost:8080/",
          "height": 284
        }
      },
      "source": [
        "df.describe()"
      ],
      "execution_count": null,
      "outputs": [
        {
          "output_type": "execute_result",
          "data": {
            "text/html": [
              "<div>\n",
              "<style scoped>\n",
              "    .dataframe tbody tr th:only-of-type {\n",
              "        vertical-align: middle;\n",
              "    }\n",
              "\n",
              "    .dataframe tbody tr th {\n",
              "        vertical-align: top;\n",
              "    }\n",
              "\n",
              "    .dataframe thead th {\n",
              "        text-align: right;\n",
              "    }\n",
              "</style>\n",
              "<table border=\"1\" class=\"dataframe\">\n",
              "  <thead>\n",
              "    <tr style=\"text-align: right;\">\n",
              "      <th></th>\n",
              "      <th>A</th>\n",
              "      <th>B</th>\n",
              "      <th>C</th>\n",
              "      <th>D</th>\n",
              "    </tr>\n",
              "  </thead>\n",
              "  <tbody>\n",
              "    <tr>\n",
              "      <th>count</th>\n",
              "      <td>6.000000</td>\n",
              "      <td>6.000000</td>\n",
              "      <td>6.000000</td>\n",
              "      <td>6.000000</td>\n",
              "    </tr>\n",
              "    <tr>\n",
              "      <th>mean</th>\n",
              "      <td>-0.100712</td>\n",
              "      <td>0.269005</td>\n",
              "      <td>-0.005842</td>\n",
              "      <td>0.462608</td>\n",
              "    </tr>\n",
              "    <tr>\n",
              "      <th>std</th>\n",
              "      <td>0.840871</td>\n",
              "      <td>0.980801</td>\n",
              "      <td>0.778322</td>\n",
              "      <td>0.746133</td>\n",
              "    </tr>\n",
              "    <tr>\n",
              "      <th>min</th>\n",
              "      <td>-1.307470</td>\n",
              "      <td>-1.285717</td>\n",
              "      <td>-0.823259</td>\n",
              "      <td>-0.609495</td>\n",
              "    </tr>\n",
              "    <tr>\n",
              "      <th>25%</th>\n",
              "      <td>-0.486666</td>\n",
              "      <td>-0.226504</td>\n",
              "      <td>-0.652964</td>\n",
              "      <td>-0.051665</td>\n",
              "    </tr>\n",
              "    <tr>\n",
              "      <th>50%</th>\n",
              "      <td>-0.083612</td>\n",
              "      <td>0.469709</td>\n",
              "      <td>0.000018</td>\n",
              "      <td>0.631640</td>\n",
              "    </tr>\n",
              "    <tr>\n",
              "      <th>75%</th>\n",
              "      <td>0.197539</td>\n",
              "      <td>0.921222</td>\n",
              "      <td>0.330357</td>\n",
              "      <td>0.968909</td>\n",
              "    </tr>\n",
              "    <tr>\n",
              "      <th>max</th>\n",
              "      <td>1.200182</td>\n",
              "      <td>1.347180</td>\n",
              "      <td>1.218323</td>\n",
              "      <td>1.319964</td>\n",
              "    </tr>\n",
              "  </tbody>\n",
              "</table>\n",
              "</div>"
            ],
            "text/plain": [
              "              A         B         C         D\n",
              "count  6.000000  6.000000  6.000000  6.000000\n",
              "mean  -0.100712  0.269005 -0.005842  0.462608\n",
              "std    0.840871  0.980801  0.778322  0.746133\n",
              "min   -1.307470 -1.285717 -0.823259 -0.609495\n",
              "25%   -0.486666 -0.226504 -0.652964 -0.051665\n",
              "50%   -0.083612  0.469709  0.000018  0.631640\n",
              "75%    0.197539  0.921222  0.330357  0.968909\n",
              "max    1.200182  1.347180  1.218323  1.319964"
            ]
          },
          "metadata": {
            "tags": []
          },
          "execution_count": 15
        }
      ]
    },
    {
      "cell_type": "markdown",
      "metadata": {
        "id": "77qhjV092Z1j"
      },
      "source": [
        "데이터를 전치한다."
      ]
    },
    {
      "cell_type": "code",
      "metadata": {
        "id": "i5OHmnfD2a6B",
        "outputId": "819fd634-9074-4805-8855-6e99caeb0b07",
        "colab": {
          "base_uri": "https://localhost:8080/",
          "height": 166
        }
      },
      "source": [
        "df.T"
      ],
      "execution_count": null,
      "outputs": [
        {
          "output_type": "execute_result",
          "data": {
            "text/html": [
              "<div>\n",
              "<style scoped>\n",
              "    .dataframe tbody tr th:only-of-type {\n",
              "        vertical-align: middle;\n",
              "    }\n",
              "\n",
              "    .dataframe tbody tr th {\n",
              "        vertical-align: top;\n",
              "    }\n",
              "\n",
              "    .dataframe thead th {\n",
              "        text-align: right;\n",
              "    }\n",
              "</style>\n",
              "<table border=\"1\" class=\"dataframe\">\n",
              "  <thead>\n",
              "    <tr style=\"text-align: right;\">\n",
              "      <th></th>\n",
              "      <th>2013-01-01</th>\n",
              "      <th>2013-01-02</th>\n",
              "      <th>2013-01-03</th>\n",
              "      <th>2013-01-04</th>\n",
              "      <th>2013-01-05</th>\n",
              "      <th>2013-01-06</th>\n",
              "    </tr>\n",
              "  </thead>\n",
              "  <tbody>\n",
              "    <tr>\n",
              "      <th>A</th>\n",
              "      <td>0.092341</td>\n",
              "      <td>-0.259564</td>\n",
              "      <td>-0.562367</td>\n",
              "      <td>-1.307470</td>\n",
              "      <td>1.200182</td>\n",
              "      <td>0.232605</td>\n",
              "    </tr>\n",
              "    <tr>\n",
              "      <th>B</th>\n",
              "      <td>-0.450261</td>\n",
              "      <td>0.444768</td>\n",
              "      <td>1.347180</td>\n",
              "      <td>0.494650</td>\n",
              "      <td>1.063413</td>\n",
              "      <td>-1.285717</td>\n",
              "    </tr>\n",
              "    <tr>\n",
              "      <th>C</th>\n",
              "      <td>0.367813</td>\n",
              "      <td>0.217988</td>\n",
              "      <td>-0.217952</td>\n",
              "      <td>1.218323</td>\n",
              "      <td>-0.823259</td>\n",
              "      <td>-0.797968</td>\n",
              "    </tr>\n",
              "    <tr>\n",
              "      <th>D</th>\n",
              "      <td>0.813462</td>\n",
              "      <td>-0.218826</td>\n",
              "      <td>-0.609495</td>\n",
              "      <td>1.020725</td>\n",
              "      <td>1.319964</td>\n",
              "      <td>0.449817</td>\n",
              "    </tr>\n",
              "  </tbody>\n",
              "</table>\n",
              "</div>"
            ],
            "text/plain": [
              "   2013-01-01  2013-01-02  2013-01-03  2013-01-04  2013-01-05  2013-01-06\n",
              "A    0.092341   -0.259564   -0.562367   -1.307470    1.200182    0.232605\n",
              "B   -0.450261    0.444768    1.347180    0.494650    1.063413   -1.285717\n",
              "C    0.367813    0.217988   -0.217952    1.218323   -0.823259   -0.797968\n",
              "D    0.813462   -0.218826   -0.609495    1.020725    1.319964    0.449817"
            ]
          },
          "metadata": {
            "tags": []
          },
          "execution_count": 16
        }
      ]
    },
    {
      "cell_type": "markdown",
      "metadata": {
        "id": "Bnu6UgE42b_z"
      },
      "source": [
        "축 별로 정렬합니다."
      ]
    },
    {
      "cell_type": "code",
      "metadata": {
        "id": "GTt33E8p2dc3",
        "outputId": "c457128c-1adc-49d2-a028-67d2420b5974",
        "colab": {
          "base_uri": "https://localhost:8080/",
          "height": 225
        }
      },
      "source": [
        "df.sort_index(axis=1, ascending=False) # axis가 0이면 x축, 1이면 y축"
      ],
      "execution_count": null,
      "outputs": [
        {
          "output_type": "execute_result",
          "data": {
            "text/html": [
              "<div>\n",
              "<style scoped>\n",
              "    .dataframe tbody tr th:only-of-type {\n",
              "        vertical-align: middle;\n",
              "    }\n",
              "\n",
              "    .dataframe tbody tr th {\n",
              "        vertical-align: top;\n",
              "    }\n",
              "\n",
              "    .dataframe thead th {\n",
              "        text-align: right;\n",
              "    }\n",
              "</style>\n",
              "<table border=\"1\" class=\"dataframe\">\n",
              "  <thead>\n",
              "    <tr style=\"text-align: right;\">\n",
              "      <th></th>\n",
              "      <th>D</th>\n",
              "      <th>C</th>\n",
              "      <th>B</th>\n",
              "      <th>A</th>\n",
              "    </tr>\n",
              "  </thead>\n",
              "  <tbody>\n",
              "    <tr>\n",
              "      <th>2013-01-01</th>\n",
              "      <td>1.959561</td>\n",
              "      <td>-0.886721</td>\n",
              "      <td>0.472251</td>\n",
              "      <td>1.047063</td>\n",
              "    </tr>\n",
              "    <tr>\n",
              "      <th>2013-01-02</th>\n",
              "      <td>-1.323171</td>\n",
              "      <td>1.192205</td>\n",
              "      <td>1.055226</td>\n",
              "      <td>0.392131</td>\n",
              "    </tr>\n",
              "    <tr>\n",
              "      <th>2013-01-03</th>\n",
              "      <td>0.185149</td>\n",
              "      <td>0.190812</td>\n",
              "      <td>0.414275</td>\n",
              "      <td>0.200696</td>\n",
              "    </tr>\n",
              "    <tr>\n",
              "      <th>2013-01-04</th>\n",
              "      <td>0.256496</td>\n",
              "      <td>0.904097</td>\n",
              "      <td>-0.917366</td>\n",
              "      <td>-0.770361</td>\n",
              "    </tr>\n",
              "    <tr>\n",
              "      <th>2013-01-05</th>\n",
              "      <td>1.761440</td>\n",
              "      <td>2.167210</td>\n",
              "      <td>1.008527</td>\n",
              "      <td>-0.759546</td>\n",
              "    </tr>\n",
              "    <tr>\n",
              "      <th>2013-01-06</th>\n",
              "      <td>-0.394987</td>\n",
              "      <td>-0.149415</td>\n",
              "      <td>-1.075745</td>\n",
              "      <td>-0.622170</td>\n",
              "    </tr>\n",
              "  </tbody>\n",
              "</table>\n",
              "</div>"
            ],
            "text/plain": [
              "                   D         C         B         A\n",
              "2013-01-01  1.959561 -0.886721  0.472251  1.047063\n",
              "2013-01-02 -1.323171  1.192205  1.055226  0.392131\n",
              "2013-01-03  0.185149  0.190812  0.414275  0.200696\n",
              "2013-01-04  0.256496  0.904097 -0.917366 -0.770361\n",
              "2013-01-05  1.761440  2.167210  1.008527 -0.759546\n",
              "2013-01-06 -0.394987 -0.149415 -1.075745 -0.622170"
            ]
          },
          "metadata": {
            "tags": []
          },
          "execution_count": 55
        }
      ]
    },
    {
      "cell_type": "markdown",
      "metadata": {
        "id": "poly7tfw2fNy"
      },
      "source": [
        "값 별로 정렬한다."
      ]
    },
    {
      "cell_type": "code",
      "metadata": {
        "id": "bFBVG6y32gd3",
        "outputId": "cdd50faf-6a8e-40bd-93ee-d0e84621964e",
        "colab": {
          "base_uri": "https://localhost:8080/",
          "height": 225
        }
      },
      "source": [
        "df.sort_values(by='B') # by는 데이터를 뜻함"
      ],
      "execution_count": null,
      "outputs": [
        {
          "output_type": "execute_result",
          "data": {
            "text/html": [
              "<div>\n",
              "<style scoped>\n",
              "    .dataframe tbody tr th:only-of-type {\n",
              "        vertical-align: middle;\n",
              "    }\n",
              "\n",
              "    .dataframe tbody tr th {\n",
              "        vertical-align: top;\n",
              "    }\n",
              "\n",
              "    .dataframe thead th {\n",
              "        text-align: right;\n",
              "    }\n",
              "</style>\n",
              "<table border=\"1\" class=\"dataframe\">\n",
              "  <thead>\n",
              "    <tr style=\"text-align: right;\">\n",
              "      <th></th>\n",
              "      <th>A</th>\n",
              "      <th>B</th>\n",
              "      <th>C</th>\n",
              "      <th>D</th>\n",
              "    </tr>\n",
              "  </thead>\n",
              "  <tbody>\n",
              "    <tr>\n",
              "      <th>2013-01-06</th>\n",
              "      <td>0.232605</td>\n",
              "      <td>-1.285717</td>\n",
              "      <td>-0.797968</td>\n",
              "      <td>0.449817</td>\n",
              "    </tr>\n",
              "    <tr>\n",
              "      <th>2013-01-01</th>\n",
              "      <td>0.092341</td>\n",
              "      <td>-0.450261</td>\n",
              "      <td>0.367813</td>\n",
              "      <td>0.813462</td>\n",
              "    </tr>\n",
              "    <tr>\n",
              "      <th>2013-01-02</th>\n",
              "      <td>-0.259564</td>\n",
              "      <td>0.444768</td>\n",
              "      <td>0.217988</td>\n",
              "      <td>-0.218826</td>\n",
              "    </tr>\n",
              "    <tr>\n",
              "      <th>2013-01-04</th>\n",
              "      <td>-1.307470</td>\n",
              "      <td>0.494650</td>\n",
              "      <td>1.218323</td>\n",
              "      <td>1.020725</td>\n",
              "    </tr>\n",
              "    <tr>\n",
              "      <th>2013-01-05</th>\n",
              "      <td>1.200182</td>\n",
              "      <td>1.063413</td>\n",
              "      <td>-0.823259</td>\n",
              "      <td>1.319964</td>\n",
              "    </tr>\n",
              "    <tr>\n",
              "      <th>2013-01-03</th>\n",
              "      <td>-0.562367</td>\n",
              "      <td>1.347180</td>\n",
              "      <td>-0.217952</td>\n",
              "      <td>-0.609495</td>\n",
              "    </tr>\n",
              "  </tbody>\n",
              "</table>\n",
              "</div>"
            ],
            "text/plain": [
              "                   A         B         C         D\n",
              "2013-01-06  0.232605 -1.285717 -0.797968  0.449817\n",
              "2013-01-01  0.092341 -0.450261  0.367813  0.813462\n",
              "2013-01-02 -0.259564  0.444768  0.217988 -0.218826\n",
              "2013-01-04 -1.307470  0.494650  1.218323  1.020725\n",
              "2013-01-05  1.200182  1.063413 -0.823259  1.319964\n",
              "2013-01-03 -0.562367  1.347180 -0.217952 -0.609495"
            ]
          },
          "metadata": {
            "tags": []
          },
          "execution_count": 17
        }
      ]
    },
    {
      "cell_type": "markdown",
      "metadata": {
        "id": "kFIDgCif2o6y"
      },
      "source": [
        "## 3. Selection(선택)\n",
        "\n",
        "Note : 선택과 설정을 위한 Python / Numpy의 표준화된 표현들이 직관적이며, 코드 작성을 위한 양방향 작업에 유용하지만 우리는 Pandas에 최적화된 데이터 접근 방법인 .at, .iat, .loc 및 .iloc 을 추천한다.\n",
        "\n",
        "**Getting (데이터 얻기)**\n",
        "\n",
        "df.A 와 동일한 Series를 생성하는 단일 열을 선택합니다."
      ]
    },
    {
      "cell_type": "code",
      "metadata": {
        "id": "N07uR5XJ2itW",
        "outputId": "b7263666-68fa-41c1-a9dd-fbfc555fc960",
        "colab": {
          "base_uri": "https://localhost:8080/"
        }
      },
      "source": [
        "df['A'] "
      ],
      "execution_count": null,
      "outputs": [
        {
          "output_type": "execute_result",
          "data": {
            "text/plain": [
              "2013-01-01    0.092341\n",
              "2013-01-02   -0.259564\n",
              "2013-01-03   -0.562367\n",
              "2013-01-04   -1.307470\n",
              "2013-01-05    1.200182\n",
              "2013-01-06    0.232605\n",
              "Freq: D, Name: A, dtype: float64"
            ]
          },
          "metadata": {
            "tags": []
          },
          "execution_count": 18
        }
      ]
    },
    {
      "cell_type": "markdown",
      "metadata": {
        "id": "I8adDEx12zqS"
      },
      "source": [
        "행을 분할하는 [ ]를 통해 선택한다."
      ]
    },
    {
      "cell_type": "code",
      "metadata": {
        "id": "RE-rH0kg2zF3",
        "outputId": "130e7d30-d3ce-410d-b48b-1b6738a2021e",
        "colab": {
          "base_uri": "https://localhost:8080/",
          "height": 136
        }
      },
      "source": [
        "df[0:3] # 0~2행을 지정, 지정한 행의 -1"
      ],
      "execution_count": null,
      "outputs": [
        {
          "output_type": "execute_result",
          "data": {
            "text/html": [
              "<div>\n",
              "<style scoped>\n",
              "    .dataframe tbody tr th:only-of-type {\n",
              "        vertical-align: middle;\n",
              "    }\n",
              "\n",
              "    .dataframe tbody tr th {\n",
              "        vertical-align: top;\n",
              "    }\n",
              "\n",
              "    .dataframe thead th {\n",
              "        text-align: right;\n",
              "    }\n",
              "</style>\n",
              "<table border=\"1\" class=\"dataframe\">\n",
              "  <thead>\n",
              "    <tr style=\"text-align: right;\">\n",
              "      <th></th>\n",
              "      <th>A</th>\n",
              "      <th>B</th>\n",
              "      <th>C</th>\n",
              "      <th>D</th>\n",
              "    </tr>\n",
              "  </thead>\n",
              "  <tbody>\n",
              "    <tr>\n",
              "      <th>2013-01-01</th>\n",
              "      <td>1.047063</td>\n",
              "      <td>0.472251</td>\n",
              "      <td>-0.886721</td>\n",
              "      <td>1.959561</td>\n",
              "    </tr>\n",
              "    <tr>\n",
              "      <th>2013-01-02</th>\n",
              "      <td>0.392131</td>\n",
              "      <td>1.055226</td>\n",
              "      <td>1.192205</td>\n",
              "      <td>-1.323171</td>\n",
              "    </tr>\n",
              "    <tr>\n",
              "      <th>2013-01-03</th>\n",
              "      <td>0.200696</td>\n",
              "      <td>0.414275</td>\n",
              "      <td>0.190812</td>\n",
              "      <td>0.185149</td>\n",
              "    </tr>\n",
              "  </tbody>\n",
              "</table>\n",
              "</div>"
            ],
            "text/plain": [
              "                   A         B         C         D\n",
              "2013-01-01  1.047063  0.472251 -0.886721  1.959561\n",
              "2013-01-02  0.392131  1.055226  1.192205 -1.323171\n",
              "2013-01-03  0.200696  0.414275  0.190812  0.185149"
            ]
          },
          "metadata": {
            "tags": []
          },
          "execution_count": 60
        }
      ]
    },
    {
      "cell_type": "code",
      "metadata": {
        "id": "fdv3ssk02224",
        "outputId": "e1c913a4-1760-46be-a6a0-ff3e497c2f5a",
        "colab": {
          "base_uri": "https://localhost:8080/",
          "height": 136
        }
      },
      "source": [
        "df['20130102':'20130104']"
      ],
      "execution_count": null,
      "outputs": [
        {
          "output_type": "execute_result",
          "data": {
            "text/html": [
              "<div>\n",
              "<style scoped>\n",
              "    .dataframe tbody tr th:only-of-type {\n",
              "        vertical-align: middle;\n",
              "    }\n",
              "\n",
              "    .dataframe tbody tr th {\n",
              "        vertical-align: top;\n",
              "    }\n",
              "\n",
              "    .dataframe thead th {\n",
              "        text-align: right;\n",
              "    }\n",
              "</style>\n",
              "<table border=\"1\" class=\"dataframe\">\n",
              "  <thead>\n",
              "    <tr style=\"text-align: right;\">\n",
              "      <th></th>\n",
              "      <th>A</th>\n",
              "      <th>B</th>\n",
              "      <th>C</th>\n",
              "      <th>D</th>\n",
              "    </tr>\n",
              "  </thead>\n",
              "  <tbody>\n",
              "    <tr>\n",
              "      <th>2013-01-02</th>\n",
              "      <td>-0.259564</td>\n",
              "      <td>0.444768</td>\n",
              "      <td>0.217988</td>\n",
              "      <td>-0.218826</td>\n",
              "    </tr>\n",
              "    <tr>\n",
              "      <th>2013-01-03</th>\n",
              "      <td>-0.562367</td>\n",
              "      <td>1.347180</td>\n",
              "      <td>-0.217952</td>\n",
              "      <td>-0.609495</td>\n",
              "    </tr>\n",
              "    <tr>\n",
              "      <th>2013-01-04</th>\n",
              "      <td>-1.307470</td>\n",
              "      <td>0.494650</td>\n",
              "      <td>1.218323</td>\n",
              "      <td>1.020725</td>\n",
              "    </tr>\n",
              "  </tbody>\n",
              "</table>\n",
              "</div>"
            ],
            "text/plain": [
              "                   A         B         C         D\n",
              "2013-01-02 -0.259564  0.444768  0.217988 -0.218826\n",
              "2013-01-03 -0.562367  1.347180 -0.217952 -0.609495\n",
              "2013-01-04 -1.307470  0.494650  1.218323  1.020725"
            ]
          },
          "metadata": {
            "tags": []
          },
          "execution_count": 19
        }
      ]
    },
    {
      "cell_type": "markdown",
      "metadata": {
        "id": "yg0bkklW44me"
      },
      "source": [
        "**Selection by Label (Label 을 통한 선택)**\n",
        "\n",
        "라벨을 사용하여 횡단면을 얻는다."
      ]
    },
    {
      "cell_type": "code",
      "metadata": {
        "id": "KiMk1vA746pt",
        "outputId": "a8762d5b-d416-4a9a-9c28-a1527b8b9e37",
        "colab": {
          "base_uri": "https://localhost:8080/"
        }
      },
      "source": [
        "df.loc[dates[0]] #데이터의 0행을 선택"
      ],
      "execution_count": null,
      "outputs": [
        {
          "output_type": "execute_result",
          "data": {
            "text/plain": [
              "A    0.092341\n",
              "B   -0.450261\n",
              "C    0.367813\n",
              "D    0.813462\n",
              "Name: 2013-01-01 00:00:00, dtype: float64"
            ]
          },
          "metadata": {
            "tags": []
          },
          "execution_count": 20
        }
      ]
    },
    {
      "cell_type": "markdown",
      "metadata": {
        "id": "0NggiOr-4_T5"
      },
      "source": [
        "라벨을 사용하여 여러 축 (의 데이터)을 얻는다."
      ]
    },
    {
      "cell_type": "code",
      "metadata": {
        "id": "oJaT_3lp5CYG",
        "outputId": "c614603a-ff67-4fb9-967f-bb071154c365",
        "colab": {
          "base_uri": "https://localhost:8080/",
          "height": 225
        }
      },
      "source": [
        "df.loc[:,['A','B']] # loc의 첫번째는 행에 대한 정보, 두번째는 열에 대한 정보를 입력\n",
        "# 모든 행은 :로 표시하고 쉼표(,)를 입력하고 열명을 입력하면 해당 열만 가져옴"
      ],
      "execution_count": null,
      "outputs": [
        {
          "output_type": "execute_result",
          "data": {
            "text/html": [
              "<div>\n",
              "<style scoped>\n",
              "    .dataframe tbody tr th:only-of-type {\n",
              "        vertical-align: middle;\n",
              "    }\n",
              "\n",
              "    .dataframe tbody tr th {\n",
              "        vertical-align: top;\n",
              "    }\n",
              "\n",
              "    .dataframe thead th {\n",
              "        text-align: right;\n",
              "    }\n",
              "</style>\n",
              "<table border=\"1\" class=\"dataframe\">\n",
              "  <thead>\n",
              "    <tr style=\"text-align: right;\">\n",
              "      <th></th>\n",
              "      <th>A</th>\n",
              "      <th>B</th>\n",
              "    </tr>\n",
              "  </thead>\n",
              "  <tbody>\n",
              "    <tr>\n",
              "      <th>2013-01-01</th>\n",
              "      <td>0.092341</td>\n",
              "      <td>-0.450261</td>\n",
              "    </tr>\n",
              "    <tr>\n",
              "      <th>2013-01-02</th>\n",
              "      <td>-0.259564</td>\n",
              "      <td>0.444768</td>\n",
              "    </tr>\n",
              "    <tr>\n",
              "      <th>2013-01-03</th>\n",
              "      <td>-0.562367</td>\n",
              "      <td>1.347180</td>\n",
              "    </tr>\n",
              "    <tr>\n",
              "      <th>2013-01-04</th>\n",
              "      <td>-1.307470</td>\n",
              "      <td>0.494650</td>\n",
              "    </tr>\n",
              "    <tr>\n",
              "      <th>2013-01-05</th>\n",
              "      <td>1.200182</td>\n",
              "      <td>1.063413</td>\n",
              "    </tr>\n",
              "    <tr>\n",
              "      <th>2013-01-06</th>\n",
              "      <td>0.232605</td>\n",
              "      <td>-1.285717</td>\n",
              "    </tr>\n",
              "  </tbody>\n",
              "</table>\n",
              "</div>"
            ],
            "text/plain": [
              "                   A         B\n",
              "2013-01-01  0.092341 -0.450261\n",
              "2013-01-02 -0.259564  0.444768\n",
              "2013-01-03 -0.562367  1.347180\n",
              "2013-01-04 -1.307470  0.494650\n",
              "2013-01-05  1.200182  1.063413\n",
              "2013-01-06  0.232605 -1.285717"
            ]
          },
          "metadata": {
            "tags": []
          },
          "execution_count": 25
        }
      ]
    },
    {
      "cell_type": "markdown",
      "metadata": {
        "id": "F_tTcMZ15DH4"
      },
      "source": [
        "양쪽 종단점을 포함한 라벨 슬라이싱을 본다."
      ]
    },
    {
      "cell_type": "code",
      "metadata": {
        "id": "egYzL6RE5EMr",
        "outputId": "9d48a975-6c17-4767-fe88-53543f25e3ef",
        "colab": {
          "base_uri": "https://localhost:8080/",
          "height": 136
        }
      },
      "source": [
        "df.loc['20130102':'20130104', ['A','B']]"
      ],
      "execution_count": null,
      "outputs": [
        {
          "output_type": "execute_result",
          "data": {
            "text/html": [
              "<div>\n",
              "<style scoped>\n",
              "    .dataframe tbody tr th:only-of-type {\n",
              "        vertical-align: middle;\n",
              "    }\n",
              "\n",
              "    .dataframe tbody tr th {\n",
              "        vertical-align: top;\n",
              "    }\n",
              "\n",
              "    .dataframe thead th {\n",
              "        text-align: right;\n",
              "    }\n",
              "</style>\n",
              "<table border=\"1\" class=\"dataframe\">\n",
              "  <thead>\n",
              "    <tr style=\"text-align: right;\">\n",
              "      <th></th>\n",
              "      <th>A</th>\n",
              "      <th>B</th>\n",
              "    </tr>\n",
              "  </thead>\n",
              "  <tbody>\n",
              "    <tr>\n",
              "      <th>2013-01-02</th>\n",
              "      <td>-0.259564</td>\n",
              "      <td>0.444768</td>\n",
              "    </tr>\n",
              "    <tr>\n",
              "      <th>2013-01-03</th>\n",
              "      <td>-0.562367</td>\n",
              "      <td>1.347180</td>\n",
              "    </tr>\n",
              "    <tr>\n",
              "      <th>2013-01-04</th>\n",
              "      <td>-1.307470</td>\n",
              "      <td>0.494650</td>\n",
              "    </tr>\n",
              "  </tbody>\n",
              "</table>\n",
              "</div>"
            ],
            "text/plain": [
              "                   A         B\n",
              "2013-01-02 -0.259564  0.444768\n",
              "2013-01-03 -0.562367  1.347180\n",
              "2013-01-04 -1.307470  0.494650"
            ]
          },
          "metadata": {
            "tags": []
          },
          "execution_count": 26
        }
      ]
    },
    {
      "cell_type": "markdown",
      "metadata": {
        "id": "Ok4maDE25Fxw"
      },
      "source": [
        "반환되는 객체의 차원를 줄인다."
      ]
    },
    {
      "cell_type": "code",
      "metadata": {
        "id": "oHMFhCd15HN6",
        "outputId": "7f0ebba3-f7b0-4d90-d50c-634c31c284c4",
        "colab": {
          "base_uri": "https://localhost:8080/"
        }
      },
      "source": [
        "df.loc['20130102',['A','B']]"
      ],
      "execution_count": null,
      "outputs": [
        {
          "output_type": "execute_result",
          "data": {
            "text/plain": [
              "A   -0.259564\n",
              "B    0.444768\n",
              "Name: 2013-01-02 00:00:00, dtype: float64"
            ]
          },
          "metadata": {
            "tags": []
          },
          "execution_count": 27
        }
      ]
    },
    {
      "cell_type": "markdown",
      "metadata": {
        "id": "MRHKrFt35Qra"
      },
      "source": [
        "스칼라 값을 얻는다. # 스칼라: 변하지 않는 값"
      ]
    },
    {
      "cell_type": "code",
      "metadata": {
        "id": "KmPYKvWO5SQL",
        "outputId": "b51d54d8-9ab4-45ee-f0b5-7e06967fb468",
        "colab": {
          "base_uri": "https://localhost:8080/"
        }
      },
      "source": [
        "df.loc[dates[0],'A']"
      ],
      "execution_count": null,
      "outputs": [
        {
          "output_type": "execute_result",
          "data": {
            "text/plain": [
              "0.0923411461119207"
            ]
          },
          "metadata": {
            "tags": []
          },
          "execution_count": 29
        }
      ]
    },
    {
      "cell_type": "markdown",
      "metadata": {
        "id": "IRDi2mUs5Uii"
      },
      "source": [
        "스칼라 값을 더 빠르게 구하는 방법이다. (앞선 메소드와 동일하다.)"
      ]
    },
    {
      "cell_type": "code",
      "metadata": {
        "id": "PaHakUJx5WJy",
        "outputId": "7deb46c3-7c40-4db5-edac-b082acc0c741",
        "colab": {
          "base_uri": "https://localhost:8080/"
        }
      },
      "source": [
        "df.at[dates[0],'A']"
      ],
      "execution_count": null,
      "outputs": [
        {
          "output_type": "execute_result",
          "data": {
            "text/plain": [
              "0.0923411461119207"
            ]
          },
          "metadata": {
            "tags": []
          },
          "execution_count": 30
        }
      ]
    },
    {
      "cell_type": "markdown",
      "metadata": {
        "id": "tSrf_bGa5Yey"
      },
      "source": [
        "**Selection by Position (위치로 선택하기)**\n",
        "\n",
        "넘겨받은 정수의 위치를 기준으로 선택한다."
      ]
    },
    {
      "cell_type": "code",
      "metadata": {
        "id": "6R-VZm9a5fCn",
        "outputId": "f468eb74-fe9a-479f-bc22-df836b22071d",
        "colab": {
          "base_uri": "https://localhost:8080/"
        }
      },
      "source": [
        "df.iloc[3]"
      ],
      "execution_count": null,
      "outputs": [
        {
          "output_type": "execute_result",
          "data": {
            "text/plain": [
              "A   -1.307470\n",
              "B    0.494650\n",
              "C    1.218323\n",
              "D    1.020725\n",
              "Name: 2013-01-04 00:00:00, dtype: float64"
            ]
          },
          "metadata": {
            "tags": []
          },
          "execution_count": 31
        }
      ]
    },
    {
      "cell_type": "markdown",
      "metadata": {
        "id": "zUdBAvDl5ge8"
      },
      "source": [
        "정수로 표기된 슬라이스들을 통해, numpy / python과 유사하게 작동한다."
      ]
    },
    {
      "cell_type": "code",
      "metadata": {
        "id": "ypeXODCz5iS_",
        "outputId": "96335632-fc82-4faa-cd0f-d161665a5fdd",
        "colab": {
          "base_uri": "https://localhost:8080/",
          "height": 106
        }
      },
      "source": [
        "df.iloc[3:5,0:2]"
      ],
      "execution_count": null,
      "outputs": [
        {
          "output_type": "execute_result",
          "data": {
            "text/html": [
              "<div>\n",
              "<style scoped>\n",
              "    .dataframe tbody tr th:only-of-type {\n",
              "        vertical-align: middle;\n",
              "    }\n",
              "\n",
              "    .dataframe tbody tr th {\n",
              "        vertical-align: top;\n",
              "    }\n",
              "\n",
              "    .dataframe thead th {\n",
              "        text-align: right;\n",
              "    }\n",
              "</style>\n",
              "<table border=\"1\" class=\"dataframe\">\n",
              "  <thead>\n",
              "    <tr style=\"text-align: right;\">\n",
              "      <th></th>\n",
              "      <th>A</th>\n",
              "      <th>B</th>\n",
              "    </tr>\n",
              "  </thead>\n",
              "  <tbody>\n",
              "    <tr>\n",
              "      <th>2013-01-04</th>\n",
              "      <td>-0.770361</td>\n",
              "      <td>-0.917366</td>\n",
              "    </tr>\n",
              "    <tr>\n",
              "      <th>2013-01-05</th>\n",
              "      <td>-0.759546</td>\n",
              "      <td>1.008527</td>\n",
              "    </tr>\n",
              "  </tbody>\n",
              "</table>\n",
              "</div>"
            ],
            "text/plain": [
              "                   A         B\n",
              "2013-01-04 -0.770361 -0.917366\n",
              "2013-01-05 -0.759546  1.008527"
            ]
          },
          "metadata": {
            "tags": []
          },
          "execution_count": 64
        }
      ]
    },
    {
      "cell_type": "markdown",
      "metadata": {
        "id": "aG2CJwlA9ncL"
      },
      "source": [
        "정수로 표기된 위치값의 리스트들을 통해, numpy / python의 스타일과 유사해진다."
      ]
    },
    {
      "cell_type": "code",
      "metadata": {
        "id": "nz4QKAM29pbZ",
        "outputId": "6d63bc28-27c0-4856-f843-4068c4c1d2c8",
        "colab": {
          "base_uri": "https://localhost:8080/",
          "height": 136
        }
      },
      "source": [
        "df.iloc[[1,2,4],[0,2]] # []안의 앞쪽[]은 행을 뒤쪽[]은 열 ex)앞은 날짜, 뒤는 A,B..."
      ],
      "execution_count": null,
      "outputs": [
        {
          "output_type": "execute_result",
          "data": {
            "text/html": [
              "<div>\n",
              "<style scoped>\n",
              "    .dataframe tbody tr th:only-of-type {\n",
              "        vertical-align: middle;\n",
              "    }\n",
              "\n",
              "    .dataframe tbody tr th {\n",
              "        vertical-align: top;\n",
              "    }\n",
              "\n",
              "    .dataframe thead th {\n",
              "        text-align: right;\n",
              "    }\n",
              "</style>\n",
              "<table border=\"1\" class=\"dataframe\">\n",
              "  <thead>\n",
              "    <tr style=\"text-align: right;\">\n",
              "      <th></th>\n",
              "      <th>A</th>\n",
              "      <th>C</th>\n",
              "    </tr>\n",
              "  </thead>\n",
              "  <tbody>\n",
              "    <tr>\n",
              "      <th>2013-01-02</th>\n",
              "      <td>-0.259564</td>\n",
              "      <td>0.217988</td>\n",
              "    </tr>\n",
              "    <tr>\n",
              "      <th>2013-01-03</th>\n",
              "      <td>-0.562367</td>\n",
              "      <td>-0.217952</td>\n",
              "    </tr>\n",
              "    <tr>\n",
              "      <th>2013-01-05</th>\n",
              "      <td>1.200182</td>\n",
              "      <td>-0.823259</td>\n",
              "    </tr>\n",
              "  </tbody>\n",
              "</table>\n",
              "</div>"
            ],
            "text/plain": [
              "                   A         C\n",
              "2013-01-02 -0.259564  0.217988\n",
              "2013-01-03 -0.562367 -0.217952\n",
              "2013-01-05  1.200182 -0.823259"
            ]
          },
          "metadata": {
            "tags": []
          },
          "execution_count": 32
        }
      ]
    },
    {
      "cell_type": "markdown",
      "metadata": {
        "id": "gPvW-o0j9rTV"
      },
      "source": [
        "명시적으로 행을 나누고자 하는 경우다."
      ]
    },
    {
      "cell_type": "code",
      "metadata": {
        "id": "_Ckxg83p9su5",
        "outputId": "17e53f8f-0d9f-4b06-979c-31fee898cd65",
        "colab": {
          "base_uri": "https://localhost:8080/",
          "height": 106
        }
      },
      "source": [
        "df.iloc[1:3,:] # 1:3은 1~2열, 뒤에 :은 모든열 표시"
      ],
      "execution_count": null,
      "outputs": [
        {
          "output_type": "execute_result",
          "data": {
            "text/html": [
              "<div>\n",
              "<style scoped>\n",
              "    .dataframe tbody tr th:only-of-type {\n",
              "        vertical-align: middle;\n",
              "    }\n",
              "\n",
              "    .dataframe tbody tr th {\n",
              "        vertical-align: top;\n",
              "    }\n",
              "\n",
              "    .dataframe thead th {\n",
              "        text-align: right;\n",
              "    }\n",
              "</style>\n",
              "<table border=\"1\" class=\"dataframe\">\n",
              "  <thead>\n",
              "    <tr style=\"text-align: right;\">\n",
              "      <th></th>\n",
              "      <th>A</th>\n",
              "      <th>B</th>\n",
              "      <th>C</th>\n",
              "      <th>D</th>\n",
              "    </tr>\n",
              "  </thead>\n",
              "  <tbody>\n",
              "    <tr>\n",
              "      <th>2013-01-02</th>\n",
              "      <td>0.392131</td>\n",
              "      <td>1.055226</td>\n",
              "      <td>1.192205</td>\n",
              "      <td>-1.323171</td>\n",
              "    </tr>\n",
              "    <tr>\n",
              "      <th>2013-01-03</th>\n",
              "      <td>0.200696</td>\n",
              "      <td>0.414275</td>\n",
              "      <td>0.190812</td>\n",
              "      <td>0.185149</td>\n",
              "    </tr>\n",
              "  </tbody>\n",
              "</table>\n",
              "</div>"
            ],
            "text/plain": [
              "                   A         B         C         D\n",
              "2013-01-02  0.392131  1.055226  1.192205 -1.323171\n",
              "2013-01-03  0.200696  0.414275  0.190812  0.185149"
            ]
          },
          "metadata": {
            "tags": []
          },
          "execution_count": 70
        }
      ]
    },
    {
      "cell_type": "markdown",
      "metadata": {
        "id": "sn1hBUGs9ulH"
      },
      "source": [
        "명시적으로 열을 나누고자 하는 경우다."
      ]
    },
    {
      "cell_type": "code",
      "metadata": {
        "id": "J64ILlv49vcb",
        "outputId": "0cbc2060-7889-4ffa-e035-3022032561c5",
        "colab": {
          "base_uri": "https://localhost:8080/",
          "height": 225
        }
      },
      "source": [
        "df.iloc[:,1:3]"
      ],
      "execution_count": null,
      "outputs": [
        {
          "output_type": "execute_result",
          "data": {
            "text/html": [
              "<div>\n",
              "<style scoped>\n",
              "    .dataframe tbody tr th:only-of-type {\n",
              "        vertical-align: middle;\n",
              "    }\n",
              "\n",
              "    .dataframe tbody tr th {\n",
              "        vertical-align: top;\n",
              "    }\n",
              "\n",
              "    .dataframe thead th {\n",
              "        text-align: right;\n",
              "    }\n",
              "</style>\n",
              "<table border=\"1\" class=\"dataframe\">\n",
              "  <thead>\n",
              "    <tr style=\"text-align: right;\">\n",
              "      <th></th>\n",
              "      <th>B</th>\n",
              "      <th>C</th>\n",
              "    </tr>\n",
              "  </thead>\n",
              "  <tbody>\n",
              "    <tr>\n",
              "      <th>2013-01-01</th>\n",
              "      <td>-0.450261</td>\n",
              "      <td>0.367813</td>\n",
              "    </tr>\n",
              "    <tr>\n",
              "      <th>2013-01-02</th>\n",
              "      <td>0.444768</td>\n",
              "      <td>0.217988</td>\n",
              "    </tr>\n",
              "    <tr>\n",
              "      <th>2013-01-03</th>\n",
              "      <td>1.347180</td>\n",
              "      <td>-0.217952</td>\n",
              "    </tr>\n",
              "    <tr>\n",
              "      <th>2013-01-04</th>\n",
              "      <td>0.494650</td>\n",
              "      <td>1.218323</td>\n",
              "    </tr>\n",
              "    <tr>\n",
              "      <th>2013-01-05</th>\n",
              "      <td>1.063413</td>\n",
              "      <td>-0.823259</td>\n",
              "    </tr>\n",
              "    <tr>\n",
              "      <th>2013-01-06</th>\n",
              "      <td>-1.285717</td>\n",
              "      <td>-0.797968</td>\n",
              "    </tr>\n",
              "  </tbody>\n",
              "</table>\n",
              "</div>"
            ],
            "text/plain": [
              "                   B         C\n",
              "2013-01-01 -0.450261  0.367813\n",
              "2013-01-02  0.444768  0.217988\n",
              "2013-01-03  1.347180 -0.217952\n",
              "2013-01-04  0.494650  1.218323\n",
              "2013-01-05  1.063413 -0.823259\n",
              "2013-01-06 -1.285717 -0.797968"
            ]
          },
          "metadata": {
            "tags": []
          },
          "execution_count": 33
        }
      ]
    },
    {
      "cell_type": "markdown",
      "metadata": {
        "id": "BySTZe6l9wV7"
      },
      "source": [
        "명시적으로 (특정한) 값을 얻고자 하는 경우다."
      ]
    },
    {
      "cell_type": "code",
      "metadata": {
        "id": "v0oslnZF9xH_",
        "outputId": "5c59e73c-d316-41b5-93b9-65c3c26b66c0",
        "colab": {
          "base_uri": "https://localhost:8080/"
        }
      },
      "source": [
        "df.iloc[1,1]"
      ],
      "execution_count": null,
      "outputs": [
        {
          "output_type": "execute_result",
          "data": {
            "text/plain": [
              "0.44476785818328807"
            ]
          },
          "metadata": {
            "tags": []
          },
          "execution_count": 34
        }
      ]
    },
    {
      "cell_type": "markdown",
      "metadata": {
        "id": "kBvrKeMX9yMM"
      },
      "source": [
        "스칼라 값을 빠르게 얻는 방법이다. (위의 방식과 동일하다.)"
      ]
    },
    {
      "cell_type": "code",
      "metadata": {
        "id": "PoKY644F9zNh",
        "outputId": "65424f24-e60c-4932-fbd2-059da39bb06b",
        "colab": {
          "base_uri": "https://localhost:8080/"
        }
      },
      "source": [
        "df.iat[1,1]"
      ],
      "execution_count": null,
      "outputs": [
        {
          "output_type": "execute_result",
          "data": {
            "text/plain": [
              "0.44476785818328807"
            ]
          },
          "metadata": {
            "tags": []
          },
          "execution_count": 35
        }
      ]
    },
    {
      "cell_type": "markdown",
      "metadata": {
        "id": "r0kPpITD90jE"
      },
      "source": [
        "**Boolean Indexing**\n",
        "\n",
        "데이터를 선택하기 위해 단일 열의 값을 사용한다."
      ]
    },
    {
      "cell_type": "code",
      "metadata": {
        "id": "UnH0mzW496Nd",
        "outputId": "94abc93c-53f0-4af7-b7a7-8f1472addec9",
        "colab": {
          "base_uri": "https://localhost:8080/",
          "height": 136
        }
      },
      "source": [
        "df[df.A > 0] # df[데이터, 0보다큰 A열을 표시]"
      ],
      "execution_count": null,
      "outputs": [
        {
          "output_type": "execute_result",
          "data": {
            "text/html": [
              "<div>\n",
              "<style scoped>\n",
              "    .dataframe tbody tr th:only-of-type {\n",
              "        vertical-align: middle;\n",
              "    }\n",
              "\n",
              "    .dataframe tbody tr th {\n",
              "        vertical-align: top;\n",
              "    }\n",
              "\n",
              "    .dataframe thead th {\n",
              "        text-align: right;\n",
              "    }\n",
              "</style>\n",
              "<table border=\"1\" class=\"dataframe\">\n",
              "  <thead>\n",
              "    <tr style=\"text-align: right;\">\n",
              "      <th></th>\n",
              "      <th>A</th>\n",
              "      <th>B</th>\n",
              "      <th>C</th>\n",
              "      <th>D</th>\n",
              "    </tr>\n",
              "  </thead>\n",
              "  <tbody>\n",
              "    <tr>\n",
              "      <th>2013-01-01</th>\n",
              "      <td>0.092341</td>\n",
              "      <td>-0.450261</td>\n",
              "      <td>0.367813</td>\n",
              "      <td>0.813462</td>\n",
              "    </tr>\n",
              "    <tr>\n",
              "      <th>2013-01-05</th>\n",
              "      <td>1.200182</td>\n",
              "      <td>1.063413</td>\n",
              "      <td>-0.823259</td>\n",
              "      <td>1.319964</td>\n",
              "    </tr>\n",
              "    <tr>\n",
              "      <th>2013-01-06</th>\n",
              "      <td>0.232605</td>\n",
              "      <td>-1.285717</td>\n",
              "      <td>-0.797968</td>\n",
              "      <td>0.449817</td>\n",
              "    </tr>\n",
              "  </tbody>\n",
              "</table>\n",
              "</div>"
            ],
            "text/plain": [
              "                   A         B         C         D\n",
              "2013-01-01  0.092341 -0.450261  0.367813  0.813462\n",
              "2013-01-05  1.200182  1.063413 -0.823259  1.319964\n",
              "2013-01-06  0.232605 -1.285717 -0.797968  0.449817"
            ]
          },
          "metadata": {
            "tags": []
          },
          "execution_count": 36
        }
      ]
    },
    {
      "cell_type": "markdown",
      "metadata": {
        "id": "NTkb2U3Z97Pd"
      },
      "source": [
        "Boolean 조건을 충족하는 데이터프레임에서 값을 선택한다."
      ]
    },
    {
      "cell_type": "code",
      "metadata": {
        "id": "YBRRZZPD98Xb",
        "outputId": "af8be0b6-866d-422f-f329-3bd056d41dac",
        "colab": {
          "base_uri": "https://localhost:8080/",
          "height": 225
        }
      },
      "source": [
        "df[df > 0] # 결측값은 NaN으로 표기"
      ],
      "execution_count": null,
      "outputs": [
        {
          "output_type": "execute_result",
          "data": {
            "text/html": [
              "<div>\n",
              "<style scoped>\n",
              "    .dataframe tbody tr th:only-of-type {\n",
              "        vertical-align: middle;\n",
              "    }\n",
              "\n",
              "    .dataframe tbody tr th {\n",
              "        vertical-align: top;\n",
              "    }\n",
              "\n",
              "    .dataframe thead th {\n",
              "        text-align: right;\n",
              "    }\n",
              "</style>\n",
              "<table border=\"1\" class=\"dataframe\">\n",
              "  <thead>\n",
              "    <tr style=\"text-align: right;\">\n",
              "      <th></th>\n",
              "      <th>A</th>\n",
              "      <th>B</th>\n",
              "      <th>C</th>\n",
              "      <th>D</th>\n",
              "    </tr>\n",
              "  </thead>\n",
              "  <tbody>\n",
              "    <tr>\n",
              "      <th>2013-01-01</th>\n",
              "      <td>0.092341</td>\n",
              "      <td>NaN</td>\n",
              "      <td>0.367813</td>\n",
              "      <td>0.813462</td>\n",
              "    </tr>\n",
              "    <tr>\n",
              "      <th>2013-01-02</th>\n",
              "      <td>NaN</td>\n",
              "      <td>0.444768</td>\n",
              "      <td>0.217988</td>\n",
              "      <td>NaN</td>\n",
              "    </tr>\n",
              "    <tr>\n",
              "      <th>2013-01-03</th>\n",
              "      <td>NaN</td>\n",
              "      <td>1.347180</td>\n",
              "      <td>NaN</td>\n",
              "      <td>NaN</td>\n",
              "    </tr>\n",
              "    <tr>\n",
              "      <th>2013-01-04</th>\n",
              "      <td>NaN</td>\n",
              "      <td>0.494650</td>\n",
              "      <td>1.218323</td>\n",
              "      <td>1.020725</td>\n",
              "    </tr>\n",
              "    <tr>\n",
              "      <th>2013-01-05</th>\n",
              "      <td>1.200182</td>\n",
              "      <td>1.063413</td>\n",
              "      <td>NaN</td>\n",
              "      <td>1.319964</td>\n",
              "    </tr>\n",
              "    <tr>\n",
              "      <th>2013-01-06</th>\n",
              "      <td>0.232605</td>\n",
              "      <td>NaN</td>\n",
              "      <td>NaN</td>\n",
              "      <td>0.449817</td>\n",
              "    </tr>\n",
              "  </tbody>\n",
              "</table>\n",
              "</div>"
            ],
            "text/plain": [
              "                   A         B         C         D\n",
              "2013-01-01  0.092341       NaN  0.367813  0.813462\n",
              "2013-01-02       NaN  0.444768  0.217988       NaN\n",
              "2013-01-03       NaN  1.347180       NaN       NaN\n",
              "2013-01-04       NaN  0.494650  1.218323  1.020725\n",
              "2013-01-05  1.200182  1.063413       NaN  1.319964\n",
              "2013-01-06  0.232605       NaN       NaN  0.449817"
            ]
          },
          "metadata": {
            "tags": []
          },
          "execution_count": 37
        }
      ]
    },
    {
      "cell_type": "markdown",
      "metadata": {
        "id": "sxTTnKtl99gs"
      },
      "source": [
        "필터링을 위한 메소드 isin()을 사용한다."
      ]
    },
    {
      "cell_type": "code",
      "metadata": {
        "id": "N-cB4tkf9-FJ",
        "outputId": "767814f7-1226-43fe-d62b-d00a24d310e2",
        "colab": {
          "base_uri": "https://localhost:8080/",
          "height": 225
        }
      },
      "source": [
        "df2 = df.copy() # E 값에 데이터를 삽입\n",
        "df2['E'] = ['one', 'one', 'two', 'three', 'four', 'three']\n",
        "df2"
      ],
      "execution_count": null,
      "outputs": [
        {
          "output_type": "execute_result",
          "data": {
            "text/html": [
              "<div>\n",
              "<style scoped>\n",
              "    .dataframe tbody tr th:only-of-type {\n",
              "        vertical-align: middle;\n",
              "    }\n",
              "\n",
              "    .dataframe tbody tr th {\n",
              "        vertical-align: top;\n",
              "    }\n",
              "\n",
              "    .dataframe thead th {\n",
              "        text-align: right;\n",
              "    }\n",
              "</style>\n",
              "<table border=\"1\" class=\"dataframe\">\n",
              "  <thead>\n",
              "    <tr style=\"text-align: right;\">\n",
              "      <th></th>\n",
              "      <th>A</th>\n",
              "      <th>B</th>\n",
              "      <th>C</th>\n",
              "      <th>D</th>\n",
              "      <th>E</th>\n",
              "    </tr>\n",
              "  </thead>\n",
              "  <tbody>\n",
              "    <tr>\n",
              "      <th>2013-01-01</th>\n",
              "      <td>0.092341</td>\n",
              "      <td>-0.450261</td>\n",
              "      <td>0.367813</td>\n",
              "      <td>0.813462</td>\n",
              "      <td>one</td>\n",
              "    </tr>\n",
              "    <tr>\n",
              "      <th>2013-01-02</th>\n",
              "      <td>-0.259564</td>\n",
              "      <td>0.444768</td>\n",
              "      <td>0.217988</td>\n",
              "      <td>-0.218826</td>\n",
              "      <td>one</td>\n",
              "    </tr>\n",
              "    <tr>\n",
              "      <th>2013-01-03</th>\n",
              "      <td>-0.562367</td>\n",
              "      <td>1.347180</td>\n",
              "      <td>-0.217952</td>\n",
              "      <td>-0.609495</td>\n",
              "      <td>two</td>\n",
              "    </tr>\n",
              "    <tr>\n",
              "      <th>2013-01-04</th>\n",
              "      <td>-1.307470</td>\n",
              "      <td>0.494650</td>\n",
              "      <td>1.218323</td>\n",
              "      <td>1.020725</td>\n",
              "      <td>three</td>\n",
              "    </tr>\n",
              "    <tr>\n",
              "      <th>2013-01-05</th>\n",
              "      <td>1.200182</td>\n",
              "      <td>1.063413</td>\n",
              "      <td>-0.823259</td>\n",
              "      <td>1.319964</td>\n",
              "      <td>four</td>\n",
              "    </tr>\n",
              "    <tr>\n",
              "      <th>2013-01-06</th>\n",
              "      <td>0.232605</td>\n",
              "      <td>-1.285717</td>\n",
              "      <td>-0.797968</td>\n",
              "      <td>0.449817</td>\n",
              "      <td>three</td>\n",
              "    </tr>\n",
              "  </tbody>\n",
              "</table>\n",
              "</div>"
            ],
            "text/plain": [
              "                   A         B         C         D      E\n",
              "2013-01-01  0.092341 -0.450261  0.367813  0.813462    one\n",
              "2013-01-02 -0.259564  0.444768  0.217988 -0.218826    one\n",
              "2013-01-03 -0.562367  1.347180 -0.217952 -0.609495    two\n",
              "2013-01-04 -1.307470  0.494650  1.218323  1.020725  three\n",
              "2013-01-05  1.200182  1.063413 -0.823259  1.319964   four\n",
              "2013-01-06  0.232605 -1.285717 -0.797968  0.449817  three"
            ]
          },
          "metadata": {
            "tags": []
          },
          "execution_count": 38
        }
      ]
    },
    {
      "cell_type": "code",
      "metadata": {
        "id": "RXg5HMRv-AFB",
        "outputId": "49f99b6a-bd0e-441a-f70d-9188d4927cb0",
        "colab": {
          "base_uri": "https://localhost:8080/",
          "height": 106
        }
      },
      "source": [
        "df2[df2['E'].isin(['two','four'])] # 위의 값에서 'two,four'을 필터함"
      ],
      "execution_count": null,
      "outputs": [
        {
          "output_type": "execute_result",
          "data": {
            "text/html": [
              "<div>\n",
              "<style scoped>\n",
              "    .dataframe tbody tr th:only-of-type {\n",
              "        vertical-align: middle;\n",
              "    }\n",
              "\n",
              "    .dataframe tbody tr th {\n",
              "        vertical-align: top;\n",
              "    }\n",
              "\n",
              "    .dataframe thead th {\n",
              "        text-align: right;\n",
              "    }\n",
              "</style>\n",
              "<table border=\"1\" class=\"dataframe\">\n",
              "  <thead>\n",
              "    <tr style=\"text-align: right;\">\n",
              "      <th></th>\n",
              "      <th>A</th>\n",
              "      <th>B</th>\n",
              "      <th>C</th>\n",
              "      <th>D</th>\n",
              "      <th>E</th>\n",
              "    </tr>\n",
              "  </thead>\n",
              "  <tbody>\n",
              "    <tr>\n",
              "      <th>2013-01-03</th>\n",
              "      <td>-0.562367</td>\n",
              "      <td>1.347180</td>\n",
              "      <td>-0.217952</td>\n",
              "      <td>-0.609495</td>\n",
              "      <td>two</td>\n",
              "    </tr>\n",
              "    <tr>\n",
              "      <th>2013-01-05</th>\n",
              "      <td>1.200182</td>\n",
              "      <td>1.063413</td>\n",
              "      <td>-0.823259</td>\n",
              "      <td>1.319964</td>\n",
              "      <td>four</td>\n",
              "    </tr>\n",
              "  </tbody>\n",
              "</table>\n",
              "</div>"
            ],
            "text/plain": [
              "                   A         B         C         D     E\n",
              "2013-01-03 -0.562367  1.347180 -0.217952 -0.609495   two\n",
              "2013-01-05  1.200182  1.063413 -0.823259  1.319964  four"
            ]
          },
          "metadata": {
            "tags": []
          },
          "execution_count": 39
        }
      ]
    },
    {
      "cell_type": "markdown",
      "metadata": {
        "id": "MXiqpf_T-Bcv"
      },
      "source": [
        "**Setting (설정)**\n",
        "\n",
        "새 열을 설정하면 데이터가 인덱스 별로 자동 정렬된다."
      ]
    },
    {
      "cell_type": "code",
      "metadata": {
        "id": "UxXGX0TL-EIC",
        "outputId": "530e0d2a-1d0b-458e-8148-75d11ad7fb34",
        "colab": {
          "base_uri": "https://localhost:8080/"
        }
      },
      "source": [
        "s1 = pd.Series([1,2,3,4,5,6], index=pd.date_range('20130102', periods=6))\n",
        "s1"
      ],
      "execution_count": null,
      "outputs": [
        {
          "output_type": "execute_result",
          "data": {
            "text/plain": [
              "2013-01-02    1\n",
              "2013-01-03    2\n",
              "2013-01-04    3\n",
              "2013-01-05    4\n",
              "2013-01-06    5\n",
              "2013-01-07    6\n",
              "Freq: D, dtype: int64"
            ]
          },
          "metadata": {
            "tags": []
          },
          "execution_count": 40
        }
      ]
    },
    {
      "cell_type": "code",
      "metadata": {
        "id": "ACkPcce5-F8m"
      },
      "source": [
        "df['F'] = s1"
      ],
      "execution_count": null,
      "outputs": []
    },
    {
      "cell_type": "markdown",
      "metadata": {
        "id": "UC8wRZ38-Hmp"
      },
      "source": [
        "라벨에 의해 값을 설정한다."
      ]
    },
    {
      "cell_type": "code",
      "metadata": {
        "id": "KGY6hbwf-I9K"
      },
      "source": [
        "df.at[dates[0],'A'] = 0"
      ],
      "execution_count": null,
      "outputs": []
    },
    {
      "cell_type": "markdown",
      "metadata": {
        "id": "HyXiyNX9-JzH"
      },
      "source": [
        "위치에 의해 값을 설정한다."
      ]
    },
    {
      "cell_type": "code",
      "metadata": {
        "id": "lqQvFNbv-LbS"
      },
      "source": [
        "df.iat[0,1] = 0"
      ],
      "execution_count": null,
      "outputs": []
    },
    {
      "cell_type": "markdown",
      "metadata": {
        "id": "78PtBpy_-Mfu"
      },
      "source": [
        "Numpy 배열을 사용한 할당에 의해 값을 설정한다."
      ]
    },
    {
      "cell_type": "code",
      "metadata": {
        "id": "X0mDn2-y-OTu"
      },
      "source": [
        "df.loc[:,'D'] = np.array([5] * len(df))"
      ],
      "execution_count": null,
      "outputs": []
    },
    {
      "cell_type": "markdown",
      "metadata": {
        "id": "fAci0o_V-Pde"
      },
      "source": [
        "위 설정대로 작동한 결과이다."
      ]
    },
    {
      "cell_type": "code",
      "metadata": {
        "id": "L26DLK9E-Qfw",
        "outputId": "7cbde240-65d4-4c2c-8e69-4d641f2d76bd",
        "colab": {
          "base_uri": "https://localhost:8080/",
          "height": 225
        }
      },
      "source": [
        "df"
      ],
      "execution_count": null,
      "outputs": [
        {
          "output_type": "execute_result",
          "data": {
            "text/html": [
              "<div>\n",
              "<style scoped>\n",
              "    .dataframe tbody tr th:only-of-type {\n",
              "        vertical-align: middle;\n",
              "    }\n",
              "\n",
              "    .dataframe tbody tr th {\n",
              "        vertical-align: top;\n",
              "    }\n",
              "\n",
              "    .dataframe thead th {\n",
              "        text-align: right;\n",
              "    }\n",
              "</style>\n",
              "<table border=\"1\" class=\"dataframe\">\n",
              "  <thead>\n",
              "    <tr style=\"text-align: right;\">\n",
              "      <th></th>\n",
              "      <th>A</th>\n",
              "      <th>B</th>\n",
              "      <th>C</th>\n",
              "      <th>D</th>\n",
              "      <th>F</th>\n",
              "    </tr>\n",
              "  </thead>\n",
              "  <tbody>\n",
              "    <tr>\n",
              "      <th>2013-01-01</th>\n",
              "      <td>0.000000</td>\n",
              "      <td>0.000000</td>\n",
              "      <td>0.367813</td>\n",
              "      <td>5</td>\n",
              "      <td>NaN</td>\n",
              "    </tr>\n",
              "    <tr>\n",
              "      <th>2013-01-02</th>\n",
              "      <td>-0.259564</td>\n",
              "      <td>0.444768</td>\n",
              "      <td>0.217988</td>\n",
              "      <td>5</td>\n",
              "      <td>1.0</td>\n",
              "    </tr>\n",
              "    <tr>\n",
              "      <th>2013-01-03</th>\n",
              "      <td>-0.562367</td>\n",
              "      <td>1.347180</td>\n",
              "      <td>-0.217952</td>\n",
              "      <td>5</td>\n",
              "      <td>2.0</td>\n",
              "    </tr>\n",
              "    <tr>\n",
              "      <th>2013-01-04</th>\n",
              "      <td>-1.307470</td>\n",
              "      <td>0.494650</td>\n",
              "      <td>1.218323</td>\n",
              "      <td>5</td>\n",
              "      <td>3.0</td>\n",
              "    </tr>\n",
              "    <tr>\n",
              "      <th>2013-01-05</th>\n",
              "      <td>1.200182</td>\n",
              "      <td>1.063413</td>\n",
              "      <td>-0.823259</td>\n",
              "      <td>5</td>\n",
              "      <td>4.0</td>\n",
              "    </tr>\n",
              "    <tr>\n",
              "      <th>2013-01-06</th>\n",
              "      <td>0.232605</td>\n",
              "      <td>-1.285717</td>\n",
              "      <td>-0.797968</td>\n",
              "      <td>5</td>\n",
              "      <td>5.0</td>\n",
              "    </tr>\n",
              "  </tbody>\n",
              "</table>\n",
              "</div>"
            ],
            "text/plain": [
              "                   A         B         C  D    F\n",
              "2013-01-01  0.000000  0.000000  0.367813  5  NaN\n",
              "2013-01-02 -0.259564  0.444768  0.217988  5  1.0\n",
              "2013-01-03 -0.562367  1.347180 -0.217952  5  2.0\n",
              "2013-01-04 -1.307470  0.494650  1.218323  5  3.0\n",
              "2013-01-05  1.200182  1.063413 -0.823259  5  4.0\n",
              "2013-01-06  0.232605 -1.285717 -0.797968  5  5.0"
            ]
          },
          "metadata": {
            "tags": []
          },
          "execution_count": 47
        }
      ]
    },
    {
      "cell_type": "markdown",
      "metadata": {
        "id": "2_HsMBsh-R_O"
      },
      "source": [
        "where 연산을 설정한다."
      ]
    },
    {
      "cell_type": "code",
      "metadata": {
        "id": "SRnJuToW-TAn",
        "outputId": "006009c7-0f47-4fd1-a4e7-f6d4c841099e",
        "colab": {
          "base_uri": "https://localhost:8080/",
          "height": 225
        }
      },
      "source": [
        "df2 = df.copy() # 얕은 복사\n",
        "df2[df2 > 0] = -df2\n",
        "df2"
      ],
      "execution_count": null,
      "outputs": [
        {
          "output_type": "execute_result",
          "data": {
            "text/html": [
              "<div>\n",
              "<style scoped>\n",
              "    .dataframe tbody tr th:only-of-type {\n",
              "        vertical-align: middle;\n",
              "    }\n",
              "\n",
              "    .dataframe tbody tr th {\n",
              "        vertical-align: top;\n",
              "    }\n",
              "\n",
              "    .dataframe thead th {\n",
              "        text-align: right;\n",
              "    }\n",
              "</style>\n",
              "<table border=\"1\" class=\"dataframe\">\n",
              "  <thead>\n",
              "    <tr style=\"text-align: right;\">\n",
              "      <th></th>\n",
              "      <th>A</th>\n",
              "      <th>B</th>\n",
              "      <th>C</th>\n",
              "      <th>D</th>\n",
              "      <th>F</th>\n",
              "    </tr>\n",
              "  </thead>\n",
              "  <tbody>\n",
              "    <tr>\n",
              "      <th>2013-01-01</th>\n",
              "      <td>0.000000</td>\n",
              "      <td>0.000000</td>\n",
              "      <td>-0.367813</td>\n",
              "      <td>-5</td>\n",
              "      <td>NaN</td>\n",
              "    </tr>\n",
              "    <tr>\n",
              "      <th>2013-01-02</th>\n",
              "      <td>-0.259564</td>\n",
              "      <td>-0.444768</td>\n",
              "      <td>-0.217988</td>\n",
              "      <td>-5</td>\n",
              "      <td>-1.0</td>\n",
              "    </tr>\n",
              "    <tr>\n",
              "      <th>2013-01-03</th>\n",
              "      <td>-0.562367</td>\n",
              "      <td>-1.347180</td>\n",
              "      <td>-0.217952</td>\n",
              "      <td>-5</td>\n",
              "      <td>-2.0</td>\n",
              "    </tr>\n",
              "    <tr>\n",
              "      <th>2013-01-04</th>\n",
              "      <td>-1.307470</td>\n",
              "      <td>-0.494650</td>\n",
              "      <td>-1.218323</td>\n",
              "      <td>-5</td>\n",
              "      <td>-3.0</td>\n",
              "    </tr>\n",
              "    <tr>\n",
              "      <th>2013-01-05</th>\n",
              "      <td>-1.200182</td>\n",
              "      <td>-1.063413</td>\n",
              "      <td>-0.823259</td>\n",
              "      <td>-5</td>\n",
              "      <td>-4.0</td>\n",
              "    </tr>\n",
              "    <tr>\n",
              "      <th>2013-01-06</th>\n",
              "      <td>-0.232605</td>\n",
              "      <td>-1.285717</td>\n",
              "      <td>-0.797968</td>\n",
              "      <td>-5</td>\n",
              "      <td>-5.0</td>\n",
              "    </tr>\n",
              "  </tbody>\n",
              "</table>\n",
              "</div>"
            ],
            "text/plain": [
              "                   A         B         C  D    F\n",
              "2013-01-01  0.000000  0.000000 -0.367813 -5  NaN\n",
              "2013-01-02 -0.259564 -0.444768 -0.217988 -5 -1.0\n",
              "2013-01-03 -0.562367 -1.347180 -0.217952 -5 -2.0\n",
              "2013-01-04 -1.307470 -0.494650 -1.218323 -5 -3.0\n",
              "2013-01-05 -1.200182 -1.063413 -0.823259 -5 -4.0\n",
              "2013-01-06 -0.232605 -1.285717 -0.797968 -5 -5.0"
            ]
          },
          "metadata": {
            "tags": []
          },
          "execution_count": 52
        }
      ]
    },
    {
      "cell_type": "markdown",
      "metadata": {
        "id": "hRhlHM-3-UZr"
      },
      "source": [
        "## 4. Missing Data (결측치)\n",
        "\n",
        "Pandas는 결측치를 표현하기 위해 주로 np.nan 값을 사용한다. 이 방법은 기본 설정값이지만 계산에는 포함되지 않는다. Missing data section을 참조하자.\n",
        "\n",
        "Reindexing으로 지정된 축 상의 인덱스를 변경 / 추가 / 삭제할 수 있다. Reindexing은 데이터의 복사본을 반환한다."
      ]
    },
    {
      "cell_type": "code",
      "metadata": {
        "id": "VWGImVIi-Yqa",
        "outputId": "588578ae-7327-4470-eaa0-b4341d6d7199",
        "colab": {
          "base_uri": "https://localhost:8080/",
          "height": 166
        }
      },
      "source": [
        "df1 = df.reindex(index=dates[0:4], columns=list(df.columns) + ['E'])\n",
        "df1.loc[dates[0]:dates[1],'E'] = 1\n",
        "df1 # reindex는 index값을 새로 입히는 것, columns는 열 + E"
      ],
      "execution_count": null,
      "outputs": [
        {
          "output_type": "execute_result",
          "data": {
            "text/html": [
              "<div>\n",
              "<style scoped>\n",
              "    .dataframe tbody tr th:only-of-type {\n",
              "        vertical-align: middle;\n",
              "    }\n",
              "\n",
              "    .dataframe tbody tr th {\n",
              "        vertical-align: top;\n",
              "    }\n",
              "\n",
              "    .dataframe thead th {\n",
              "        text-align: right;\n",
              "    }\n",
              "</style>\n",
              "<table border=\"1\" class=\"dataframe\">\n",
              "  <thead>\n",
              "    <tr style=\"text-align: right;\">\n",
              "      <th></th>\n",
              "      <th>A</th>\n",
              "      <th>B</th>\n",
              "      <th>C</th>\n",
              "      <th>D</th>\n",
              "      <th>F</th>\n",
              "      <th>E</th>\n",
              "    </tr>\n",
              "  </thead>\n",
              "  <tbody>\n",
              "    <tr>\n",
              "      <th>2013-01-01</th>\n",
              "      <td>0.000000</td>\n",
              "      <td>0.000000</td>\n",
              "      <td>-0.367813</td>\n",
              "      <td>-5</td>\n",
              "      <td>NaN</td>\n",
              "      <td>1.0</td>\n",
              "    </tr>\n",
              "    <tr>\n",
              "      <th>2013-01-02</th>\n",
              "      <td>-0.259564</td>\n",
              "      <td>-0.444768</td>\n",
              "      <td>-0.217988</td>\n",
              "      <td>-5</td>\n",
              "      <td>-1.0</td>\n",
              "      <td>1.0</td>\n",
              "    </tr>\n",
              "    <tr>\n",
              "      <th>2013-01-03</th>\n",
              "      <td>-0.562367</td>\n",
              "      <td>-1.347180</td>\n",
              "      <td>-0.217952</td>\n",
              "      <td>-5</td>\n",
              "      <td>-2.0</td>\n",
              "      <td>NaN</td>\n",
              "    </tr>\n",
              "    <tr>\n",
              "      <th>2013-01-04</th>\n",
              "      <td>-1.307470</td>\n",
              "      <td>-0.494650</td>\n",
              "      <td>-1.218323</td>\n",
              "      <td>-5</td>\n",
              "      <td>-3.0</td>\n",
              "      <td>NaN</td>\n",
              "    </tr>\n",
              "  </tbody>\n",
              "</table>\n",
              "</div>"
            ],
            "text/plain": [
              "                   A         B         C  D    F    E\n",
              "2013-01-01  0.000000  0.000000 -0.367813 -5  NaN  1.0\n",
              "2013-01-02 -0.259564 -0.444768 -0.217988 -5 -1.0  1.0\n",
              "2013-01-03 -0.562367 -1.347180 -0.217952 -5 -2.0  NaN\n",
              "2013-01-04 -1.307470 -0.494650 -1.218323 -5 -3.0  NaN"
            ]
          },
          "metadata": {
            "tags": []
          },
          "execution_count": 54
        }
      ]
    },
    {
      "cell_type": "markdown",
      "metadata": {
        "id": "8UcQv_jO-aFB"
      },
      "source": [
        "결측치를 가지고 있는 행들을 지운다."
      ]
    },
    {
      "cell_type": "code",
      "metadata": {
        "id": "1H6O-uq7-btP",
        "outputId": "82c15274-7b7a-44bd-a3d3-4b6cbfe0d96c",
        "colab": {
          "base_uri": "https://localhost:8080/",
          "height": 77
        }
      },
      "source": [
        "df1.dropna(how='any') # dropna는 결측값있는 행,열 지움\n",
        "# how=any는 하나 이상의 NA 또는 모든 NA가있는 경우 DataFrame에서 행 또는 열이 제거\n",
        "# 'any': NA 값이있는 경우 해당 행 또는 열을 삭제\n",
        "# 'all': 모든 값이 NA이면 해당 행 또는 열을 삭제"
      ],
      "execution_count": null,
      "outputs": [
        {
          "output_type": "execute_result",
          "data": {
            "text/html": [
              "<div>\n",
              "<style scoped>\n",
              "    .dataframe tbody tr th:only-of-type {\n",
              "        vertical-align: middle;\n",
              "    }\n",
              "\n",
              "    .dataframe tbody tr th {\n",
              "        vertical-align: top;\n",
              "    }\n",
              "\n",
              "    .dataframe thead th {\n",
              "        text-align: right;\n",
              "    }\n",
              "</style>\n",
              "<table border=\"1\" class=\"dataframe\">\n",
              "  <thead>\n",
              "    <tr style=\"text-align: right;\">\n",
              "      <th></th>\n",
              "      <th>A</th>\n",
              "      <th>B</th>\n",
              "      <th>C</th>\n",
              "      <th>D</th>\n",
              "      <th>F</th>\n",
              "      <th>E</th>\n",
              "    </tr>\n",
              "  </thead>\n",
              "  <tbody>\n",
              "    <tr>\n",
              "      <th>2013-01-02</th>\n",
              "      <td>-0.259564</td>\n",
              "      <td>-0.444768</td>\n",
              "      <td>-0.217988</td>\n",
              "      <td>-5</td>\n",
              "      <td>-1.0</td>\n",
              "      <td>1.0</td>\n",
              "    </tr>\n",
              "  </tbody>\n",
              "</table>\n",
              "</div>"
            ],
            "text/plain": [
              "                   A         B         C  D    F    E\n",
              "2013-01-02 -0.259564 -0.444768 -0.217988 -5 -1.0  1.0"
            ]
          },
          "metadata": {
            "tags": []
          },
          "execution_count": 55
        }
      ]
    },
    {
      "cell_type": "markdown",
      "metadata": {
        "id": "eR5iu8wd-cn5"
      },
      "source": [
        "결측치를 채워 넣는다."
      ]
    },
    {
      "cell_type": "code",
      "metadata": {
        "id": "p1oBjSI4-d0a",
        "outputId": "6cbe97bf-bdff-495f-ee95-f6e061cd33db",
        "colab": {
          "base_uri": "https://localhost:8080/",
          "height": 166
        }
      },
      "source": [
        "df1.fillna(value=5) #fillna은 결측값을 value의 값으로 변경해줌"
      ],
      "execution_count": null,
      "outputs": [
        {
          "output_type": "execute_result",
          "data": {
            "text/html": [
              "<div>\n",
              "<style scoped>\n",
              "    .dataframe tbody tr th:only-of-type {\n",
              "        vertical-align: middle;\n",
              "    }\n",
              "\n",
              "    .dataframe tbody tr th {\n",
              "        vertical-align: top;\n",
              "    }\n",
              "\n",
              "    .dataframe thead th {\n",
              "        text-align: right;\n",
              "    }\n",
              "</style>\n",
              "<table border=\"1\" class=\"dataframe\">\n",
              "  <thead>\n",
              "    <tr style=\"text-align: right;\">\n",
              "      <th></th>\n",
              "      <th>A</th>\n",
              "      <th>B</th>\n",
              "      <th>C</th>\n",
              "      <th>D</th>\n",
              "      <th>F</th>\n",
              "      <th>E</th>\n",
              "    </tr>\n",
              "  </thead>\n",
              "  <tbody>\n",
              "    <tr>\n",
              "      <th>2013-01-01</th>\n",
              "      <td>0.000000</td>\n",
              "      <td>0.000000</td>\n",
              "      <td>-0.367813</td>\n",
              "      <td>-5</td>\n",
              "      <td>3.0</td>\n",
              "      <td>1.0</td>\n",
              "    </tr>\n",
              "    <tr>\n",
              "      <th>2013-01-02</th>\n",
              "      <td>-0.259564</td>\n",
              "      <td>-0.444768</td>\n",
              "      <td>-0.217988</td>\n",
              "      <td>-5</td>\n",
              "      <td>-1.0</td>\n",
              "      <td>1.0</td>\n",
              "    </tr>\n",
              "    <tr>\n",
              "      <th>2013-01-03</th>\n",
              "      <td>-0.562367</td>\n",
              "      <td>-1.347180</td>\n",
              "      <td>-0.217952</td>\n",
              "      <td>-5</td>\n",
              "      <td>-2.0</td>\n",
              "      <td>3.0</td>\n",
              "    </tr>\n",
              "    <tr>\n",
              "      <th>2013-01-04</th>\n",
              "      <td>-1.307470</td>\n",
              "      <td>-0.494650</td>\n",
              "      <td>-1.218323</td>\n",
              "      <td>-5</td>\n",
              "      <td>-3.0</td>\n",
              "      <td>3.0</td>\n",
              "    </tr>\n",
              "  </tbody>\n",
              "</table>\n",
              "</div>"
            ],
            "text/plain": [
              "                   A         B         C  D    F    E\n",
              "2013-01-01  0.000000  0.000000 -0.367813 -5  3.0  1.0\n",
              "2013-01-02 -0.259564 -0.444768 -0.217988 -5 -1.0  1.0\n",
              "2013-01-03 -0.562367 -1.347180 -0.217952 -5 -2.0  3.0\n",
              "2013-01-04 -1.307470 -0.494650 -1.218323 -5 -3.0  3.0"
            ]
          },
          "metadata": {
            "tags": []
          },
          "execution_count": 58
        }
      ]
    },
    {
      "cell_type": "markdown",
      "metadata": {
        "id": "QpliiPLp-g-b"
      },
      "source": [
        "nan인 값에 boolean을 통한 표식을 얻는다.\n",
        "\n",
        "역자 주 : 데이터프레임의 모든 값이 boolean 형태로 표시되도록 하며, nan인 값에만 True가 표시되게 하는 함수이다."
      ]
    },
    {
      "cell_type": "code",
      "metadata": {
        "id": "BkEqVzLp-iRp",
        "outputId": "ce45d22f-1045-4f30-ba59-c654809a1759",
        "colab": {
          "base_uri": "https://localhost:8080/",
          "height": 166
        }
      },
      "source": [
        "pd.isna(df1)"
      ],
      "execution_count": null,
      "outputs": [
        {
          "output_type": "execute_result",
          "data": {
            "text/html": [
              "<div>\n",
              "<style scoped>\n",
              "    .dataframe tbody tr th:only-of-type {\n",
              "        vertical-align: middle;\n",
              "    }\n",
              "\n",
              "    .dataframe tbody tr th {\n",
              "        vertical-align: top;\n",
              "    }\n",
              "\n",
              "    .dataframe thead th {\n",
              "        text-align: right;\n",
              "    }\n",
              "</style>\n",
              "<table border=\"1\" class=\"dataframe\">\n",
              "  <thead>\n",
              "    <tr style=\"text-align: right;\">\n",
              "      <th></th>\n",
              "      <th>A</th>\n",
              "      <th>B</th>\n",
              "      <th>C</th>\n",
              "      <th>D</th>\n",
              "      <th>F</th>\n",
              "      <th>E</th>\n",
              "    </tr>\n",
              "  </thead>\n",
              "  <tbody>\n",
              "    <tr>\n",
              "      <th>2013-01-01</th>\n",
              "      <td>False</td>\n",
              "      <td>False</td>\n",
              "      <td>False</td>\n",
              "      <td>False</td>\n",
              "      <td>True</td>\n",
              "      <td>False</td>\n",
              "    </tr>\n",
              "    <tr>\n",
              "      <th>2013-01-02</th>\n",
              "      <td>False</td>\n",
              "      <td>False</td>\n",
              "      <td>False</td>\n",
              "      <td>False</td>\n",
              "      <td>False</td>\n",
              "      <td>False</td>\n",
              "    </tr>\n",
              "    <tr>\n",
              "      <th>2013-01-03</th>\n",
              "      <td>False</td>\n",
              "      <td>False</td>\n",
              "      <td>False</td>\n",
              "      <td>False</td>\n",
              "      <td>False</td>\n",
              "      <td>True</td>\n",
              "    </tr>\n",
              "    <tr>\n",
              "      <th>2013-01-04</th>\n",
              "      <td>False</td>\n",
              "      <td>False</td>\n",
              "      <td>False</td>\n",
              "      <td>False</td>\n",
              "      <td>False</td>\n",
              "      <td>True</td>\n",
              "    </tr>\n",
              "  </tbody>\n",
              "</table>\n",
              "</div>"
            ],
            "text/plain": [
              "                A      B      C      D      F      E\n",
              "2013-01-01  False  False  False  False   True  False\n",
              "2013-01-02  False  False  False  False  False  False\n",
              "2013-01-03  False  False  False  False  False   True\n",
              "2013-01-04  False  False  False  False  False   True"
            ]
          },
          "metadata": {
            "tags": []
          },
          "execution_count": 57
        }
      ]
    },
    {
      "cell_type": "markdown",
      "metadata": {
        "id": "lnSe3ZJQ-j0C"
      },
      "source": [
        "## 5. Operation (연산)\n",
        "이진 (Binary) 연산의 기본 섹션을 참조하자.\n",
        "\n",
        "Stats (통계)\n",
        "일반적으로 결측치를 제외한 후 연산된다.\n",
        "\n",
        "기술통계를 수행한다."
      ]
    },
    {
      "cell_type": "code",
      "metadata": {
        "id": "aXhLIKSM-mYF",
        "outputId": "9d7f5ca2-a5c7-477a-88bf-81cbdbea7232",
        "colab": {
          "base_uri": "https://localhost:8080/"
        }
      },
      "source": [
        "df.mean()"
      ],
      "execution_count": null,
      "outputs": [
        {
          "output_type": "execute_result",
          "data": {
            "text/plain": [
              "A   -0.593698\n",
              "B   -0.772621\n",
              "C   -0.607217\n",
              "D   -5.000000\n",
              "F   -3.000000\n",
              "dtype: float64"
            ]
          },
          "metadata": {
            "tags": []
          },
          "execution_count": 67
        }
      ]
    },
    {
      "cell_type": "markdown",
      "metadata": {
        "id": "_oCGtddX-nSQ"
      },
      "source": [
        "다른 축에서 동일한 연산을 수행합니다."
      ]
    },
    {
      "cell_type": "code",
      "metadata": {
        "id": "b0LfX9Wa-oe7",
        "outputId": "3be363b9-13f6-488b-bc3a-369f3e7fdf50",
        "colab": {
          "base_uri": "https://localhost:8080/"
        }
      },
      "source": [
        "df.mean(1)"
      ],
      "execution_count": null,
      "outputs": [
        {
          "output_type": "execute_result",
          "data": {
            "text/plain": [
              "2013-01-01   -1.341953\n",
              "2013-01-02   -1.384464\n",
              "2013-01-03   -1.825500\n",
              "2013-01-04   -2.204089\n",
              "2013-01-05   -2.417371\n",
              "2013-01-06   -2.463258\n",
              "Freq: D, dtype: float64"
            ]
          },
          "metadata": {
            "tags": []
          },
          "execution_count": 62
        }
      ]
    },
    {
      "cell_type": "markdown",
      "metadata": {
        "id": "JkP6AuwH-peh"
      },
      "source": [
        "정렬이 필요하며, 차원이 다른 객체로 연산해보겠다. 또한, pandas는 지정된 차원을 따라 자동으로 브로드 캐스팅된다.\n",
        "\n",
        "역자 주 : broadcast란 numpy에서 유래한 용어로, n차원이나 스칼라 값으로 연산을 수행할 때 도출되는 결과의 규칙을 설명하는 것을 의미한다."
      ]
    },
    {
      "cell_type": "code",
      "metadata": {
        "id": "VJ1E3e4R-rOZ",
        "outputId": "43343974-40c5-4e10-bbda-b9cfe723492e",
        "colab": {
          "base_uri": "https://localhost:8080/"
        }
      },
      "source": [
        "s = pd.Series([1,3,5,np.nan,6,8], index=dates).shift(2)\n",
        "s # shift는 적용될 열을 뒤로 미룸 ex) shift(1)은 열이 1 뒤로 밀림"
      ],
      "execution_count": null,
      "outputs": [
        {
          "output_type": "execute_result",
          "data": {
            "text/plain": [
              "2013-01-01    NaN\n",
              "2013-01-02    NaN\n",
              "2013-01-03    1.0\n",
              "2013-01-04    3.0\n",
              "2013-01-05    5.0\n",
              "2013-01-06    NaN\n",
              "Freq: D, dtype: float64"
            ]
          },
          "metadata": {
            "tags": []
          },
          "execution_count": 70
        }
      ]
    },
    {
      "cell_type": "code",
      "metadata": {
        "id": "_aSKbYom-sQY",
        "outputId": "60dfb2ba-66ea-4d4a-e815-ff4221dee9af",
        "colab": {
          "base_uri": "https://localhost:8080/",
          "height": 225
        }
      },
      "source": [
        "df.sub(s, axis='index')"
      ],
      "execution_count": null,
      "outputs": [
        {
          "output_type": "execute_result",
          "data": {
            "text/html": [
              "<div>\n",
              "<style scoped>\n",
              "    .dataframe tbody tr th:only-of-type {\n",
              "        vertical-align: middle;\n",
              "    }\n",
              "\n",
              "    .dataframe tbody tr th {\n",
              "        vertical-align: top;\n",
              "    }\n",
              "\n",
              "    .dataframe thead th {\n",
              "        text-align: right;\n",
              "    }\n",
              "</style>\n",
              "<table border=\"1\" class=\"dataframe\">\n",
              "  <thead>\n",
              "    <tr style=\"text-align: right;\">\n",
              "      <th></th>\n",
              "      <th>A</th>\n",
              "      <th>B</th>\n",
              "      <th>C</th>\n",
              "      <th>D</th>\n",
              "      <th>F</th>\n",
              "    </tr>\n",
              "  </thead>\n",
              "  <tbody>\n",
              "    <tr>\n",
              "      <th>2013-01-01</th>\n",
              "      <td>NaN</td>\n",
              "      <td>NaN</td>\n",
              "      <td>NaN</td>\n",
              "      <td>NaN</td>\n",
              "      <td>NaN</td>\n",
              "    </tr>\n",
              "    <tr>\n",
              "      <th>2013-01-02</th>\n",
              "      <td>NaN</td>\n",
              "      <td>NaN</td>\n",
              "      <td>NaN</td>\n",
              "      <td>NaN</td>\n",
              "      <td>NaN</td>\n",
              "    </tr>\n",
              "    <tr>\n",
              "      <th>2013-01-03</th>\n",
              "      <td>-1.562367</td>\n",
              "      <td>-2.347180</td>\n",
              "      <td>-1.217952</td>\n",
              "      <td>-6.0</td>\n",
              "      <td>-3.0</td>\n",
              "    </tr>\n",
              "    <tr>\n",
              "      <th>2013-01-04</th>\n",
              "      <td>-4.307470</td>\n",
              "      <td>-3.494650</td>\n",
              "      <td>-4.218323</td>\n",
              "      <td>-8.0</td>\n",
              "      <td>-6.0</td>\n",
              "    </tr>\n",
              "    <tr>\n",
              "      <th>2013-01-05</th>\n",
              "      <td>-6.200182</td>\n",
              "      <td>-6.063413</td>\n",
              "      <td>-5.823259</td>\n",
              "      <td>-10.0</td>\n",
              "      <td>-9.0</td>\n",
              "    </tr>\n",
              "    <tr>\n",
              "      <th>2013-01-06</th>\n",
              "      <td>NaN</td>\n",
              "      <td>NaN</td>\n",
              "      <td>NaN</td>\n",
              "      <td>NaN</td>\n",
              "      <td>NaN</td>\n",
              "    </tr>\n",
              "  </tbody>\n",
              "</table>\n",
              "</div>"
            ],
            "text/plain": [
              "                   A         B         C     D    F\n",
              "2013-01-01       NaN       NaN       NaN   NaN  NaN\n",
              "2013-01-02       NaN       NaN       NaN   NaN  NaN\n",
              "2013-01-03 -1.562367 -2.347180 -1.217952  -6.0 -3.0\n",
              "2013-01-04 -4.307470 -3.494650 -4.218323  -8.0 -6.0\n",
              "2013-01-05 -6.200182 -6.063413 -5.823259 -10.0 -9.0\n",
              "2013-01-06       NaN       NaN       NaN   NaN  NaN"
            ]
          },
          "metadata": {
            "tags": []
          },
          "execution_count": 80
        }
      ]
    },
    {
      "cell_type": "markdown",
      "metadata": {
        "id": "6PFb224--tW5"
      },
      "source": [
        "**Apply (적용)**\n",
        "\n",
        "데이터에 함수를 적용한다."
      ]
    },
    {
      "cell_type": "code",
      "metadata": {
        "id": "ONAomZhk-wDy",
        "outputId": "c17a463e-f061-43e3-f28c-eeae6f77b3a6",
        "colab": {
          "base_uri": "https://localhost:8080/",
          "height": 225
        }
      },
      "source": [
        "df.apply(np.cumsum) # Pandas Dataframe(데이터프레임, 2차원),Pandas Series(시리즈, 1차원) 타입의 객체에서 호출"
      ],
      "execution_count": null,
      "outputs": [
        {
          "output_type": "execute_result",
          "data": {
            "text/html": [
              "<div>\n",
              "<style scoped>\n",
              "    .dataframe tbody tr th:only-of-type {\n",
              "        vertical-align: middle;\n",
              "    }\n",
              "\n",
              "    .dataframe tbody tr th {\n",
              "        vertical-align: top;\n",
              "    }\n",
              "\n",
              "    .dataframe thead th {\n",
              "        text-align: right;\n",
              "    }\n",
              "</style>\n",
              "<table border=\"1\" class=\"dataframe\">\n",
              "  <thead>\n",
              "    <tr style=\"text-align: right;\">\n",
              "      <th></th>\n",
              "      <th>A</th>\n",
              "      <th>B</th>\n",
              "      <th>C</th>\n",
              "      <th>D</th>\n",
              "      <th>F</th>\n",
              "    </tr>\n",
              "  </thead>\n",
              "  <tbody>\n",
              "    <tr>\n",
              "      <th>2013-01-01</th>\n",
              "      <td>0.000000</td>\n",
              "      <td>0.000000</td>\n",
              "      <td>-0.367813</td>\n",
              "      <td>-5</td>\n",
              "      <td>NaN</td>\n",
              "    </tr>\n",
              "    <tr>\n",
              "      <th>2013-01-02</th>\n",
              "      <td>-0.259564</td>\n",
              "      <td>-0.444768</td>\n",
              "      <td>-0.585801</td>\n",
              "      <td>-10</td>\n",
              "      <td>-1.0</td>\n",
              "    </tr>\n",
              "    <tr>\n",
              "      <th>2013-01-03</th>\n",
              "      <td>-0.821932</td>\n",
              "      <td>-1.791948</td>\n",
              "      <td>-0.803754</td>\n",
              "      <td>-15</td>\n",
              "      <td>-3.0</td>\n",
              "    </tr>\n",
              "    <tr>\n",
              "      <th>2013-01-04</th>\n",
              "      <td>-2.129401</td>\n",
              "      <td>-2.286597</td>\n",
              "      <td>-2.022077</td>\n",
              "      <td>-20</td>\n",
              "      <td>-6.0</td>\n",
              "    </tr>\n",
              "    <tr>\n",
              "      <th>2013-01-05</th>\n",
              "      <td>-3.329583</td>\n",
              "      <td>-3.350010</td>\n",
              "      <td>-2.845336</td>\n",
              "      <td>-25</td>\n",
              "      <td>-10.0</td>\n",
              "    </tr>\n",
              "    <tr>\n",
              "      <th>2013-01-06</th>\n",
              "      <td>-3.562188</td>\n",
              "      <td>-4.635727</td>\n",
              "      <td>-3.643304</td>\n",
              "      <td>-30</td>\n",
              "      <td>-15.0</td>\n",
              "    </tr>\n",
              "  </tbody>\n",
              "</table>\n",
              "</div>"
            ],
            "text/plain": [
              "                   A         B         C   D     F\n",
              "2013-01-01  0.000000  0.000000 -0.367813  -5   NaN\n",
              "2013-01-02 -0.259564 -0.444768 -0.585801 -10  -1.0\n",
              "2013-01-03 -0.821932 -1.791948 -0.803754 -15  -3.0\n",
              "2013-01-04 -2.129401 -2.286597 -2.022077 -20  -6.0\n",
              "2013-01-05 -3.329583 -3.350010 -2.845336 -25 -10.0\n",
              "2013-01-06 -3.562188 -4.635727 -3.643304 -30 -15.0"
            ]
          },
          "metadata": {
            "tags": []
          },
          "execution_count": 81
        }
      ]
    },
    {
      "cell_type": "code",
      "metadata": {
        "id": "YVwJVxrf-yI4",
        "outputId": "a257d9aa-f618-49b1-c6d2-035f5752d3c0",
        "colab": {
          "base_uri": "https://localhost:8080/"
        }
      },
      "source": [
        "df.apply(lambda x: x.max() - x.min())"
      ],
      "execution_count": null,
      "outputs": [
        {
          "output_type": "execute_result",
          "data": {
            "text/plain": [
              "A    1.307470\n",
              "B    1.347180\n",
              "C    1.000371\n",
              "D    0.000000\n",
              "F    4.000000\n",
              "dtype: float64"
            ]
          },
          "metadata": {
            "tags": []
          },
          "execution_count": 83
        }
      ]
    },
    {
      "cell_type": "markdown",
      "metadata": {
        "id": "e1Cq1KzT-zQ2"
      },
      "source": [
        "**Histogramming (히스토그래밍)**\n",
        "\n",
        "더 많은 내용은 Histogramming and Discretization (히스토그래밍과 이산화) 항목을 참조한다."
      ]
    },
    {
      "cell_type": "code",
      "metadata": {
        "id": "dCdR4_uV-2Fy",
        "outputId": "70197e2a-f274-42a6-ed0e-d35b7cb19cf7",
        "colab": {
          "base_uri": "https://localhost:8080/"
        }
      },
      "source": [
        "s = pd.Series(np.random.randint(0, 7, size=10))\n",
        "s # 앞열는 10-1=9, 뒷열은 0~6까지 노출, random 노출"
      ],
      "execution_count": null,
      "outputs": [
        {
          "output_type": "execute_result",
          "data": {
            "text/plain": [
              "0    0\n",
              "1    1\n",
              "2    0\n",
              "3    7\n",
              "4    5\n",
              "5    0\n",
              "6    0\n",
              "7    5\n",
              "8    7\n",
              "9    0\n",
              "dtype: int64"
            ]
          },
          "metadata": {
            "tags": []
          },
          "execution_count": 86
        }
      ]
    },
    {
      "cell_type": "code",
      "metadata": {
        "id": "5wFNOAu5-3Sy",
        "outputId": "873e4015-f8d0-4019-8de1-1c40da055df5",
        "colab": {
          "base_uri": "https://localhost:8080/"
        }
      },
      "source": [
        "s.value_counts() # s의 출력값의 합계"
      ],
      "execution_count": null,
      "outputs": [
        {
          "output_type": "execute_result",
          "data": {
            "text/plain": [
              "0    5\n",
              "7    2\n",
              "5    2\n",
              "1    1\n",
              "dtype: int64"
            ]
          },
          "metadata": {
            "tags": []
          },
          "execution_count": 87
        }
      ]
    },
    {
      "cell_type": "markdown",
      "metadata": {
        "id": "pajFG67K-4XH"
      },
      "source": [
        "**String Methods (문자열 메소드)**\n",
        "\n",
        "Series는 다음의 코드와 같이 문자열 처리 메소드 모음 (set)을 가지고 있다.\n",
        "이 모음은 배열의 각 요소를 쉽게 조작할 수 있도록 만들어주는 문자열의 속성에 포함되어 있다.\n",
        "\n",
        "문자열의 패턴 일치 확인은 기본적으로 정규 표현식을 사용하며, 몇몇 경우에는 항상 정규 표현식을 사용함에 유의한다.\n",
        "\n",
        "좀 더 자세한 내용은 벡터화된 문자열 메소드 부분에서 확인할 수 있다."
      ]
    },
    {
      "cell_type": "code",
      "metadata": {
        "id": "l7CoY_hc-6o0",
        "outputId": "c226bc1d-e30d-4add-8211-578fbe02a331",
        "colab": {
          "base_uri": "https://localhost:8080/"
        }
      },
      "source": [
        "s = pd.Series(['A', 'B', 'C', 'Aaba', 'Baca', np.nan, 'CABA', 'dog', 'cat'])\n",
        "s.str.lower()"
      ],
      "execution_count": null,
      "outputs": [
        {
          "output_type": "execute_result",
          "data": {
            "text/plain": [
              "0       a\n",
              "1       b\n",
              "2       c\n",
              "3    aaba\n",
              "4    baca\n",
              "5     NaN\n",
              "6    caba\n",
              "7     dog\n",
              "8     cat\n",
              "dtype: object"
            ]
          },
          "metadata": {
            "tags": []
          },
          "execution_count": 88
        }
      ]
    },
    {
      "cell_type": "markdown",
      "metadata": {
        "id": "ZWcCKsMk-9pJ"
      },
      "source": [
        "## 6. Merge (병합)\n",
        "\n",
        "**Concat (연결)**\n",
        "\n",
        "결합 (join) / 병합 (merge) 형태의 연산에 대한 인덱스, 관계 대수 기능을 위한 다양한 형태의 논리를 포함한 Series, 데이터프레임, Panel 객체를 손쉽게 결합할 수 있도록 하는 다양한 기능을 pandas 에서 제공한다.\n",
        "\n",
        "concat()으로 pandas 객체를 연결한다."
      ]
    },
    {
      "cell_type": "code",
      "metadata": {
        "id": "yPyfP7ly_AlO",
        "outputId": "70e7aaaa-5d28-4d89-8ee1-44af57f893f9",
        "colab": {
          "base_uri": "https://localhost:8080/",
          "height": 343
        }
      },
      "source": [
        "df = pd.DataFrame(np.random.randn(10, 4))\n",
        "df"
      ],
      "execution_count": null,
      "outputs": [
        {
          "output_type": "execute_result",
          "data": {
            "text/html": [
              "<div>\n",
              "<style scoped>\n",
              "    .dataframe tbody tr th:only-of-type {\n",
              "        vertical-align: middle;\n",
              "    }\n",
              "\n",
              "    .dataframe tbody tr th {\n",
              "        vertical-align: top;\n",
              "    }\n",
              "\n",
              "    .dataframe thead th {\n",
              "        text-align: right;\n",
              "    }\n",
              "</style>\n",
              "<table border=\"1\" class=\"dataframe\">\n",
              "  <thead>\n",
              "    <tr style=\"text-align: right;\">\n",
              "      <th></th>\n",
              "      <th>0</th>\n",
              "      <th>1</th>\n",
              "      <th>2</th>\n",
              "      <th>3</th>\n",
              "    </tr>\n",
              "  </thead>\n",
              "  <tbody>\n",
              "    <tr>\n",
              "      <th>0</th>\n",
              "      <td>-1.136401</td>\n",
              "      <td>-1.352997</td>\n",
              "      <td>-0.549367</td>\n",
              "      <td>1.944215</td>\n",
              "    </tr>\n",
              "    <tr>\n",
              "      <th>1</th>\n",
              "      <td>0.704123</td>\n",
              "      <td>-0.178605</td>\n",
              "      <td>-0.563934</td>\n",
              "      <td>0.651202</td>\n",
              "    </tr>\n",
              "    <tr>\n",
              "      <th>2</th>\n",
              "      <td>0.211359</td>\n",
              "      <td>-1.391083</td>\n",
              "      <td>-2.064767</td>\n",
              "      <td>0.247274</td>\n",
              "    </tr>\n",
              "    <tr>\n",
              "      <th>3</th>\n",
              "      <td>-0.726841</td>\n",
              "      <td>-0.859549</td>\n",
              "      <td>-0.944753</td>\n",
              "      <td>0.405245</td>\n",
              "    </tr>\n",
              "    <tr>\n",
              "      <th>4</th>\n",
              "      <td>0.497332</td>\n",
              "      <td>0.822376</td>\n",
              "      <td>-1.379572</td>\n",
              "      <td>-1.352395</td>\n",
              "    </tr>\n",
              "    <tr>\n",
              "      <th>5</th>\n",
              "      <td>-0.141321</td>\n",
              "      <td>-0.696063</td>\n",
              "      <td>-0.639915</td>\n",
              "      <td>1.109966</td>\n",
              "    </tr>\n",
              "    <tr>\n",
              "      <th>6</th>\n",
              "      <td>0.555645</td>\n",
              "      <td>-0.952109</td>\n",
              "      <td>0.494846</td>\n",
              "      <td>0.745689</td>\n",
              "    </tr>\n",
              "    <tr>\n",
              "      <th>7</th>\n",
              "      <td>0.222887</td>\n",
              "      <td>0.418449</td>\n",
              "      <td>-0.079091</td>\n",
              "      <td>0.569133</td>\n",
              "    </tr>\n",
              "    <tr>\n",
              "      <th>8</th>\n",
              "      <td>0.704490</td>\n",
              "      <td>0.420243</td>\n",
              "      <td>-0.334890</td>\n",
              "      <td>-0.824163</td>\n",
              "    </tr>\n",
              "    <tr>\n",
              "      <th>9</th>\n",
              "      <td>-1.920083</td>\n",
              "      <td>0.913042</td>\n",
              "      <td>-1.322170</td>\n",
              "      <td>1.225016</td>\n",
              "    </tr>\n",
              "  </tbody>\n",
              "</table>\n",
              "</div>"
            ],
            "text/plain": [
              "          0         1         2         3\n",
              "0 -1.136401 -1.352997 -0.549367  1.944215\n",
              "1  0.704123 -0.178605 -0.563934  0.651202\n",
              "2  0.211359 -1.391083 -2.064767  0.247274\n",
              "3 -0.726841 -0.859549 -0.944753  0.405245\n",
              "4  0.497332  0.822376 -1.379572 -1.352395\n",
              "5 -0.141321 -0.696063 -0.639915  1.109966\n",
              "6  0.555645 -0.952109  0.494846  0.745689\n",
              "7  0.222887  0.418449 -0.079091  0.569133\n",
              "8  0.704490  0.420243 -0.334890 -0.824163\n",
              "9 -1.920083  0.913042 -1.322170  1.225016"
            ]
          },
          "metadata": {
            "tags": []
          },
          "execution_count": 89
        }
      ]
    },
    {
      "cell_type": "code",
      "metadata": {
        "id": "W46Hg14DELdv",
        "outputId": "9c25d05b-07b5-4a1a-f098-9bbed6708673",
        "colab": {
          "base_uri": "https://localhost:8080/",
          "height": 343
        }
      },
      "source": [
        "# break it into pieces\n",
        "pieces = [df[:3], df[3:7], df[7:]]\n",
        "pd.concat(pieces)"
      ],
      "execution_count": null,
      "outputs": [
        {
          "output_type": "execute_result",
          "data": {
            "text/html": [
              "<div>\n",
              "<style scoped>\n",
              "    .dataframe tbody tr th:only-of-type {\n",
              "        vertical-align: middle;\n",
              "    }\n",
              "\n",
              "    .dataframe tbody tr th {\n",
              "        vertical-align: top;\n",
              "    }\n",
              "\n",
              "    .dataframe thead th {\n",
              "        text-align: right;\n",
              "    }\n",
              "</style>\n",
              "<table border=\"1\" class=\"dataframe\">\n",
              "  <thead>\n",
              "    <tr style=\"text-align: right;\">\n",
              "      <th></th>\n",
              "      <th>0</th>\n",
              "      <th>1</th>\n",
              "      <th>2</th>\n",
              "      <th>3</th>\n",
              "    </tr>\n",
              "  </thead>\n",
              "  <tbody>\n",
              "    <tr>\n",
              "      <th>0</th>\n",
              "      <td>-1.136401</td>\n",
              "      <td>-1.352997</td>\n",
              "      <td>-0.549367</td>\n",
              "      <td>1.944215</td>\n",
              "    </tr>\n",
              "    <tr>\n",
              "      <th>1</th>\n",
              "      <td>0.704123</td>\n",
              "      <td>-0.178605</td>\n",
              "      <td>-0.563934</td>\n",
              "      <td>0.651202</td>\n",
              "    </tr>\n",
              "    <tr>\n",
              "      <th>2</th>\n",
              "      <td>0.211359</td>\n",
              "      <td>-1.391083</td>\n",
              "      <td>-2.064767</td>\n",
              "      <td>0.247274</td>\n",
              "    </tr>\n",
              "    <tr>\n",
              "      <th>3</th>\n",
              "      <td>-0.726841</td>\n",
              "      <td>-0.859549</td>\n",
              "      <td>-0.944753</td>\n",
              "      <td>0.405245</td>\n",
              "    </tr>\n",
              "    <tr>\n",
              "      <th>4</th>\n",
              "      <td>0.497332</td>\n",
              "      <td>0.822376</td>\n",
              "      <td>-1.379572</td>\n",
              "      <td>-1.352395</td>\n",
              "    </tr>\n",
              "    <tr>\n",
              "      <th>5</th>\n",
              "      <td>-0.141321</td>\n",
              "      <td>-0.696063</td>\n",
              "      <td>-0.639915</td>\n",
              "      <td>1.109966</td>\n",
              "    </tr>\n",
              "    <tr>\n",
              "      <th>6</th>\n",
              "      <td>0.555645</td>\n",
              "      <td>-0.952109</td>\n",
              "      <td>0.494846</td>\n",
              "      <td>0.745689</td>\n",
              "    </tr>\n",
              "    <tr>\n",
              "      <th>7</th>\n",
              "      <td>0.222887</td>\n",
              "      <td>0.418449</td>\n",
              "      <td>-0.079091</td>\n",
              "      <td>0.569133</td>\n",
              "    </tr>\n",
              "    <tr>\n",
              "      <th>8</th>\n",
              "      <td>0.704490</td>\n",
              "      <td>0.420243</td>\n",
              "      <td>-0.334890</td>\n",
              "      <td>-0.824163</td>\n",
              "    </tr>\n",
              "    <tr>\n",
              "      <th>9</th>\n",
              "      <td>-1.920083</td>\n",
              "      <td>0.913042</td>\n",
              "      <td>-1.322170</td>\n",
              "      <td>1.225016</td>\n",
              "    </tr>\n",
              "  </tbody>\n",
              "</table>\n",
              "</div>"
            ],
            "text/plain": [
              "          0         1         2         3\n",
              "0 -1.136401 -1.352997 -0.549367  1.944215\n",
              "1  0.704123 -0.178605 -0.563934  0.651202\n",
              "2  0.211359 -1.391083 -2.064767  0.247274\n",
              "3 -0.726841 -0.859549 -0.944753  0.405245\n",
              "4  0.497332  0.822376 -1.379572 -1.352395\n",
              "5 -0.141321 -0.696063 -0.639915  1.109966\n",
              "6  0.555645 -0.952109  0.494846  0.745689\n",
              "7  0.222887  0.418449 -0.079091  0.569133\n",
              "8  0.704490  0.420243 -0.334890 -0.824163\n",
              "9 -1.920083  0.913042 -1.322170  1.225016"
            ]
          },
          "metadata": {
            "tags": []
          },
          "execution_count": 94
        }
      ]
    },
    {
      "cell_type": "markdown",
      "metadata": {
        "id": "Gmmcst8NENOW"
      },
      "source": [
        "**Join (결합)**\n",
        "\n",
        "SQL 방식으로 병합한다. 데이터베이스 스타일 결합 부분을 참고하자."
      ]
    },
    {
      "cell_type": "code",
      "metadata": {
        "id": "c1M54hQ1EPp7",
        "outputId": "0479327a-d075-4311-cb1c-2c9108ed6c22",
        "colab": {
          "base_uri": "https://localhost:8080/",
          "height": 106
        }
      },
      "source": [
        "left = pd.DataFrame({'key': ['foo', 'foo'], 'lval': [1, 2]})\n",
        "right = pd.DataFrame({'key': ['foo', 'foo'], 'rval': [4, 5]})\n",
        "left"
      ],
      "execution_count": null,
      "outputs": [
        {
          "output_type": "execute_result",
          "data": {
            "text/html": [
              "<div>\n",
              "<style scoped>\n",
              "    .dataframe tbody tr th:only-of-type {\n",
              "        vertical-align: middle;\n",
              "    }\n",
              "\n",
              "    .dataframe tbody tr th {\n",
              "        vertical-align: top;\n",
              "    }\n",
              "\n",
              "    .dataframe thead th {\n",
              "        text-align: right;\n",
              "    }\n",
              "</style>\n",
              "<table border=\"1\" class=\"dataframe\">\n",
              "  <thead>\n",
              "    <tr style=\"text-align: right;\">\n",
              "      <th></th>\n",
              "      <th>key</th>\n",
              "      <th>lval</th>\n",
              "    </tr>\n",
              "  </thead>\n",
              "  <tbody>\n",
              "    <tr>\n",
              "      <th>0</th>\n",
              "      <td>foo</td>\n",
              "      <td>1</td>\n",
              "    </tr>\n",
              "    <tr>\n",
              "      <th>1</th>\n",
              "      <td>foo</td>\n",
              "      <td>2</td>\n",
              "    </tr>\n",
              "  </tbody>\n",
              "</table>\n",
              "</div>"
            ],
            "text/plain": [
              "   key  lval\n",
              "0  foo     1\n",
              "1  foo     2"
            ]
          },
          "metadata": {
            "tags": []
          },
          "execution_count": 95
        }
      ]
    },
    {
      "cell_type": "code",
      "metadata": {
        "id": "PT2jYSI4ERMp",
        "outputId": "e82abf98-f8fe-44aa-a0b0-61b34967bb06",
        "colab": {
          "base_uri": "https://localhost:8080/",
          "height": 106
        }
      },
      "source": [
        "right"
      ],
      "execution_count": null,
      "outputs": [
        {
          "output_type": "execute_result",
          "data": {
            "text/html": [
              "<div>\n",
              "<style scoped>\n",
              "    .dataframe tbody tr th:only-of-type {\n",
              "        vertical-align: middle;\n",
              "    }\n",
              "\n",
              "    .dataframe tbody tr th {\n",
              "        vertical-align: top;\n",
              "    }\n",
              "\n",
              "    .dataframe thead th {\n",
              "        text-align: right;\n",
              "    }\n",
              "</style>\n",
              "<table border=\"1\" class=\"dataframe\">\n",
              "  <thead>\n",
              "    <tr style=\"text-align: right;\">\n",
              "      <th></th>\n",
              "      <th>key</th>\n",
              "      <th>rval</th>\n",
              "    </tr>\n",
              "  </thead>\n",
              "  <tbody>\n",
              "    <tr>\n",
              "      <th>0</th>\n",
              "      <td>foo</td>\n",
              "      <td>4</td>\n",
              "    </tr>\n",
              "    <tr>\n",
              "      <th>1</th>\n",
              "      <td>foo</td>\n",
              "      <td>5</td>\n",
              "    </tr>\n",
              "  </tbody>\n",
              "</table>\n",
              "</div>"
            ],
            "text/plain": [
              "   key  rval\n",
              "0  foo     4\n",
              "1  foo     5"
            ]
          },
          "metadata": {
            "tags": []
          },
          "execution_count": 96
        }
      ]
    },
    {
      "cell_type": "code",
      "metadata": {
        "id": "Q7R8BwkIETHt",
        "outputId": "fa8f57d7-a65a-471b-ad6a-8d477171c930",
        "colab": {
          "base_uri": "https://localhost:8080/",
          "height": 166
        }
      },
      "source": [
        "pd.merge(left, right, on= 'key')"
      ],
      "execution_count": null,
      "outputs": [
        {
          "output_type": "execute_result",
          "data": {
            "text/html": [
              "<div>\n",
              "<style scoped>\n",
              "    .dataframe tbody tr th:only-of-type {\n",
              "        vertical-align: middle;\n",
              "    }\n",
              "\n",
              "    .dataframe tbody tr th {\n",
              "        vertical-align: top;\n",
              "    }\n",
              "\n",
              "    .dataframe thead th {\n",
              "        text-align: right;\n",
              "    }\n",
              "</style>\n",
              "<table border=\"1\" class=\"dataframe\">\n",
              "  <thead>\n",
              "    <tr style=\"text-align: right;\">\n",
              "      <th></th>\n",
              "      <th>key</th>\n",
              "      <th>lval</th>\n",
              "      <th>rval</th>\n",
              "    </tr>\n",
              "  </thead>\n",
              "  <tbody>\n",
              "    <tr>\n",
              "      <th>0</th>\n",
              "      <td>foo</td>\n",
              "      <td>1</td>\n",
              "      <td>4</td>\n",
              "    </tr>\n",
              "    <tr>\n",
              "      <th>1</th>\n",
              "      <td>foo</td>\n",
              "      <td>1</td>\n",
              "      <td>5</td>\n",
              "    </tr>\n",
              "    <tr>\n",
              "      <th>2</th>\n",
              "      <td>foo</td>\n",
              "      <td>2</td>\n",
              "      <td>4</td>\n",
              "    </tr>\n",
              "    <tr>\n",
              "      <th>3</th>\n",
              "      <td>foo</td>\n",
              "      <td>2</td>\n",
              "      <td>5</td>\n",
              "    </tr>\n",
              "  </tbody>\n",
              "</table>\n",
              "</div>"
            ],
            "text/plain": [
              "   key  lval  rval\n",
              "0  foo     1     4\n",
              "1  foo     1     5\n",
              "2  foo     2     4\n",
              "3  foo     2     5"
            ]
          },
          "metadata": {
            "tags": []
          },
          "execution_count": 97
        }
      ]
    },
    {
      "cell_type": "markdown",
      "metadata": {
        "id": "SNLUoOwrEULU"
      },
      "source": [
        "다른 예시이다."
      ]
    },
    {
      "cell_type": "code",
      "metadata": {
        "id": "7Qaxyl58EVKn",
        "outputId": "b1c24d28-3b7f-4328-c089-a4a9e393c230",
        "colab": {
          "base_uri": "https://localhost:8080/",
          "height": 106
        }
      },
      "source": [
        "left = pd.DataFrame({'key' : ['foo', 'bar'], 'lval' : [1, 2]})\n",
        "right = pd.DataFrame({'key': ['foo', 'bar'], 'rval': [4, 5]})\n",
        "left"
      ],
      "execution_count": null,
      "outputs": [
        {
          "output_type": "execute_result",
          "data": {
            "text/html": [
              "<div>\n",
              "<style scoped>\n",
              "    .dataframe tbody tr th:only-of-type {\n",
              "        vertical-align: middle;\n",
              "    }\n",
              "\n",
              "    .dataframe tbody tr th {\n",
              "        vertical-align: top;\n",
              "    }\n",
              "\n",
              "    .dataframe thead th {\n",
              "        text-align: right;\n",
              "    }\n",
              "</style>\n",
              "<table border=\"1\" class=\"dataframe\">\n",
              "  <thead>\n",
              "    <tr style=\"text-align: right;\">\n",
              "      <th></th>\n",
              "      <th>key</th>\n",
              "      <th>lval</th>\n",
              "    </tr>\n",
              "  </thead>\n",
              "  <tbody>\n",
              "    <tr>\n",
              "      <th>0</th>\n",
              "      <td>foo</td>\n",
              "      <td>1</td>\n",
              "    </tr>\n",
              "    <tr>\n",
              "      <th>1</th>\n",
              "      <td>bar</td>\n",
              "      <td>2</td>\n",
              "    </tr>\n",
              "  </tbody>\n",
              "</table>\n",
              "</div>"
            ],
            "text/plain": [
              "   key  lval\n",
              "0  foo     1\n",
              "1  bar     2"
            ]
          },
          "metadata": {
            "tags": []
          },
          "execution_count": 98
        }
      ]
    },
    {
      "cell_type": "code",
      "metadata": {
        "id": "n0FbqgSmEWGe",
        "outputId": "28d735ee-1c48-40b8-bebe-c613bdff0b85",
        "colab": {
          "base_uri": "https://localhost:8080/",
          "height": 106
        }
      },
      "source": [
        "right"
      ],
      "execution_count": null,
      "outputs": [
        {
          "output_type": "execute_result",
          "data": {
            "text/html": [
              "<div>\n",
              "<style scoped>\n",
              "    .dataframe tbody tr th:only-of-type {\n",
              "        vertical-align: middle;\n",
              "    }\n",
              "\n",
              "    .dataframe tbody tr th {\n",
              "        vertical-align: top;\n",
              "    }\n",
              "\n",
              "    .dataframe thead th {\n",
              "        text-align: right;\n",
              "    }\n",
              "</style>\n",
              "<table border=\"1\" class=\"dataframe\">\n",
              "  <thead>\n",
              "    <tr style=\"text-align: right;\">\n",
              "      <th></th>\n",
              "      <th>key</th>\n",
              "      <th>rval</th>\n",
              "    </tr>\n",
              "  </thead>\n",
              "  <tbody>\n",
              "    <tr>\n",
              "      <th>0</th>\n",
              "      <td>foo</td>\n",
              "      <td>4</td>\n",
              "    </tr>\n",
              "    <tr>\n",
              "      <th>1</th>\n",
              "      <td>bar</td>\n",
              "      <td>5</td>\n",
              "    </tr>\n",
              "  </tbody>\n",
              "</table>\n",
              "</div>"
            ],
            "text/plain": [
              "   key  rval\n",
              "0  foo     4\n",
              "1  bar     5"
            ]
          },
          "metadata": {
            "tags": []
          },
          "execution_count": 99
        }
      ]
    },
    {
      "cell_type": "code",
      "metadata": {
        "id": "u2IbdmeSEW8n",
        "outputId": "7f0b7a72-d937-4255-8131-f8185c7682db",
        "colab": {
          "base_uri": "https://localhost:8080/",
          "height": 106
        }
      },
      "source": [
        "pd.merge(left, right, on= 'key')"
      ],
      "execution_count": null,
      "outputs": [
        {
          "output_type": "execute_result",
          "data": {
            "text/html": [
              "<div>\n",
              "<style scoped>\n",
              "    .dataframe tbody tr th:only-of-type {\n",
              "        vertical-align: middle;\n",
              "    }\n",
              "\n",
              "    .dataframe tbody tr th {\n",
              "        vertical-align: top;\n",
              "    }\n",
              "\n",
              "    .dataframe thead th {\n",
              "        text-align: right;\n",
              "    }\n",
              "</style>\n",
              "<table border=\"1\" class=\"dataframe\">\n",
              "  <thead>\n",
              "    <tr style=\"text-align: right;\">\n",
              "      <th></th>\n",
              "      <th>key</th>\n",
              "      <th>lval</th>\n",
              "      <th>rval</th>\n",
              "    </tr>\n",
              "  </thead>\n",
              "  <tbody>\n",
              "    <tr>\n",
              "      <th>0</th>\n",
              "      <td>foo</td>\n",
              "      <td>1</td>\n",
              "      <td>4</td>\n",
              "    </tr>\n",
              "    <tr>\n",
              "      <th>1</th>\n",
              "      <td>bar</td>\n",
              "      <td>2</td>\n",
              "      <td>5</td>\n",
              "    </tr>\n",
              "  </tbody>\n",
              "</table>\n",
              "</div>"
            ],
            "text/plain": [
              "   key  lval  rval\n",
              "0  foo     1     4\n",
              "1  bar     2     5"
            ]
          },
          "metadata": {
            "tags": []
          },
          "execution_count": 101
        }
      ]
    },
    {
      "cell_type": "markdown",
      "metadata": {
        "id": "qAS0M1gkEYPn"
      },
      "source": [
        "**Append (추가)**\n",
        "\n",
        "데이터프레임에 행을 추가합니다. Appending 부분을 참조하자."
      ]
    },
    {
      "cell_type": "code",
      "metadata": {
        "id": "MBUFZL9nEaGa",
        "outputId": "366475f0-e110-4732-cccc-50ba0b67075b",
        "colab": {
          "base_uri": "https://localhost:8080/",
          "height": 284
        }
      },
      "source": [
        "df = pd.DataFrame(np.random.randn(8, 4), columns=['A', 'B', 'C', 'D'])\n",
        "df"
      ],
      "execution_count": null,
      "outputs": [
        {
          "output_type": "execute_result",
          "data": {
            "text/html": [
              "<div>\n",
              "<style scoped>\n",
              "    .dataframe tbody tr th:only-of-type {\n",
              "        vertical-align: middle;\n",
              "    }\n",
              "\n",
              "    .dataframe tbody tr th {\n",
              "        vertical-align: top;\n",
              "    }\n",
              "\n",
              "    .dataframe thead th {\n",
              "        text-align: right;\n",
              "    }\n",
              "</style>\n",
              "<table border=\"1\" class=\"dataframe\">\n",
              "  <thead>\n",
              "    <tr style=\"text-align: right;\">\n",
              "      <th></th>\n",
              "      <th>A</th>\n",
              "      <th>B</th>\n",
              "      <th>C</th>\n",
              "      <th>D</th>\n",
              "    </tr>\n",
              "  </thead>\n",
              "  <tbody>\n",
              "    <tr>\n",
              "      <th>0</th>\n",
              "      <td>2.262304</td>\n",
              "      <td>-0.936471</td>\n",
              "      <td>-0.838484</td>\n",
              "      <td>0.091542</td>\n",
              "    </tr>\n",
              "    <tr>\n",
              "      <th>1</th>\n",
              "      <td>0.206970</td>\n",
              "      <td>0.942812</td>\n",
              "      <td>-0.819864</td>\n",
              "      <td>1.360690</td>\n",
              "    </tr>\n",
              "    <tr>\n",
              "      <th>2</th>\n",
              "      <td>0.607245</td>\n",
              "      <td>0.257755</td>\n",
              "      <td>0.550164</td>\n",
              "      <td>0.832045</td>\n",
              "    </tr>\n",
              "    <tr>\n",
              "      <th>3</th>\n",
              "      <td>-0.600805</td>\n",
              "      <td>-1.357533</td>\n",
              "      <td>-0.154043</td>\n",
              "      <td>-0.438323</td>\n",
              "    </tr>\n",
              "    <tr>\n",
              "      <th>4</th>\n",
              "      <td>0.116902</td>\n",
              "      <td>1.272746</td>\n",
              "      <td>-0.819159</td>\n",
              "      <td>0.512814</td>\n",
              "    </tr>\n",
              "    <tr>\n",
              "      <th>5</th>\n",
              "      <td>0.521093</td>\n",
              "      <td>0.549012</td>\n",
              "      <td>-1.380373</td>\n",
              "      <td>-0.139004</td>\n",
              "    </tr>\n",
              "    <tr>\n",
              "      <th>6</th>\n",
              "      <td>0.386905</td>\n",
              "      <td>-0.151209</td>\n",
              "      <td>-0.611924</td>\n",
              "      <td>-0.909454</td>\n",
              "    </tr>\n",
              "    <tr>\n",
              "      <th>7</th>\n",
              "      <td>-2.334515</td>\n",
              "      <td>-1.454128</td>\n",
              "      <td>-0.385081</td>\n",
              "      <td>1.360522</td>\n",
              "    </tr>\n",
              "  </tbody>\n",
              "</table>\n",
              "</div>"
            ],
            "text/plain": [
              "          A         B         C         D\n",
              "0  2.262304 -0.936471 -0.838484  0.091542\n",
              "1  0.206970  0.942812 -0.819864  1.360690\n",
              "2  0.607245  0.257755  0.550164  0.832045\n",
              "3 -0.600805 -1.357533 -0.154043 -0.438323\n",
              "4  0.116902  1.272746 -0.819159  0.512814\n",
              "5  0.521093  0.549012 -1.380373 -0.139004\n",
              "6  0.386905 -0.151209 -0.611924 -0.909454\n",
              "7 -2.334515 -1.454128 -0.385081  1.360522"
            ]
          },
          "metadata": {
            "tags": []
          },
          "execution_count": 102
        }
      ]
    },
    {
      "cell_type": "code",
      "metadata": {
        "id": "5_HS4GlhEbtD",
        "outputId": "8cd43301-2453-48d0-e91f-9af815a4cb71",
        "colab": {
          "base_uri": "https://localhost:8080/",
          "height": 314
        }
      },
      "source": [
        "s = df.iloc[3]\n",
        "df.append(s, ignore_index=True)"
      ],
      "execution_count": null,
      "outputs": [
        {
          "output_type": "execute_result",
          "data": {
            "text/html": [
              "<div>\n",
              "<style scoped>\n",
              "    .dataframe tbody tr th:only-of-type {\n",
              "        vertical-align: middle;\n",
              "    }\n",
              "\n",
              "    .dataframe tbody tr th {\n",
              "        vertical-align: top;\n",
              "    }\n",
              "\n",
              "    .dataframe thead th {\n",
              "        text-align: right;\n",
              "    }\n",
              "</style>\n",
              "<table border=\"1\" class=\"dataframe\">\n",
              "  <thead>\n",
              "    <tr style=\"text-align: right;\">\n",
              "      <th></th>\n",
              "      <th>A</th>\n",
              "      <th>B</th>\n",
              "      <th>C</th>\n",
              "      <th>D</th>\n",
              "    </tr>\n",
              "  </thead>\n",
              "  <tbody>\n",
              "    <tr>\n",
              "      <th>0</th>\n",
              "      <td>2.262304</td>\n",
              "      <td>-0.936471</td>\n",
              "      <td>-0.838484</td>\n",
              "      <td>0.091542</td>\n",
              "    </tr>\n",
              "    <tr>\n",
              "      <th>1</th>\n",
              "      <td>0.206970</td>\n",
              "      <td>0.942812</td>\n",
              "      <td>-0.819864</td>\n",
              "      <td>1.360690</td>\n",
              "    </tr>\n",
              "    <tr>\n",
              "      <th>2</th>\n",
              "      <td>0.607245</td>\n",
              "      <td>0.257755</td>\n",
              "      <td>0.550164</td>\n",
              "      <td>0.832045</td>\n",
              "    </tr>\n",
              "    <tr>\n",
              "      <th>3</th>\n",
              "      <td>-0.600805</td>\n",
              "      <td>-1.357533</td>\n",
              "      <td>-0.154043</td>\n",
              "      <td>-0.438323</td>\n",
              "    </tr>\n",
              "    <tr>\n",
              "      <th>4</th>\n",
              "      <td>0.116902</td>\n",
              "      <td>1.272746</td>\n",
              "      <td>-0.819159</td>\n",
              "      <td>0.512814</td>\n",
              "    </tr>\n",
              "    <tr>\n",
              "      <th>5</th>\n",
              "      <td>0.521093</td>\n",
              "      <td>0.549012</td>\n",
              "      <td>-1.380373</td>\n",
              "      <td>-0.139004</td>\n",
              "    </tr>\n",
              "    <tr>\n",
              "      <th>6</th>\n",
              "      <td>0.386905</td>\n",
              "      <td>-0.151209</td>\n",
              "      <td>-0.611924</td>\n",
              "      <td>-0.909454</td>\n",
              "    </tr>\n",
              "    <tr>\n",
              "      <th>7</th>\n",
              "      <td>-2.334515</td>\n",
              "      <td>-1.454128</td>\n",
              "      <td>-0.385081</td>\n",
              "      <td>1.360522</td>\n",
              "    </tr>\n",
              "    <tr>\n",
              "      <th>8</th>\n",
              "      <td>-0.600805</td>\n",
              "      <td>-1.357533</td>\n",
              "      <td>-0.154043</td>\n",
              "      <td>-0.438323</td>\n",
              "    </tr>\n",
              "  </tbody>\n",
              "</table>\n",
              "</div>"
            ],
            "text/plain": [
              "          A         B         C         D\n",
              "0  2.262304 -0.936471 -0.838484  0.091542\n",
              "1  0.206970  0.942812 -0.819864  1.360690\n",
              "2  0.607245  0.257755  0.550164  0.832045\n",
              "3 -0.600805 -1.357533 -0.154043 -0.438323\n",
              "4  0.116902  1.272746 -0.819159  0.512814\n",
              "5  0.521093  0.549012 -1.380373 -0.139004\n",
              "6  0.386905 -0.151209 -0.611924 -0.909454\n",
              "7 -2.334515 -1.454128 -0.385081  1.360522\n",
              "8 -0.600805 -1.357533 -0.154043 -0.438323"
            ]
          },
          "metadata": {
            "tags": []
          },
          "execution_count": 103
        }
      ]
    },
    {
      "cell_type": "markdown",
      "metadata": {
        "id": "cvzwABgTEd-S"
      },
      "source": [
        "## 7. Grouping (그룹화)\n",
        "\n",
        "그룹화는 다음 단계 중 하나 이상을 포함하는 과정을 가리킨다.\n",
        "\n",
        "- 몇몇 기준에 따라 여러 그룹으로 데이터를 분할 (splitting)\n",
        "- 각 그룹에 독립적으로 함수를 적용 (applying)\n",
        "- 결과물들을 하나의 데이터 구조로 결합 (combining)\n",
        "자세한 내용은 그룹화 부분을 참조하자."
      ]
    },
    {
      "cell_type": "code",
      "metadata": {
        "id": "og5sVEAjEjeW",
        "outputId": "2737837e-c776-4e97-e794-49c1249c64e8",
        "colab": {
          "base_uri": "https://localhost:8080/",
          "height": 284
        }
      },
      "source": [
        "df = pd.DataFrame(\n",
        "    {\n",
        "        'A' : ['foo', 'bar', 'foo', 'bar', 'foo', 'bar', 'foo', 'foo'],\n",
        "        'B' : ['one', 'one', 'two', 'three', 'two', 'two', 'one', 'three'],\n",
        "        'C' : np.random.randn(8),\n",
        "        'D' : np.random.randn(8)\n",
        "    })\n",
        "df"
      ],
      "execution_count": null,
      "outputs": [
        {
          "output_type": "execute_result",
          "data": {
            "text/html": [
              "<div>\n",
              "<style scoped>\n",
              "    .dataframe tbody tr th:only-of-type {\n",
              "        vertical-align: middle;\n",
              "    }\n",
              "\n",
              "    .dataframe tbody tr th {\n",
              "        vertical-align: top;\n",
              "    }\n",
              "\n",
              "    .dataframe thead th {\n",
              "        text-align: right;\n",
              "    }\n",
              "</style>\n",
              "<table border=\"1\" class=\"dataframe\">\n",
              "  <thead>\n",
              "    <tr style=\"text-align: right;\">\n",
              "      <th></th>\n",
              "      <th>A</th>\n",
              "      <th>B</th>\n",
              "      <th>C</th>\n",
              "      <th>D</th>\n",
              "    </tr>\n",
              "  </thead>\n",
              "  <tbody>\n",
              "    <tr>\n",
              "      <th>0</th>\n",
              "      <td>foo</td>\n",
              "      <td>one</td>\n",
              "      <td>-0.501522</td>\n",
              "      <td>0.363505</td>\n",
              "    </tr>\n",
              "    <tr>\n",
              "      <th>1</th>\n",
              "      <td>bar</td>\n",
              "      <td>one</td>\n",
              "      <td>0.764913</td>\n",
              "      <td>0.895876</td>\n",
              "    </tr>\n",
              "    <tr>\n",
              "      <th>2</th>\n",
              "      <td>foo</td>\n",
              "      <td>two</td>\n",
              "      <td>1.228513</td>\n",
              "      <td>-0.130657</td>\n",
              "    </tr>\n",
              "    <tr>\n",
              "      <th>3</th>\n",
              "      <td>bar</td>\n",
              "      <td>three</td>\n",
              "      <td>0.756878</td>\n",
              "      <td>-0.769391</td>\n",
              "    </tr>\n",
              "    <tr>\n",
              "      <th>4</th>\n",
              "      <td>foo</td>\n",
              "      <td>two</td>\n",
              "      <td>1.261262</td>\n",
              "      <td>1.544167</td>\n",
              "    </tr>\n",
              "    <tr>\n",
              "      <th>5</th>\n",
              "      <td>bar</td>\n",
              "      <td>two</td>\n",
              "      <td>-0.626006</td>\n",
              "      <td>1.697998</td>\n",
              "    </tr>\n",
              "    <tr>\n",
              "      <th>6</th>\n",
              "      <td>foo</td>\n",
              "      <td>one</td>\n",
              "      <td>-1.408679</td>\n",
              "      <td>-0.062063</td>\n",
              "    </tr>\n",
              "    <tr>\n",
              "      <th>7</th>\n",
              "      <td>foo</td>\n",
              "      <td>three</td>\n",
              "      <td>-0.593102</td>\n",
              "      <td>-0.239886</td>\n",
              "    </tr>\n",
              "  </tbody>\n",
              "</table>\n",
              "</div>"
            ],
            "text/plain": [
              "     A      B         C         D\n",
              "0  foo    one -0.501522  0.363505\n",
              "1  bar    one  0.764913  0.895876\n",
              "2  foo    two  1.228513 -0.130657\n",
              "3  bar  three  0.756878 -0.769391\n",
              "4  foo    two  1.261262  1.544167\n",
              "5  bar    two -0.626006  1.697998\n",
              "6  foo    one -1.408679 -0.062063\n",
              "7  foo  three -0.593102 -0.239886"
            ]
          },
          "metadata": {
            "tags": []
          },
          "execution_count": 104
        }
      ]
    },
    {
      "cell_type": "markdown",
      "metadata": {
        "id": "eDCB3bn7ElTD"
      },
      "source": [
        "생성된 데이터프레임을 그룹화한 후 각 그룹에 sum() 함수를 적용한다."
      ]
    },
    {
      "cell_type": "code",
      "metadata": {
        "id": "83USOkhxEmON",
        "outputId": "c7814c4b-f0b1-497e-868b-acefe881f8a0",
        "colab": {
          "base_uri": "https://localhost:8080/",
          "height": 136
        }
      },
      "source": [
        "df.groupby('A').sum()"
      ],
      "execution_count": null,
      "outputs": [
        {
          "output_type": "execute_result",
          "data": {
            "text/html": [
              "<div>\n",
              "<style scoped>\n",
              "    .dataframe tbody tr th:only-of-type {\n",
              "        vertical-align: middle;\n",
              "    }\n",
              "\n",
              "    .dataframe tbody tr th {\n",
              "        vertical-align: top;\n",
              "    }\n",
              "\n",
              "    .dataframe thead th {\n",
              "        text-align: right;\n",
              "    }\n",
              "</style>\n",
              "<table border=\"1\" class=\"dataframe\">\n",
              "  <thead>\n",
              "    <tr style=\"text-align: right;\">\n",
              "      <th></th>\n",
              "      <th>C</th>\n",
              "      <th>D</th>\n",
              "    </tr>\n",
              "    <tr>\n",
              "      <th>A</th>\n",
              "      <th></th>\n",
              "      <th></th>\n",
              "    </tr>\n",
              "  </thead>\n",
              "  <tbody>\n",
              "    <tr>\n",
              "      <th>bar</th>\n",
              "      <td>0.895785</td>\n",
              "      <td>1.824483</td>\n",
              "    </tr>\n",
              "    <tr>\n",
              "      <th>foo</th>\n",
              "      <td>-0.013527</td>\n",
              "      <td>1.475065</td>\n",
              "    </tr>\n",
              "  </tbody>\n",
              "</table>\n",
              "</div>"
            ],
            "text/plain": [
              "            C         D\n",
              "A                      \n",
              "bar  0.895785  1.824483\n",
              "foo -0.013527  1.475065"
            ]
          },
          "metadata": {
            "tags": []
          },
          "execution_count": 105
        }
      ]
    },
    {
      "cell_type": "markdown",
      "metadata": {
        "id": "7OEGUmNWEnEI"
      },
      "source": [
        "여러 열을 기준으로 그룹화하면 계층적 인덱스가 형성된다. 여기에도 sum 함수를 적용할 수 있다."
      ]
    },
    {
      "cell_type": "code",
      "metadata": {
        "id": "4qsdcIkpEoCZ",
        "outputId": "a4db1ada-06bd-453f-cc70-6dd44d7adfbd",
        "colab": {
          "base_uri": "https://localhost:8080/",
          "height": 254
        }
      },
      "source": [
        "df.groupby(['A','B']).sum()"
      ],
      "execution_count": null,
      "outputs": [
        {
          "output_type": "execute_result",
          "data": {
            "text/html": [
              "<div>\n",
              "<style scoped>\n",
              "    .dataframe tbody tr th:only-of-type {\n",
              "        vertical-align: middle;\n",
              "    }\n",
              "\n",
              "    .dataframe tbody tr th {\n",
              "        vertical-align: top;\n",
              "    }\n",
              "\n",
              "    .dataframe thead th {\n",
              "        text-align: right;\n",
              "    }\n",
              "</style>\n",
              "<table border=\"1\" class=\"dataframe\">\n",
              "  <thead>\n",
              "    <tr style=\"text-align: right;\">\n",
              "      <th></th>\n",
              "      <th></th>\n",
              "      <th>C</th>\n",
              "      <th>D</th>\n",
              "    </tr>\n",
              "    <tr>\n",
              "      <th>A</th>\n",
              "      <th>B</th>\n",
              "      <th></th>\n",
              "      <th></th>\n",
              "    </tr>\n",
              "  </thead>\n",
              "  <tbody>\n",
              "    <tr>\n",
              "      <th rowspan=\"3\" valign=\"top\">bar</th>\n",
              "      <th>one</th>\n",
              "      <td>0.764913</td>\n",
              "      <td>0.895876</td>\n",
              "    </tr>\n",
              "    <tr>\n",
              "      <th>three</th>\n",
              "      <td>0.756878</td>\n",
              "      <td>-0.769391</td>\n",
              "    </tr>\n",
              "    <tr>\n",
              "      <th>two</th>\n",
              "      <td>-0.626006</td>\n",
              "      <td>1.697998</td>\n",
              "    </tr>\n",
              "    <tr>\n",
              "      <th rowspan=\"3\" valign=\"top\">foo</th>\n",
              "      <th>one</th>\n",
              "      <td>-1.910200</td>\n",
              "      <td>0.301442</td>\n",
              "    </tr>\n",
              "    <tr>\n",
              "      <th>three</th>\n",
              "      <td>-0.593102</td>\n",
              "      <td>-0.239886</td>\n",
              "    </tr>\n",
              "    <tr>\n",
              "      <th>two</th>\n",
              "      <td>2.489776</td>\n",
              "      <td>1.413509</td>\n",
              "    </tr>\n",
              "  </tbody>\n",
              "</table>\n",
              "</div>"
            ],
            "text/plain": [
              "                  C         D\n",
              "A   B                        \n",
              "bar one    0.764913  0.895876\n",
              "    three  0.756878 -0.769391\n",
              "    two   -0.626006  1.697998\n",
              "foo one   -1.910200  0.301442\n",
              "    three -0.593102 -0.239886\n",
              "    two    2.489776  1.413509"
            ]
          },
          "metadata": {
            "tags": []
          },
          "execution_count": 106
        }
      ]
    },
    {
      "cell_type": "markdown",
      "metadata": {
        "id": "PK1GANdoEpIN"
      },
      "source": [
        "## 8. Reshaping (변형)\n",
        "계층적 인덱싱 및 변형 부분을 참조하자.\n",
        "\n",
        "**Stack (스택)**"
      ]
    },
    {
      "cell_type": "code",
      "metadata": {
        "id": "a42Hl10qEtoS",
        "outputId": "84fcce36-4f98-4b58-8a7c-b2e13761ca28",
        "colab": {
          "base_uri": "https://localhost:8080/",
          "height": 195
        }
      },
      "source": [
        "tuples = list(zip(*[['bar', 'bar', 'baz', 'baz',\n",
        "                     'foo', 'foo', 'qux', 'qux'],\n",
        "                    ['one', 'two', 'one', 'two',\n",
        "                     'one', 'two', 'one', 'two']]))\n",
        "index = pd.MultiIndex.from_tuples(tuples, names=['first', 'second'])\n",
        "df = pd.DataFrame(np.random.randn(8, 2), index=index, columns=['A', 'B'])\n",
        "df2  =  df[:4]\n",
        "df2"
      ],
      "execution_count": null,
      "outputs": [
        {
          "output_type": "execute_result",
          "data": {
            "text/html": [
              "<div>\n",
              "<style scoped>\n",
              "    .dataframe tbody tr th:only-of-type {\n",
              "        vertical-align: middle;\n",
              "    }\n",
              "\n",
              "    .dataframe tbody tr th {\n",
              "        vertical-align: top;\n",
              "    }\n",
              "\n",
              "    .dataframe thead th {\n",
              "        text-align: right;\n",
              "    }\n",
              "</style>\n",
              "<table border=\"1\" class=\"dataframe\">\n",
              "  <thead>\n",
              "    <tr style=\"text-align: right;\">\n",
              "      <th></th>\n",
              "      <th></th>\n",
              "      <th>A</th>\n",
              "      <th>B</th>\n",
              "    </tr>\n",
              "    <tr>\n",
              "      <th>first</th>\n",
              "      <th>second</th>\n",
              "      <th></th>\n",
              "      <th></th>\n",
              "    </tr>\n",
              "  </thead>\n",
              "  <tbody>\n",
              "    <tr>\n",
              "      <th rowspan=\"2\" valign=\"top\">bar</th>\n",
              "      <th>one</th>\n",
              "      <td>1.162539</td>\n",
              "      <td>0.476312</td>\n",
              "    </tr>\n",
              "    <tr>\n",
              "      <th>two</th>\n",
              "      <td>1.469296</td>\n",
              "      <td>0.058747</td>\n",
              "    </tr>\n",
              "    <tr>\n",
              "      <th rowspan=\"2\" valign=\"top\">baz</th>\n",
              "      <th>one</th>\n",
              "      <td>-0.335823</td>\n",
              "      <td>-0.088311</td>\n",
              "    </tr>\n",
              "    <tr>\n",
              "      <th>two</th>\n",
              "      <td>0.241533</td>\n",
              "      <td>-1.326298</td>\n",
              "    </tr>\n",
              "  </tbody>\n",
              "</table>\n",
              "</div>"
            ],
            "text/plain": [
              "                     A         B\n",
              "first second                    \n",
              "bar   one     1.162539  0.476312\n",
              "      two     1.469296  0.058747\n",
              "baz   one    -0.335823 -0.088311\n",
              "      two     0.241533 -1.326298"
            ]
          },
          "metadata": {
            "tags": []
          },
          "execution_count": 107
        }
      ]
    },
    {
      "cell_type": "markdown",
      "metadata": {
        "id": "R3U6VRiCEwxW"
      },
      "source": [
        "stack() 메소드는 데이터프레임 열들의 계층을 “압축”한다."
      ]
    },
    {
      "cell_type": "code",
      "metadata": {
        "id": "uQ1QB9fAEx5m",
        "outputId": "231aac39-ed19-48ad-cbf2-553e7a43094b",
        "colab": {
          "base_uri": "https://localhost:8080/"
        }
      },
      "source": [
        "stacked = df2.stack()\n",
        "stacked"
      ],
      "execution_count": null,
      "outputs": [
        {
          "output_type": "execute_result",
          "data": {
            "text/plain": [
              "first  second   \n",
              "bar    one     A    1.162539\n",
              "               B    0.476312\n",
              "       two     A    1.469296\n",
              "               B    0.058747\n",
              "baz    one     A   -0.335823\n",
              "               B   -0.088311\n",
              "       two     A    0.241533\n",
              "               B   -1.326298\n",
              "dtype: float64"
            ]
          },
          "metadata": {
            "tags": []
          },
          "execution_count": 108
        }
      ]
    },
    {
      "cell_type": "markdown",
      "metadata": {
        "id": "icXFxwN0Ey9d"
      },
      "source": [
        "“Stack된” 데이터프레임 또는 (MultiIndex를 인덱스로 사용하는) Series인 경우, stack()의 역 연산은 unstack()이며, 기본적으로 마지막 계층을 unstack한다."
      ]
    },
    {
      "cell_type": "code",
      "metadata": {
        "id": "YAkzb6rhE0MK",
        "outputId": "cd275b6c-f7a1-456e-9c9a-5f27299b7f71",
        "colab": {
          "base_uri": "https://localhost:8080/",
          "height": 195
        }
      },
      "source": [
        "stacked.unstack()"
      ],
      "execution_count": null,
      "outputs": [
        {
          "output_type": "execute_result",
          "data": {
            "text/html": [
              "<div>\n",
              "<style scoped>\n",
              "    .dataframe tbody tr th:only-of-type {\n",
              "        vertical-align: middle;\n",
              "    }\n",
              "\n",
              "    .dataframe tbody tr th {\n",
              "        vertical-align: top;\n",
              "    }\n",
              "\n",
              "    .dataframe thead th {\n",
              "        text-align: right;\n",
              "    }\n",
              "</style>\n",
              "<table border=\"1\" class=\"dataframe\">\n",
              "  <thead>\n",
              "    <tr style=\"text-align: right;\">\n",
              "      <th></th>\n",
              "      <th></th>\n",
              "      <th>A</th>\n",
              "      <th>B</th>\n",
              "    </tr>\n",
              "    <tr>\n",
              "      <th>first</th>\n",
              "      <th>second</th>\n",
              "      <th></th>\n",
              "      <th></th>\n",
              "    </tr>\n",
              "  </thead>\n",
              "  <tbody>\n",
              "    <tr>\n",
              "      <th rowspan=\"2\" valign=\"top\">bar</th>\n",
              "      <th>one</th>\n",
              "      <td>1.162539</td>\n",
              "      <td>0.476312</td>\n",
              "    </tr>\n",
              "    <tr>\n",
              "      <th>two</th>\n",
              "      <td>1.469296</td>\n",
              "      <td>0.058747</td>\n",
              "    </tr>\n",
              "    <tr>\n",
              "      <th rowspan=\"2\" valign=\"top\">baz</th>\n",
              "      <th>one</th>\n",
              "      <td>-0.335823</td>\n",
              "      <td>-0.088311</td>\n",
              "    </tr>\n",
              "    <tr>\n",
              "      <th>two</th>\n",
              "      <td>0.241533</td>\n",
              "      <td>-1.326298</td>\n",
              "    </tr>\n",
              "  </tbody>\n",
              "</table>\n",
              "</div>"
            ],
            "text/plain": [
              "                     A         B\n",
              "first second                    \n",
              "bar   one     1.162539  0.476312\n",
              "      two     1.469296  0.058747\n",
              "baz   one    -0.335823 -0.088311\n",
              "      two     0.241533 -1.326298"
            ]
          },
          "metadata": {
            "tags": []
          },
          "execution_count": 109
        }
      ]
    },
    {
      "cell_type": "code",
      "metadata": {
        "id": "fkumQl2ME2Rq",
        "outputId": "44a79180-14f5-4157-c5ea-5f052260c1c4",
        "colab": {
          "base_uri": "https://localhost:8080/",
          "height": 195
        }
      },
      "source": [
        "stacked.unstack(1)"
      ],
      "execution_count": null,
      "outputs": [
        {
          "output_type": "execute_result",
          "data": {
            "text/html": [
              "<div>\n",
              "<style scoped>\n",
              "    .dataframe tbody tr th:only-of-type {\n",
              "        vertical-align: middle;\n",
              "    }\n",
              "\n",
              "    .dataframe tbody tr th {\n",
              "        vertical-align: top;\n",
              "    }\n",
              "\n",
              "    .dataframe thead th {\n",
              "        text-align: right;\n",
              "    }\n",
              "</style>\n",
              "<table border=\"1\" class=\"dataframe\">\n",
              "  <thead>\n",
              "    <tr style=\"text-align: right;\">\n",
              "      <th></th>\n",
              "      <th>second</th>\n",
              "      <th>one</th>\n",
              "      <th>two</th>\n",
              "    </tr>\n",
              "    <tr>\n",
              "      <th>first</th>\n",
              "      <th></th>\n",
              "      <th></th>\n",
              "      <th></th>\n",
              "    </tr>\n",
              "  </thead>\n",
              "  <tbody>\n",
              "    <tr>\n",
              "      <th rowspan=\"2\" valign=\"top\">bar</th>\n",
              "      <th>A</th>\n",
              "      <td>1.162539</td>\n",
              "      <td>1.469296</td>\n",
              "    </tr>\n",
              "    <tr>\n",
              "      <th>B</th>\n",
              "      <td>0.476312</td>\n",
              "      <td>0.058747</td>\n",
              "    </tr>\n",
              "    <tr>\n",
              "      <th rowspan=\"2\" valign=\"top\">baz</th>\n",
              "      <th>A</th>\n",
              "      <td>-0.335823</td>\n",
              "      <td>0.241533</td>\n",
              "    </tr>\n",
              "    <tr>\n",
              "      <th>B</th>\n",
              "      <td>-0.088311</td>\n",
              "      <td>-1.326298</td>\n",
              "    </tr>\n",
              "  </tbody>\n",
              "</table>\n",
              "</div>"
            ],
            "text/plain": [
              "second        one       two\n",
              "first                      \n",
              "bar   A  1.162539  1.469296\n",
              "      B  0.476312  0.058747\n",
              "baz   A -0.335823  0.241533\n",
              "      B -0.088311 -1.326298"
            ]
          },
          "metadata": {
            "tags": []
          },
          "execution_count": 113
        }
      ]
    },
    {
      "cell_type": "code",
      "metadata": {
        "id": "tcuaR3TsE3MU",
        "outputId": "bc695fc2-262f-4fcd-d29c-da21ee8b1cf6",
        "colab": {
          "base_uri": "https://localhost:8080/",
          "height": 195
        }
      },
      "source": [
        "stacked.unstack(0)"
      ],
      "execution_count": null,
      "outputs": [
        {
          "output_type": "execute_result",
          "data": {
            "text/html": [
              "<div>\n",
              "<style scoped>\n",
              "    .dataframe tbody tr th:only-of-type {\n",
              "        vertical-align: middle;\n",
              "    }\n",
              "\n",
              "    .dataframe tbody tr th {\n",
              "        vertical-align: top;\n",
              "    }\n",
              "\n",
              "    .dataframe thead th {\n",
              "        text-align: right;\n",
              "    }\n",
              "</style>\n",
              "<table border=\"1\" class=\"dataframe\">\n",
              "  <thead>\n",
              "    <tr style=\"text-align: right;\">\n",
              "      <th></th>\n",
              "      <th>first</th>\n",
              "      <th>bar</th>\n",
              "      <th>baz</th>\n",
              "    </tr>\n",
              "    <tr>\n",
              "      <th>second</th>\n",
              "      <th></th>\n",
              "      <th></th>\n",
              "      <th></th>\n",
              "    </tr>\n",
              "  </thead>\n",
              "  <tbody>\n",
              "    <tr>\n",
              "      <th rowspan=\"2\" valign=\"top\">one</th>\n",
              "      <th>A</th>\n",
              "      <td>1.162539</td>\n",
              "      <td>-0.335823</td>\n",
              "    </tr>\n",
              "    <tr>\n",
              "      <th>B</th>\n",
              "      <td>0.476312</td>\n",
              "      <td>-0.088311</td>\n",
              "    </tr>\n",
              "    <tr>\n",
              "      <th rowspan=\"2\" valign=\"top\">two</th>\n",
              "      <th>A</th>\n",
              "      <td>1.469296</td>\n",
              "      <td>0.241533</td>\n",
              "    </tr>\n",
              "    <tr>\n",
              "      <th>B</th>\n",
              "      <td>0.058747</td>\n",
              "      <td>-1.326298</td>\n",
              "    </tr>\n",
              "  </tbody>\n",
              "</table>\n",
              "</div>"
            ],
            "text/plain": [
              "first          bar       baz\n",
              "second                      \n",
              "one    A  1.162539 -0.335823\n",
              "       B  0.476312 -0.088311\n",
              "two    A  1.469296  0.241533\n",
              "       B  0.058747 -1.326298"
            ]
          },
          "metadata": {
            "tags": []
          },
          "execution_count": 114
        }
      ]
    },
    {
      "cell_type": "markdown",
      "metadata": {
        "id": "cCn33lFpE4tQ"
      },
      "source": [
        "**Pivot Tables (피봇 테이블)**\n",
        "\n",
        "피봇 테이블 부분을 참조하자."
      ]
    },
    {
      "cell_type": "code",
      "metadata": {
        "id": "B9mlfqGXE6od",
        "outputId": "18b7ec76-fb45-4326-b9ee-83d1706ceea0",
        "colab": {
          "base_uri": "https://localhost:8080/",
          "height": 402
        }
      },
      "source": [
        "df = pd.DataFrame({'A' : ['one', 'one', 'two', 'three'] * 3,\n",
        "                   'B' : ['A', 'B', 'C'] * 4,\n",
        "                   'C' : ['foo', 'foo', 'foo', 'bar', 'bar', 'bar'] * 2,\n",
        "                   'D' : np.random.randn(12),\n",
        "                   'E' : np.random.randn(12)})\n",
        "df"
      ],
      "execution_count": null,
      "outputs": [
        {
          "output_type": "execute_result",
          "data": {
            "text/html": [
              "<div>\n",
              "<style scoped>\n",
              "    .dataframe tbody tr th:only-of-type {\n",
              "        vertical-align: middle;\n",
              "    }\n",
              "\n",
              "    .dataframe tbody tr th {\n",
              "        vertical-align: top;\n",
              "    }\n",
              "\n",
              "    .dataframe thead th {\n",
              "        text-align: right;\n",
              "    }\n",
              "</style>\n",
              "<table border=\"1\" class=\"dataframe\">\n",
              "  <thead>\n",
              "    <tr style=\"text-align: right;\">\n",
              "      <th></th>\n",
              "      <th>A</th>\n",
              "      <th>B</th>\n",
              "      <th>C</th>\n",
              "      <th>D</th>\n",
              "      <th>E</th>\n",
              "    </tr>\n",
              "  </thead>\n",
              "  <tbody>\n",
              "    <tr>\n",
              "      <th>0</th>\n",
              "      <td>one</td>\n",
              "      <td>A</td>\n",
              "      <td>foo</td>\n",
              "      <td>0.719022</td>\n",
              "      <td>0.631365</td>\n",
              "    </tr>\n",
              "    <tr>\n",
              "      <th>1</th>\n",
              "      <td>one</td>\n",
              "      <td>B</td>\n",
              "      <td>foo</td>\n",
              "      <td>0.084025</td>\n",
              "      <td>0.599231</td>\n",
              "    </tr>\n",
              "    <tr>\n",
              "      <th>2</th>\n",
              "      <td>two</td>\n",
              "      <td>C</td>\n",
              "      <td>foo</td>\n",
              "      <td>0.117591</td>\n",
              "      <td>-0.158058</td>\n",
              "    </tr>\n",
              "    <tr>\n",
              "      <th>3</th>\n",
              "      <td>three</td>\n",
              "      <td>A</td>\n",
              "      <td>bar</td>\n",
              "      <td>2.283603</td>\n",
              "      <td>-0.136697</td>\n",
              "    </tr>\n",
              "    <tr>\n",
              "      <th>4</th>\n",
              "      <td>one</td>\n",
              "      <td>B</td>\n",
              "      <td>bar</td>\n",
              "      <td>-0.256903</td>\n",
              "      <td>-0.473049</td>\n",
              "    </tr>\n",
              "    <tr>\n",
              "      <th>5</th>\n",
              "      <td>one</td>\n",
              "      <td>C</td>\n",
              "      <td>bar</td>\n",
              "      <td>0.273781</td>\n",
              "      <td>0.994022</td>\n",
              "    </tr>\n",
              "    <tr>\n",
              "      <th>6</th>\n",
              "      <td>two</td>\n",
              "      <td>A</td>\n",
              "      <td>foo</td>\n",
              "      <td>0.475327</td>\n",
              "      <td>-0.674590</td>\n",
              "    </tr>\n",
              "    <tr>\n",
              "      <th>7</th>\n",
              "      <td>three</td>\n",
              "      <td>B</td>\n",
              "      <td>foo</td>\n",
              "      <td>-0.314544</td>\n",
              "      <td>-0.563414</td>\n",
              "    </tr>\n",
              "    <tr>\n",
              "      <th>8</th>\n",
              "      <td>one</td>\n",
              "      <td>C</td>\n",
              "      <td>foo</td>\n",
              "      <td>-0.613191</td>\n",
              "      <td>0.043681</td>\n",
              "    </tr>\n",
              "    <tr>\n",
              "      <th>9</th>\n",
              "      <td>one</td>\n",
              "      <td>A</td>\n",
              "      <td>bar</td>\n",
              "      <td>-1.411572</td>\n",
              "      <td>-1.258718</td>\n",
              "    </tr>\n",
              "    <tr>\n",
              "      <th>10</th>\n",
              "      <td>two</td>\n",
              "      <td>B</td>\n",
              "      <td>bar</td>\n",
              "      <td>-0.941106</td>\n",
              "      <td>-0.629533</td>\n",
              "    </tr>\n",
              "    <tr>\n",
              "      <th>11</th>\n",
              "      <td>three</td>\n",
              "      <td>C</td>\n",
              "      <td>bar</td>\n",
              "      <td>-1.464190</td>\n",
              "      <td>-0.242061</td>\n",
              "    </tr>\n",
              "  </tbody>\n",
              "</table>\n",
              "</div>"
            ],
            "text/plain": [
              "        A  B    C         D         E\n",
              "0     one  A  foo  0.719022  0.631365\n",
              "1     one  B  foo  0.084025  0.599231\n",
              "2     two  C  foo  0.117591 -0.158058\n",
              "3   three  A  bar  2.283603 -0.136697\n",
              "4     one  B  bar -0.256903 -0.473049\n",
              "5     one  C  bar  0.273781  0.994022\n",
              "6     two  A  foo  0.475327 -0.674590\n",
              "7   three  B  foo -0.314544 -0.563414\n",
              "8     one  C  foo -0.613191  0.043681\n",
              "9     one  A  bar -1.411572 -1.258718\n",
              "10    two  B  bar -0.941106 -0.629533\n",
              "11  three  C  bar -1.464190 -0.242061"
            ]
          },
          "metadata": {
            "tags": []
          },
          "execution_count": 115
        }
      ]
    },
    {
      "cell_type": "markdown",
      "metadata": {
        "id": "YSXlDHnEE8Wq"
      },
      "source": [
        "이 데이터로부터 피봇 테이블을 매우 쉽게 생성할 수 있다."
      ]
    },
    {
      "cell_type": "code",
      "metadata": {
        "id": "eFeIO5QjE9zJ",
        "outputId": "1d8a9fc0-3a29-4d55-8d7f-504df2ea2e71",
        "colab": {
          "base_uri": "https://localhost:8080/",
          "height": 343
        }
      },
      "source": [
        "pd.pivot_table(df, values='D', index=['A', 'B'], columns=['C']) # values 값들의 리턴"
      ],
      "execution_count": null,
      "outputs": [
        {
          "output_type": "execute_result",
          "data": {
            "text/html": [
              "<div>\n",
              "<style scoped>\n",
              "    .dataframe tbody tr th:only-of-type {\n",
              "        vertical-align: middle;\n",
              "    }\n",
              "\n",
              "    .dataframe tbody tr th {\n",
              "        vertical-align: top;\n",
              "    }\n",
              "\n",
              "    .dataframe thead th {\n",
              "        text-align: right;\n",
              "    }\n",
              "</style>\n",
              "<table border=\"1\" class=\"dataframe\">\n",
              "  <thead>\n",
              "    <tr style=\"text-align: right;\">\n",
              "      <th></th>\n",
              "      <th>C</th>\n",
              "      <th>bar</th>\n",
              "      <th>foo</th>\n",
              "    </tr>\n",
              "    <tr>\n",
              "      <th>A</th>\n",
              "      <th>B</th>\n",
              "      <th></th>\n",
              "      <th></th>\n",
              "    </tr>\n",
              "  </thead>\n",
              "  <tbody>\n",
              "    <tr>\n",
              "      <th rowspan=\"3\" valign=\"top\">one</th>\n",
              "      <th>A</th>\n",
              "      <td>-1.411572</td>\n",
              "      <td>0.719022</td>\n",
              "    </tr>\n",
              "    <tr>\n",
              "      <th>B</th>\n",
              "      <td>-0.256903</td>\n",
              "      <td>0.084025</td>\n",
              "    </tr>\n",
              "    <tr>\n",
              "      <th>C</th>\n",
              "      <td>0.273781</td>\n",
              "      <td>-0.613191</td>\n",
              "    </tr>\n",
              "    <tr>\n",
              "      <th rowspan=\"3\" valign=\"top\">three</th>\n",
              "      <th>A</th>\n",
              "      <td>2.283603</td>\n",
              "      <td>NaN</td>\n",
              "    </tr>\n",
              "    <tr>\n",
              "      <th>B</th>\n",
              "      <td>NaN</td>\n",
              "      <td>-0.314544</td>\n",
              "    </tr>\n",
              "    <tr>\n",
              "      <th>C</th>\n",
              "      <td>-1.464190</td>\n",
              "      <td>NaN</td>\n",
              "    </tr>\n",
              "    <tr>\n",
              "      <th rowspan=\"3\" valign=\"top\">two</th>\n",
              "      <th>A</th>\n",
              "      <td>NaN</td>\n",
              "      <td>0.475327</td>\n",
              "    </tr>\n",
              "    <tr>\n",
              "      <th>B</th>\n",
              "      <td>-0.941106</td>\n",
              "      <td>NaN</td>\n",
              "    </tr>\n",
              "    <tr>\n",
              "      <th>C</th>\n",
              "      <td>NaN</td>\n",
              "      <td>0.117591</td>\n",
              "    </tr>\n",
              "  </tbody>\n",
              "</table>\n",
              "</div>"
            ],
            "text/plain": [
              "C             bar       foo\n",
              "A     B                    \n",
              "one   A -1.411572  0.719022\n",
              "      B -0.256903  0.084025\n",
              "      C  0.273781 -0.613191\n",
              "three A  2.283603       NaN\n",
              "      B       NaN -0.314544\n",
              "      C -1.464190       NaN\n",
              "two   A       NaN  0.475327\n",
              "      B -0.941106       NaN\n",
              "      C       NaN  0.117591"
            ]
          },
          "metadata": {
            "tags": []
          },
          "execution_count": 116
        }
      ]
    },
    {
      "cell_type": "markdown",
      "metadata": {
        "id": "vmnX8PipFAKu"
      },
      "source": [
        "## 9. Time Series (시계열)\n",
        "\n",
        "Pandas는 자주 일어나는 변환 (예시 : 5분마다 일어나는 데이터에 대한 2차 데이터 변환) 사이에 수행하는 리샘플링 연산을 위한 간단하고, 강력하며, 효율적인 함수를 제공한다. 이는 재무 (금융) 응용에서 매우 일반적이지만 이에 국한되지는 않는다. 시계열 부분을 참고하자."
      ]
    },
    {
      "cell_type": "code",
      "metadata": {
        "id": "mghFe5yJFCi6",
        "outputId": "5c94eb93-9297-4059-9a29-336d6809264c",
        "colab": {
          "base_uri": "https://localhost:8080/"
        }
      },
      "source": [
        "rng = pd.date_range('1/1/2012', periods=100, freq='S')\n",
        "ts = pd.Series(np.random.randint(0, 500, len(rng)), index=rng)\n",
        "ts.resample('5Min').sum()"
      ],
      "execution_count": null,
      "outputs": [
        {
          "output_type": "execute_result",
          "data": {
            "text/plain": [
              "2012-01-01    22820\n",
              "Freq: 5T, dtype: int64"
            ]
          },
          "metadata": {
            "tags": []
          },
          "execution_count": 117
        }
      ]
    },
    {
      "cell_type": "markdown",
      "metadata": {
        "id": "gWw3BU5jFEUa"
      },
      "source": [
        "시간대를 표현합니다."
      ]
    },
    {
      "cell_type": "code",
      "metadata": {
        "id": "4RPrQiTCFFV8",
        "outputId": "e066c3ce-e086-4990-b222-fb2a9690120c",
        "colab": {
          "base_uri": "https://localhost:8080/"
        }
      },
      "source": [
        "rng = pd.date_range('3/6/2012 00:00', periods=5, freq='D')\n",
        "ts = pd.Series(np.random.randn(len(rng)), rng)\n",
        "ts"
      ],
      "execution_count": null,
      "outputs": [
        {
          "output_type": "execute_result",
          "data": {
            "text/plain": [
              "2012-03-06    1.051873\n",
              "2012-03-07    0.496408\n",
              "2012-03-08   -1.105426\n",
              "2012-03-09    0.260551\n",
              "2012-03-10    0.112549\n",
              "Freq: D, dtype: float64"
            ]
          },
          "metadata": {
            "tags": []
          },
          "execution_count": 118
        }
      ]
    },
    {
      "cell_type": "code",
      "metadata": {
        "id": "VccQG7JuFGPA",
        "outputId": "9000a3cc-523e-475e-d99b-cf03c6eec6e4",
        "colab": {
          "base_uri": "https://localhost:8080/"
        }
      },
      "source": [
        "ts_utc = ts.tz_localize('UTC')\n",
        "ts_utc"
      ],
      "execution_count": null,
      "outputs": [
        {
          "output_type": "execute_result",
          "data": {
            "text/plain": [
              "2012-03-06 00:00:00+00:00    1.051873\n",
              "2012-03-07 00:00:00+00:00    0.496408\n",
              "2012-03-08 00:00:00+00:00   -1.105426\n",
              "2012-03-09 00:00:00+00:00    0.260551\n",
              "2012-03-10 00:00:00+00:00    0.112549\n",
              "Freq: D, dtype: float64"
            ]
          },
          "metadata": {
            "tags": []
          },
          "execution_count": 119
        }
      ]
    },
    {
      "cell_type": "markdown",
      "metadata": {
        "id": "LhiGr3e1FHU0"
      },
      "source": [
        "다른 시간대로 변환합니다."
      ]
    },
    {
      "cell_type": "code",
      "metadata": {
        "id": "keX7gBxsFI35",
        "outputId": "e9fe5173-f51c-4781-d9e5-93698f99e412",
        "colab": {
          "base_uri": "https://localhost:8080/"
        }
      },
      "source": [
        "ts_utc.tz_convert('US/Eastern')"
      ],
      "execution_count": null,
      "outputs": [
        {
          "output_type": "execute_result",
          "data": {
            "text/plain": [
              "2012-03-05 19:00:00-05:00    1.051873\n",
              "2012-03-06 19:00:00-05:00    0.496408\n",
              "2012-03-07 19:00:00-05:00   -1.105426\n",
              "2012-03-08 19:00:00-05:00    0.260551\n",
              "2012-03-09 19:00:00-05:00    0.112549\n",
              "Freq: D, dtype: float64"
            ]
          },
          "metadata": {
            "tags": []
          },
          "execution_count": 120
        }
      ]
    },
    {
      "cell_type": "markdown",
      "metadata": {
        "id": "yW_KF8xYFJzO"
      },
      "source": [
        "시간 표현 ↔ 기간 표현으로 변환합니다."
      ]
    },
    {
      "cell_type": "code",
      "metadata": {
        "id": "dV9uDqhEFK0X",
        "outputId": "2140d319-e2a8-4a6b-dbaa-31cece475a71",
        "colab": {
          "base_uri": "https://localhost:8080/"
        }
      },
      "source": [
        "rng = pd.date_range('1/1/2012', periods=5, freq='M')\n",
        "ts = pd.Series(np.random.randn(len(rng)), index=rng)\n",
        "ts"
      ],
      "execution_count": null,
      "outputs": [
        {
          "output_type": "execute_result",
          "data": {
            "text/plain": [
              "2012-01-31    0.250754\n",
              "2012-02-29    0.495571\n",
              "2012-03-31   -0.126419\n",
              "2012-04-30   -0.639032\n",
              "2012-05-31   -1.396964\n",
              "Freq: M, dtype: float64"
            ]
          },
          "metadata": {
            "tags": []
          },
          "execution_count": 121
        }
      ]
    },
    {
      "cell_type": "code",
      "metadata": {
        "id": "XTF85XjVFL2g",
        "outputId": "2fcf376c-5cab-42fe-aeb5-66f8355cd42e",
        "colab": {
          "base_uri": "https://localhost:8080/"
        }
      },
      "source": [
        "ps = ts.to_period()\n",
        "ps"
      ],
      "execution_count": null,
      "outputs": [
        {
          "output_type": "execute_result",
          "data": {
            "text/plain": [
              "2012-01    0.250754\n",
              "2012-02    0.495571\n",
              "2012-03   -0.126419\n",
              "2012-04   -0.639032\n",
              "2012-05   -1.396964\n",
              "Freq: M, dtype: float64"
            ]
          },
          "metadata": {
            "tags": []
          },
          "execution_count": 122
        }
      ]
    },
    {
      "cell_type": "code",
      "metadata": {
        "id": "asAwzDWbFM45",
        "outputId": "02ea6ac2-4e37-4e12-d51d-597a16a966bc",
        "colab": {
          "base_uri": "https://localhost:8080/"
        }
      },
      "source": [
        "ps.to_timestamp()"
      ],
      "execution_count": null,
      "outputs": [
        {
          "output_type": "execute_result",
          "data": {
            "text/plain": [
              "2012-01-01    0.250754\n",
              "2012-02-01    0.495571\n",
              "2012-03-01   -0.126419\n",
              "2012-04-01   -0.639032\n",
              "2012-05-01   -1.396964\n",
              "Freq: MS, dtype: float64"
            ]
          },
          "metadata": {
            "tags": []
          },
          "execution_count": 123
        }
      ]
    },
    {
      "cell_type": "markdown",
      "metadata": {
        "id": "14fwfKGBFNzg"
      },
      "source": [
        "기간 ↔ 시간 변환은 편리한 산술 기능들을 사용할 수 있도록 만들어준다. 다음 예제에서, 우리는 11월에 끝나는 연말 결산의 분기별 빈도를 분기말 익월의 월말일 오전 9시로 변환한다."
      ]
    },
    {
      "cell_type": "code",
      "metadata": {
        "id": "jB460ItLFPIP",
        "outputId": "4489f428-b4a2-44fd-873d-e86f67d7dfcb",
        "colab": {
          "base_uri": "https://localhost:8080/"
        }
      },
      "source": [
        "prng = pd.period_range('1990Q1', '2000Q4', freq='Q-NOV')\n",
        "ts = pd.Series(np.random.randn(len(prng)), prng)\n",
        "ts.index = (prng.asfreq('M', 'e') + 1).asfreq('H', 's') + 9\n",
        "ts.head()"
      ],
      "execution_count": null,
      "outputs": [
        {
          "output_type": "execute_result",
          "data": {
            "text/plain": [
              "1990-03-01 09:00   -0.363746\n",
              "1990-06-01 09:00   -0.669486\n",
              "1990-09-01 09:00    1.893452\n",
              "1990-12-01 09:00   -0.630090\n",
              "1991-03-01 09:00   -1.333502\n",
              "Freq: H, dtype: float64"
            ]
          },
          "metadata": {
            "tags": []
          },
          "execution_count": 124
        }
      ]
    },
    {
      "cell_type": "markdown",
      "metadata": {
        "id": "UwF_tGPMFQFo"
      },
      "source": [
        "## 10. Categoricals (범주화)\n",
        "\n",
        "Pandas는 데이터프레임 내에 범주형 데이터를 포함할 수 있다. 범주형 소개 와 API 문서 부분을 참조하자."
      ]
    },
    {
      "cell_type": "code",
      "metadata": {
        "id": "G4esnu5rFTkE"
      },
      "source": [
        "df = pd.DataFrame({\"id\":[1,2,3,4,5,6], \"raw_grade\":['a', 'b', 'b', 'a', 'a', 'e']})"
      ],
      "execution_count": null,
      "outputs": []
    },
    {
      "cell_type": "markdown",
      "metadata": {
        "id": "UfFyEHd4FUgG"
      },
      "source": [
        "가공하지 않은 성적을 범주형 데이터로 변환한다."
      ]
    },
    {
      "cell_type": "code",
      "metadata": {
        "id": "KT0akDa3FVo9",
        "outputId": "7295e185-43a9-4fda-c059-f3d9937566e2",
        "colab": {
          "base_uri": "https://localhost:8080/"
        }
      },
      "source": [
        "df[\"grade\"] = df[\"raw_grade\"].astype(\"category\")\n",
        "df[\"grade\"]"
      ],
      "execution_count": null,
      "outputs": [
        {
          "output_type": "execute_result",
          "data": {
            "text/plain": [
              "0    a\n",
              "1    b\n",
              "2    b\n",
              "3    a\n",
              "4    a\n",
              "5    e\n",
              "Name: grade, dtype: category\n",
              "Categories (3, object): ['a', 'b', 'e']"
            ]
          },
          "metadata": {
            "tags": []
          },
          "execution_count": 127
        }
      ]
    },
    {
      "cell_type": "markdown",
      "metadata": {
        "id": "I-nIog4cFXX7"
      },
      "source": [
        "범주에 더 의미 있는 이름을 붙여준다 (Series.cat.categories로 할당하는 것이 적합하다)."
      ]
    },
    {
      "cell_type": "code",
      "metadata": {
        "id": "5T2ydCKgFYME"
      },
      "source": [
        "df[\"grade\"].cat.categories = [\"very good\", \"good\", \"very bad\"]"
      ],
      "execution_count": null,
      "outputs": []
    },
    {
      "cell_type": "markdown",
      "metadata": {
        "id": "nKHZtZvrFdsD"
      },
      "source": [
        "범주의 순서를 바꾸고 동시에 누락된 범주를 추가한다. (Series.cat에 속하는 메소드는 기본적으로 새로운 Series를 반환한다)."
      ]
    },
    {
      "cell_type": "code",
      "metadata": {
        "id": "_LiakwPEFfVD",
        "outputId": "c7b48395-8fee-4fa4-de98-a4f88bc901a3",
        "colab": {
          "base_uri": "https://localhost:8080/"
        }
      },
      "source": [
        "df[\"grade\"] = df[\"grade\"].cat.set_categories([\"very bad\", \"bad\", \"medium\", \"good\", \"very good\"])\n",
        "df[\"grade\"]"
      ],
      "execution_count": null,
      "outputs": [
        {
          "output_type": "execute_result",
          "data": {
            "text/plain": [
              "0    very good\n",
              "1         good\n",
              "2         good\n",
              "3    very good\n",
              "4    very good\n",
              "5     very bad\n",
              "Name: grade, dtype: category\n",
              "Categories (5, object): ['very bad', 'bad', 'medium', 'good', 'very good']"
            ]
          },
          "metadata": {
            "tags": []
          },
          "execution_count": 130
        }
      ]
    },
    {
      "cell_type": "markdown",
      "metadata": {
        "id": "PWcgX48jFh5A"
      },
      "source": [
        "정렬은 사전 순서가 아닌, 해당 범주에서 지정된 순서대로 배열한다.\n",
        "\n",
        "역자 주 : 131번에서 very bad, bad, medium, good, very good 의 순서로 기재되어 있기 때문에 정렬 결과도 해당 순서대로 배열된다."
      ]
    },
    {
      "cell_type": "code",
      "metadata": {
        "id": "frMOwQKEFkHY",
        "outputId": "b8887626-d7e0-4950-8913-bb5103f071b6",
        "colab": {
          "base_uri": "https://localhost:8080/",
          "height": 225
        }
      },
      "source": [
        "df.sort_values(by=\"grade\")"
      ],
      "execution_count": null,
      "outputs": [
        {
          "output_type": "execute_result",
          "data": {
            "text/html": [
              "<div>\n",
              "<style scoped>\n",
              "    .dataframe tbody tr th:only-of-type {\n",
              "        vertical-align: middle;\n",
              "    }\n",
              "\n",
              "    .dataframe tbody tr th {\n",
              "        vertical-align: top;\n",
              "    }\n",
              "\n",
              "    .dataframe thead th {\n",
              "        text-align: right;\n",
              "    }\n",
              "</style>\n",
              "<table border=\"1\" class=\"dataframe\">\n",
              "  <thead>\n",
              "    <tr style=\"text-align: right;\">\n",
              "      <th></th>\n",
              "      <th>id</th>\n",
              "      <th>raw_grade</th>\n",
              "      <th>grade</th>\n",
              "    </tr>\n",
              "  </thead>\n",
              "  <tbody>\n",
              "    <tr>\n",
              "      <th>5</th>\n",
              "      <td>6</td>\n",
              "      <td>e</td>\n",
              "      <td>very bad</td>\n",
              "    </tr>\n",
              "    <tr>\n",
              "      <th>1</th>\n",
              "      <td>2</td>\n",
              "      <td>b</td>\n",
              "      <td>good</td>\n",
              "    </tr>\n",
              "    <tr>\n",
              "      <th>2</th>\n",
              "      <td>3</td>\n",
              "      <td>b</td>\n",
              "      <td>good</td>\n",
              "    </tr>\n",
              "    <tr>\n",
              "      <th>0</th>\n",
              "      <td>1</td>\n",
              "      <td>a</td>\n",
              "      <td>very good</td>\n",
              "    </tr>\n",
              "    <tr>\n",
              "      <th>3</th>\n",
              "      <td>4</td>\n",
              "      <td>a</td>\n",
              "      <td>very good</td>\n",
              "    </tr>\n",
              "    <tr>\n",
              "      <th>4</th>\n",
              "      <td>5</td>\n",
              "      <td>a</td>\n",
              "      <td>very good</td>\n",
              "    </tr>\n",
              "  </tbody>\n",
              "</table>\n",
              "</div>"
            ],
            "text/plain": [
              "   id raw_grade      grade\n",
              "5   6         e   very bad\n",
              "1   2         b       good\n",
              "2   3         b       good\n",
              "0   1         a  very good\n",
              "3   4         a  very good\n",
              "4   5         a  very good"
            ]
          },
          "metadata": {
            "tags": []
          },
          "execution_count": 131
        }
      ]
    },
    {
      "cell_type": "markdown",
      "metadata": {
        "id": "NRzbvkV-FlRM"
      },
      "source": [
        "범주의 열을 기준으로 그룹화하면 빈 범주도 표시된다."
      ]
    },
    {
      "cell_type": "code",
      "metadata": {
        "id": "ACiw3FljFmbf",
        "outputId": "fb4d8432-76aa-4601-d28e-5c2d7436eb19",
        "colab": {
          "base_uri": "https://localhost:8080/"
        }
      },
      "source": [
        "df.groupby(\"grade\").size()"
      ],
      "execution_count": null,
      "outputs": [
        {
          "output_type": "execute_result",
          "data": {
            "text/plain": [
              "grade\n",
              "very bad     1\n",
              "bad          0\n",
              "medium       0\n",
              "good         2\n",
              "very good    3\n",
              "dtype: int64"
            ]
          },
          "metadata": {
            "tags": []
          },
          "execution_count": 132
        }
      ]
    },
    {
      "cell_type": "markdown",
      "metadata": {
        "id": "WN3KvahzFnUx"
      },
      "source": [
        "## 11. Plotting (그래프)\n",
        "\n",
        "Plotting 부분을 참조하자."
      ]
    },
    {
      "cell_type": "code",
      "metadata": {
        "id": "jdUbEfe4FpsC",
        "outputId": "56df6ccd-4a28-4873-89c6-969e3f0f3ef7",
        "colab": {
          "base_uri": "https://localhost:8080/",
          "height": 294
        }
      },
      "source": [
        "ts = pd.Series(np.random.randn(1000), index=pd.date_range('1/1/2000', periods=1000))\n",
        "ts = ts.cumsum()\n",
        "ts.plot()"
      ],
      "execution_count": null,
      "outputs": [
        {
          "output_type": "execute_result",
          "data": {
            "text/plain": [
              "<matplotlib.axes._subplots.AxesSubplot at 0x7f7eb03c3438>"
            ]
          },
          "metadata": {
            "tags": []
          },
          "execution_count": 133
        },
        {
          "output_type": "display_data",
          "data": {
            "image/png": "[encoded data removed]",
            "text/plain": [
              "<Figure size 432x288 with 1 Axes>"
            ]
          },
          "metadata": {
            "tags": [],
            "needs_background": "light"
          }
        }
      ]
    },
    {
      "cell_type": "markdown",
      "metadata": {
        "id": "2RnrSD2cFq27"
      },
      "source": [
        "데이터프레임에서 plot() 메소드는 라벨이 존재하는 모든 열을 그릴 때 편리하다."
      ]
    },
    {
      "cell_type": "code",
      "metadata": {
        "id": "oo0-3AiKFtLQ",
        "outputId": "5dd3f38b-f7de-43a9-827c-6f74f1cc703a",
        "colab": {
          "base_uri": "https://localhost:8080/",
          "height": 312
        }
      },
      "source": [
        "df = pd.DataFrame(np.random.randn(1000, 4), index=ts.index,\n",
        "                  columns=['A', 'B', 'C', 'D'])  \n",
        "df = df.cumsum()\n",
        "plt.figure(); df.plot(); plt.legend(loc='best')"
      ],
      "execution_count": null,
      "outputs": [
        {
          "output_type": "execute_result",
          "data": {
            "text/plain": [
              "<matplotlib.legend.Legend at 0x7f7eb02d7e10>"
            ]
          },
          "metadata": {
            "tags": []
          },
          "execution_count": 134
        },
        {
          "output_type": "display_data",
          "data": {
            "text/plain": [
              "<Figure size 432x288 with 0 Axes>"
            ]
          },
          "metadata": {
            "tags": []
          }
        },
        {
          "output_type": "display_data",
          "data": {
            "image/png": "[encoded data removed]",
            "text/plain": [
              "<Figure size 432x288 with 1 Axes>"
            ]
          },
          "metadata": {
            "tags": [],
            "needs_background": "light"
          }
        }
      ]
    },
    {
      "cell_type": "markdown",
      "metadata": {
        "id": "DJdJPEQQF8QU"
      },
      "source": [
        "## 12. Getting Data In / Out (데이터 입 / 출력)\n",
        "\n",
        "**CSV**\n",
        "\n",
        "csv 파일에 쓴다."
      ]
    },
    {
      "cell_type": "code",
      "metadata": {
        "id": "dsZdqZp8GAwB"
      },
      "source": [
        "df.to_csv('foo.csv')"
      ],
      "execution_count": null,
      "outputs": []
    },
    {
      "cell_type": "markdown",
      "metadata": {
        "id": "6TK6jqPDGGFh"
      },
      "source": [
        "csv 파일을 읽는다."
      ]
    },
    {
      "cell_type": "code",
      "metadata": {
        "id": "LqqGrt5bGDl1",
        "outputId": "96c308c4-c291-4a14-f8f1-e42daf73486c",
        "colab": {
          "base_uri": "https://localhost:8080/",
          "height": 402
        }
      },
      "source": [
        "pd.read_csv('foo.csv')"
      ],
      "execution_count": null,
      "outputs": [
        {
          "output_type": "execute_result",
          "data": {
            "text/html": [
              "<div>\n",
              "<style scoped>\n",
              "    .dataframe tbody tr th:only-of-type {\n",
              "        vertical-align: middle;\n",
              "    }\n",
              "\n",
              "    .dataframe tbody tr th {\n",
              "        vertical-align: top;\n",
              "    }\n",
              "\n",
              "    .dataframe thead th {\n",
              "        text-align: right;\n",
              "    }\n",
              "</style>\n",
              "<table border=\"1\" class=\"dataframe\">\n",
              "  <thead>\n",
              "    <tr style=\"text-align: right;\">\n",
              "      <th></th>\n",
              "      <th>Unnamed: 0</th>\n",
              "      <th>A</th>\n",
              "      <th>B</th>\n",
              "      <th>C</th>\n",
              "      <th>D</th>\n",
              "    </tr>\n",
              "  </thead>\n",
              "  <tbody>\n",
              "    <tr>\n",
              "      <th>0</th>\n",
              "      <td>2000-01-01</td>\n",
              "      <td>-2.029686</td>\n",
              "      <td>0.027579</td>\n",
              "      <td>0.145404</td>\n",
              "      <td>0.145855</td>\n",
              "    </tr>\n",
              "    <tr>\n",
              "      <th>1</th>\n",
              "      <td>2000-01-02</td>\n",
              "      <td>-2.239540</td>\n",
              "      <td>1.513306</td>\n",
              "      <td>1.630738</td>\n",
              "      <td>-0.506122</td>\n",
              "    </tr>\n",
              "    <tr>\n",
              "      <th>2</th>\n",
              "      <td>2000-01-03</td>\n",
              "      <td>-1.530248</td>\n",
              "      <td>1.293403</td>\n",
              "      <td>1.376174</td>\n",
              "      <td>-0.194329</td>\n",
              "    </tr>\n",
              "    <tr>\n",
              "      <th>3</th>\n",
              "      <td>2000-01-04</td>\n",
              "      <td>-2.491674</td>\n",
              "      <td>0.697234</td>\n",
              "      <td>1.626900</td>\n",
              "      <td>0.303869</td>\n",
              "    </tr>\n",
              "    <tr>\n",
              "      <th>4</th>\n",
              "      <td>2000-01-05</td>\n",
              "      <td>-2.555745</td>\n",
              "      <td>0.660367</td>\n",
              "      <td>4.321562</td>\n",
              "      <td>0.676639</td>\n",
              "    </tr>\n",
              "    <tr>\n",
              "      <th>...</th>\n",
              "      <td>...</td>\n",
              "      <td>...</td>\n",
              "      <td>...</td>\n",
              "      <td>...</td>\n",
              "      <td>...</td>\n",
              "    </tr>\n",
              "    <tr>\n",
              "      <th>995</th>\n",
              "      <td>2002-09-22</td>\n",
              "      <td>5.051978</td>\n",
              "      <td>19.618068</td>\n",
              "      <td>2.325694</td>\n",
              "      <td>22.448233</td>\n",
              "    </tr>\n",
              "    <tr>\n",
              "      <th>996</th>\n",
              "      <td>2002-09-23</td>\n",
              "      <td>5.509319</td>\n",
              "      <td>17.373734</td>\n",
              "      <td>1.060195</td>\n",
              "      <td>23.622497</td>\n",
              "    </tr>\n",
              "    <tr>\n",
              "      <th>997</th>\n",
              "      <td>2002-09-24</td>\n",
              "      <td>4.807298</td>\n",
              "      <td>18.228807</td>\n",
              "      <td>0.855399</td>\n",
              "      <td>22.592572</td>\n",
              "    </tr>\n",
              "    <tr>\n",
              "      <th>998</th>\n",
              "      <td>2002-09-25</td>\n",
              "      <td>5.518477</td>\n",
              "      <td>18.802967</td>\n",
              "      <td>0.872862</td>\n",
              "      <td>22.606474</td>\n",
              "    </tr>\n",
              "    <tr>\n",
              "      <th>999</th>\n",
              "      <td>2002-09-26</td>\n",
              "      <td>4.382839</td>\n",
              "      <td>18.652056</td>\n",
              "      <td>0.725738</td>\n",
              "      <td>22.556953</td>\n",
              "    </tr>\n",
              "  </tbody>\n",
              "</table>\n",
              "<p>1000 rows × 5 columns</p>\n",
              "</div>"
            ],
            "text/plain": [
              "     Unnamed: 0         A          B         C          D\n",
              "0    2000-01-01 -2.029686   0.027579  0.145404   0.145855\n",
              "1    2000-01-02 -2.239540   1.513306  1.630738  -0.506122\n",
              "2    2000-01-03 -1.530248   1.293403  1.376174  -0.194329\n",
              "3    2000-01-04 -2.491674   0.697234  1.626900   0.303869\n",
              "4    2000-01-05 -2.555745   0.660367  4.321562   0.676639\n",
              "..          ...       ...        ...       ...        ...\n",
              "995  2002-09-22  5.051978  19.618068  2.325694  22.448233\n",
              "996  2002-09-23  5.509319  17.373734  1.060195  23.622497\n",
              "997  2002-09-24  4.807298  18.228807  0.855399  22.592572\n",
              "998  2002-09-25  5.518477  18.802967  0.872862  22.606474\n",
              "999  2002-09-26  4.382839  18.652056  0.725738  22.556953\n",
              "\n",
              "[1000 rows x 5 columns]"
            ]
          },
          "metadata": {
            "tags": []
          },
          "execution_count": 136
        }
      ]
    },
    {
      "cell_type": "markdown",
      "metadata": {
        "id": "DhpC9jKPGH4C"
      },
      "source": [
        "**HDF5**\n",
        "\n",
        "HDFStores에 읽고 쓴다.\n",
        "\n",
        "HDF5 Store에 쓴다."
      ]
    },
    {
      "cell_type": "code",
      "metadata": {
        "id": "-x0PM8_FGKpI"
      },
      "source": [
        "df.to_hdf('foo.h5','df')"
      ],
      "execution_count": null,
      "outputs": []
    },
    {
      "cell_type": "markdown",
      "metadata": {
        "id": "0s5DQZ9fGLYx"
      },
      "source": [
        "HDF5 Store에서 읽어온다."
      ]
    },
    {
      "cell_type": "code",
      "metadata": {
        "id": "d1ceRHnVGMPa",
        "outputId": "caef1ec0-bfb7-4477-9325-283dc34e4fbc",
        "colab": {
          "base_uri": "https://localhost:8080/",
          "height": 402
        }
      },
      "source": [
        "pd.read_hdf('foo.h5','df')"
      ],
      "execution_count": null,
      "outputs": [
        {
          "output_type": "execute_result",
          "data": {
            "text/html": [
              "<div>\n",
              "<style scoped>\n",
              "    .dataframe tbody tr th:only-of-type {\n",
              "        vertical-align: middle;\n",
              "    }\n",
              "\n",
              "    .dataframe tbody tr th {\n",
              "        vertical-align: top;\n",
              "    }\n",
              "\n",
              "    .dataframe thead th {\n",
              "        text-align: right;\n",
              "    }\n",
              "</style>\n",
              "<table border=\"1\" class=\"dataframe\">\n",
              "  <thead>\n",
              "    <tr style=\"text-align: right;\">\n",
              "      <th></th>\n",
              "      <th>A</th>\n",
              "      <th>B</th>\n",
              "      <th>C</th>\n",
              "      <th>D</th>\n",
              "    </tr>\n",
              "  </thead>\n",
              "  <tbody>\n",
              "    <tr>\n",
              "      <th>2000-01-01</th>\n",
              "      <td>-2.029686</td>\n",
              "      <td>0.027579</td>\n",
              "      <td>0.145404</td>\n",
              "      <td>0.145855</td>\n",
              "    </tr>\n",
              "    <tr>\n",
              "      <th>2000-01-02</th>\n",
              "      <td>-2.239540</td>\n",
              "      <td>1.513306</td>\n",
              "      <td>1.630738</td>\n",
              "      <td>-0.506122</td>\n",
              "    </tr>\n",
              "    <tr>\n",
              "      <th>2000-01-03</th>\n",
              "      <td>-1.530248</td>\n",
              "      <td>1.293403</td>\n",
              "      <td>1.376174</td>\n",
              "      <td>-0.194329</td>\n",
              "    </tr>\n",
              "    <tr>\n",
              "      <th>2000-01-04</th>\n",
              "      <td>-2.491674</td>\n",
              "      <td>0.697234</td>\n",
              "      <td>1.626900</td>\n",
              "      <td>0.303869</td>\n",
              "    </tr>\n",
              "    <tr>\n",
              "      <th>2000-01-05</th>\n",
              "      <td>-2.555745</td>\n",
              "      <td>0.660367</td>\n",
              "      <td>4.321562</td>\n",
              "      <td>0.676639</td>\n",
              "    </tr>\n",
              "    <tr>\n",
              "      <th>...</th>\n",
              "      <td>...</td>\n",
              "      <td>...</td>\n",
              "      <td>...</td>\n",
              "      <td>...</td>\n",
              "    </tr>\n",
              "    <tr>\n",
              "      <th>2002-09-22</th>\n",
              "      <td>5.051978</td>\n",
              "      <td>19.618068</td>\n",
              "      <td>2.325694</td>\n",
              "      <td>22.448233</td>\n",
              "    </tr>\n",
              "    <tr>\n",
              "      <th>2002-09-23</th>\n",
              "      <td>5.509319</td>\n",
              "      <td>17.373734</td>\n",
              "      <td>1.060195</td>\n",
              "      <td>23.622497</td>\n",
              "    </tr>\n",
              "    <tr>\n",
              "      <th>2002-09-24</th>\n",
              "      <td>4.807298</td>\n",
              "      <td>18.228807</td>\n",
              "      <td>0.855399</td>\n",
              "      <td>22.592572</td>\n",
              "    </tr>\n",
              "    <tr>\n",
              "      <th>2002-09-25</th>\n",
              "      <td>5.518477</td>\n",
              "      <td>18.802967</td>\n",
              "      <td>0.872862</td>\n",
              "      <td>22.606474</td>\n",
              "    </tr>\n",
              "    <tr>\n",
              "      <th>2002-09-26</th>\n",
              "      <td>4.382839</td>\n",
              "      <td>18.652056</td>\n",
              "      <td>0.725738</td>\n",
              "      <td>22.556953</td>\n",
              "    </tr>\n",
              "  </tbody>\n",
              "</table>\n",
              "<p>1000 rows × 4 columns</p>\n",
              "</div>"
            ],
            "text/plain": [
              "                   A          B         C          D\n",
              "2000-01-01 -2.029686   0.027579  0.145404   0.145855\n",
              "2000-01-02 -2.239540   1.513306  1.630738  -0.506122\n",
              "2000-01-03 -1.530248   1.293403  1.376174  -0.194329\n",
              "2000-01-04 -2.491674   0.697234  1.626900   0.303869\n",
              "2000-01-05 -2.555745   0.660367  4.321562   0.676639\n",
              "...              ...        ...       ...        ...\n",
              "2002-09-22  5.051978  19.618068  2.325694  22.448233\n",
              "2002-09-23  5.509319  17.373734  1.060195  23.622497\n",
              "2002-09-24  4.807298  18.228807  0.855399  22.592572\n",
              "2002-09-25  5.518477  18.802967  0.872862  22.606474\n",
              "2002-09-26  4.382839  18.652056  0.725738  22.556953\n",
              "\n",
              "[1000 rows x 4 columns]"
            ]
          },
          "metadata": {
            "tags": []
          },
          "execution_count": 138
        }
      ]
    },
    {
      "cell_type": "markdown",
      "metadata": {
        "id": "olR2LPvFGOPP"
      },
      "source": [
        "**Excel**\n",
        "\n",
        "MS Excel에 읽고 쓴다.\n",
        "\n",
        "엑셀 파일에 쓴다."
      ]
    },
    {
      "cell_type": "code",
      "metadata": {
        "id": "rF2IHU93GQUy"
      },
      "source": [
        "df.to_excel('foo.xlsx', sheet_name='Sheet1')"
      ],
      "execution_count": null,
      "outputs": []
    },
    {
      "cell_type": "markdown",
      "metadata": {
        "id": "cGCHrTMaGRRz"
      },
      "source": [
        "엑셀 파일을 읽어온다."
      ]
    },
    {
      "cell_type": "code",
      "metadata": {
        "id": "mSSuVBvsGSNf",
        "outputId": "a6392402-072f-491f-9823-6e903c6fbc98",
        "colab": {
          "base_uri": "https://localhost:8080/",
          "height": 402
        }
      },
      "source": [
        "pd.read_excel('foo.xlsx', 'Sheet1', index_col=None, na_values=['NA'])"
      ],
      "execution_count": null,
      "outputs": [
        {
          "output_type": "execute_result",
          "data": {
            "text/html": [
              "<div>\n",
              "<style scoped>\n",
              "    .dataframe tbody tr th:only-of-type {\n",
              "        vertical-align: middle;\n",
              "    }\n",
              "\n",
              "    .dataframe tbody tr th {\n",
              "        vertical-align: top;\n",
              "    }\n",
              "\n",
              "    .dataframe thead th {\n",
              "        text-align: right;\n",
              "    }\n",
              "</style>\n",
              "<table border=\"1\" class=\"dataframe\">\n",
              "  <thead>\n",
              "    <tr style=\"text-align: right;\">\n",
              "      <th></th>\n",
              "      <th>Unnamed: 0</th>\n",
              "      <th>A</th>\n",
              "      <th>B</th>\n",
              "      <th>C</th>\n",
              "      <th>D</th>\n",
              "    </tr>\n",
              "  </thead>\n",
              "  <tbody>\n",
              "    <tr>\n",
              "      <th>0</th>\n",
              "      <td>2000-01-01</td>\n",
              "      <td>-2.029686</td>\n",
              "      <td>0.027579</td>\n",
              "      <td>0.145404</td>\n",
              "      <td>0.145855</td>\n",
              "    </tr>\n",
              "    <tr>\n",
              "      <th>1</th>\n",
              "      <td>2000-01-02</td>\n",
              "      <td>-2.239540</td>\n",
              "      <td>1.513306</td>\n",
              "      <td>1.630738</td>\n",
              "      <td>-0.506122</td>\n",
              "    </tr>\n",
              "    <tr>\n",
              "      <th>2</th>\n",
              "      <td>2000-01-03</td>\n",
              "      <td>-1.530248</td>\n",
              "      <td>1.293403</td>\n",
              "      <td>1.376174</td>\n",
              "      <td>-0.194329</td>\n",
              "    </tr>\n",
              "    <tr>\n",
              "      <th>3</th>\n",
              "      <td>2000-01-04</td>\n",
              "      <td>-2.491674</td>\n",
              "      <td>0.697234</td>\n",
              "      <td>1.626900</td>\n",
              "      <td>0.303869</td>\n",
              "    </tr>\n",
              "    <tr>\n",
              "      <th>4</th>\n",
              "      <td>2000-01-05</td>\n",
              "      <td>-2.555745</td>\n",
              "      <td>0.660367</td>\n",
              "      <td>4.321562</td>\n",
              "      <td>0.676639</td>\n",
              "    </tr>\n",
              "    <tr>\n",
              "      <th>...</th>\n",
              "      <td>...</td>\n",
              "      <td>...</td>\n",
              "      <td>...</td>\n",
              "      <td>...</td>\n",
              "      <td>...</td>\n",
              "    </tr>\n",
              "    <tr>\n",
              "      <th>995</th>\n",
              "      <td>2002-09-22</td>\n",
              "      <td>5.051978</td>\n",
              "      <td>19.618068</td>\n",
              "      <td>2.325694</td>\n",
              "      <td>22.448233</td>\n",
              "    </tr>\n",
              "    <tr>\n",
              "      <th>996</th>\n",
              "      <td>2002-09-23</td>\n",
              "      <td>5.509319</td>\n",
              "      <td>17.373734</td>\n",
              "      <td>1.060195</td>\n",
              "      <td>23.622497</td>\n",
              "    </tr>\n",
              "    <tr>\n",
              "      <th>997</th>\n",
              "      <td>2002-09-24</td>\n",
              "      <td>4.807298</td>\n",
              "      <td>18.228807</td>\n",
              "      <td>0.855399</td>\n",
              "      <td>22.592572</td>\n",
              "    </tr>\n",
              "    <tr>\n",
              "      <th>998</th>\n",
              "      <td>2002-09-25</td>\n",
              "      <td>5.518477</td>\n",
              "      <td>18.802967</td>\n",
              "      <td>0.872862</td>\n",
              "      <td>22.606474</td>\n",
              "    </tr>\n",
              "    <tr>\n",
              "      <th>999</th>\n",
              "      <td>2002-09-26</td>\n",
              "      <td>4.382839</td>\n",
              "      <td>18.652056</td>\n",
              "      <td>0.725738</td>\n",
              "      <td>22.556953</td>\n",
              "    </tr>\n",
              "  </tbody>\n",
              "</table>\n",
              "<p>1000 rows × 5 columns</p>\n",
              "</div>"
            ],
            "text/plain": [
              "    Unnamed: 0         A          B         C          D\n",
              "0   2000-01-01 -2.029686   0.027579  0.145404   0.145855\n",
              "1   2000-01-02 -2.239540   1.513306  1.630738  -0.506122\n",
              "2   2000-01-03 -1.530248   1.293403  1.376174  -0.194329\n",
              "3   2000-01-04 -2.491674   0.697234  1.626900   0.303869\n",
              "4   2000-01-05 -2.555745   0.660367  4.321562   0.676639\n",
              "..         ...       ...        ...       ...        ...\n",
              "995 2002-09-22  5.051978  19.618068  2.325694  22.448233\n",
              "996 2002-09-23  5.509319  17.373734  1.060195  23.622497\n",
              "997 2002-09-24  4.807298  18.228807  0.855399  22.592572\n",
              "998 2002-09-25  5.518477  18.802967  0.872862  22.606474\n",
              "999 2002-09-26  4.382839  18.652056  0.725738  22.556953\n",
              "\n",
              "[1000 rows x 5 columns]"
            ]
          },
          "metadata": {
            "tags": []
          },
          "execution_count": 140
        }
      ]
    },
    {
      "cell_type": "markdown",
      "metadata": {
        "id": "9Uogw-s_GUab"
      },
      "source": [
        "## 13. Gotchas (잡았다)\n",
        "\n",
        "연산 수행 시 다음과 같은 예외 상황을 볼 수도 있다."
      ]
    },
    {
      "cell_type": "code",
      "metadata": {
        "id": "qfCG7Tx4GXTM",
        "outputId": "d14f39d0-f41a-4ea2-de20-f721822b050b",
        "colab": {
          "base_uri": "https://localhost:8080/",
          "height": 327
        }
      },
      "source": [
        "if pd.Series([False, True, False]):\n",
        "    print(\"I was true\")"
      ],
      "execution_count": null,
      "outputs": [
        {
          "output_type": "error",
          "ename": "ValueError",
          "evalue": "ignored",
          "traceback": [
            "\u001b[0;31m---------------------------------------------------------------------------\u001b[0m",
            "\u001b[0;31mValueError\u001b[0m                                Traceback (most recent call last)",
            "\u001b[0;32m<ipython-input-141-5c782b38cd2f>\u001b[0m in \u001b[0;36m<module>\u001b[0;34m()\u001b[0m\n\u001b[0;32m----> 1\u001b[0;31m \u001b[0;32mif\u001b[0m \u001b[0mpd\u001b[0m\u001b[0;34m.\u001b[0m\u001b[0mSeries\u001b[0m\u001b[0;34m(\u001b[0m\u001b[0;34m[\u001b[0m\u001b[0;32mFalse\u001b[0m\u001b[0;34m,\u001b[0m \u001b[0;32mTrue\u001b[0m\u001b[0;34m,\u001b[0m \u001b[0;32mFalse\u001b[0m\u001b[0;34m]\u001b[0m\u001b[0;34m)\u001b[0m\u001b[0;34m:\u001b[0m\u001b[0;34m\u001b[0m\u001b[0;34m\u001b[0m\u001b[0m\n\u001b[0m\u001b[1;32m      2\u001b[0m     \u001b[0mprint\u001b[0m\u001b[0;34m(\u001b[0m\u001b[0;34m\"I was true\"\u001b[0m\u001b[0;34m)\u001b[0m\u001b[0;34m\u001b[0m\u001b[0;34m\u001b[0m\u001b[0m\n",
            "\u001b[0;32m/usr/local/lib/python3.6/dist-packages/pandas/core/generic.py\u001b[0m in \u001b[0;36m__nonzero__\u001b[0;34m(self)\u001b[0m\n\u001b[1;32m   1328\u001b[0m     \u001b[0;32mdef\u001b[0m \u001b[0m__nonzero__\u001b[0m\u001b[0;34m(\u001b[0m\u001b[0mself\u001b[0m\u001b[0;34m)\u001b[0m\u001b[0;34m:\u001b[0m\u001b[0;34m\u001b[0m\u001b[0;34m\u001b[0m\u001b[0m\n\u001b[1;32m   1329\u001b[0m         raise ValueError(\n\u001b[0;32m-> 1330\u001b[0;31m             \u001b[0;34mf\"The truth value of a {type(self).__name__} is ambiguous. \"\u001b[0m\u001b[0;34m\u001b[0m\u001b[0;34m\u001b[0m\u001b[0m\n\u001b[0m\u001b[1;32m   1331\u001b[0m             \u001b[0;34m\"Use a.empty, a.bool(), a.item(), a.any() or a.all().\"\u001b[0m\u001b[0;34m\u001b[0m\u001b[0;34m\u001b[0m\u001b[0m\n\u001b[1;32m   1332\u001b[0m         )\n",
            "\u001b[0;31mValueError\u001b[0m: The truth value of a Series is ambiguous. Use a.empty, a.bool(), a.item(), a.any() or a.all()."
          ]
        }
      ]
    },
    {
      "cell_type": "markdown",
      "metadata": {
        "id": "A-k26Mh-GZ2e"
      },
      "source": [
        "이러한 경우에는 any(), all(), empty 등을 사용해서 무엇을 원하는지를 선택 (반영)해주어야 한다."
      ]
    },
    {
      "cell_type": "code",
      "metadata": {
        "id": "szRunTUwGawl",
        "outputId": "42bf31f8-3bf1-4270-bb02-f1499c1e91b8",
        "colab": {
          "base_uri": "https://localhost:8080/"
        }
      },
      "source": [
        "if pd.Series([False, True, False])is not None:\n",
        "      print(\"I was not None\")"
      ],
      "execution_count": null,
      "outputs": [
        {
          "output_type": "stream",
          "text": [
            "I was not None\n"
          ],
          "name": "stdout"
        }
      ]
    },
    {
      "cell_type": "markdown",
      "metadata": {
        "id": "gjC1_pXpGbux"
      },
      "source": [
        "위에 대한 설명과 자세한 내용은 비교 부분을 참조하세요.\n",
        "\n",
        "Gotchas 부분도 참조하세요.\n",
        "\n"
      ]
    }
  ]
}