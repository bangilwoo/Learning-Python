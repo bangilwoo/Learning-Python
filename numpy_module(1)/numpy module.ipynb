{
  "nbformat": 4,
  "nbformat_minor": 0,
  "metadata": {
    "colab": {
      "name": "numpy",
      "provenance": [],
      "collapsed_sections": [],
      "authorship_tag": "ABX9TyM7xBRZgVLG7NS/RBlgnhwR"
    },
    "kernelspec": {
      "name": "python3",
      "display_name": "Python 3"
    }
  },
  "cells": [
    {
      "cell_type": "markdown",
      "metadata": {
        "id": "Rq8yUv0SSTyd"
      },
      "source": [
        "## numpy 모듈(1)"
      ]
    },
    {
      "cell_type": "code",
      "metadata": {
        "id": "N1XU5o1SG7Fb"
      },
      "source": [
        "import numpy as np\n",
        "import matplotlib.pyplot as plt"
      ],
      "execution_count": 2,
      "outputs": []
    },
    {
      "cell_type": "code",
      "metadata": {
        "colab": {
          "base_uri": "https://localhost:8080/",
          "height": 318
        },
        "id": "77ECJOweHRmy",
        "outputId": "7c3dc7ea-2dec-4b6f-b534-1eaec86cac76"
      },
      "source": [
        "x = np.array([1, 2, 3])\n",
        "y = np.array([2, 4, 6])\n",
        "\n",
        "print(x)\n",
        "print(y)\n",
        "\n",
        "plt.plot(x, y)"
      ],
      "execution_count": 2,
      "outputs": [
        {
          "output_type": "stream",
          "text": [
            "[1 2 3]\n",
            "[2 4 6]\n"
          ],
          "name": "stdout"
        },
        {
          "output_type": "execute_result",
          "data": {
            "text/plain": [
              "[<matplotlib.lines.Line2D at 0x7f8168d5f128>]"
            ]
          },
          "metadata": {
            "tags": []
          },
          "execution_count": 2
        },
        {
          "output_type": "display_data",
          "data": {
            "image/png": "[encoded data removed]",
            "text/plain": [
              "<Figure size 432x288 with 1 Axes>"
            ]
          },
          "metadata": {
            "tags": [],
            "needs_background": "light"
          }
        }
      ]
    },
    {
      "cell_type": "markdown",
      "metadata": {
        "id": "4gojPlDNHqGu"
      },
      "source": [
        "## darray 데이터 생성하기\n",
        "\n",
        "**학습목표**\n",
        "- 다양한 방법으로 ndarray 생성하기\n",
        "\n",
        "**np.array 함수로 생성하기**\n",
        "- 배열(array):모든 머신러닝DL에 사용"
      ]
    },
    {
      "cell_type": "code",
      "metadata": {
        "colab": {
          "base_uri": "https://localhost:8080/"
        },
        "id": "GBHlQNdkHnEa",
        "outputId": "8a69101a-b20c-45fd-92ab-ca389dac23b4"
      },
      "source": [
        "x = np.array([1, 2, 3, 4])\n",
        "print(x)\n",
        "\n",
        "y = np.array([[2, 3, 4], [1, 2, 5]])\n",
        "print(y)\n",
        "\n",
        "print(type(x))\n",
        "print(type(y))"
      ],
      "execution_count": 3,
      "outputs": [
        {
          "output_type": "stream",
          "text": [
            "[1 2 3 4]\n",
            "[[2 3 4]\n",
            " [1 2 5]]\n",
            "<class 'numpy.ndarray'>\n",
            "<class 'numpy.ndarray'>\n"
          ],
          "name": "stdout"
        }
      ]
    },
    {
      "cell_type": "markdown",
      "metadata": {
        "id": "T7VCVhwRIcMS"
      },
      "source": [
        "**np.arange 함수로 생성하기**"
      ]
    },
    {
      "cell_type": "code",
      "metadata": {
        "colab": {
          "base_uri": "https://localhost:8080/"
        },
        "id": "NeinGZDlIaMc",
        "outputId": "a9e5edae-5378-4549-d0b1-937ff837e0c9"
      },
      "source": [
        "np.arange(10)"
      ],
      "execution_count": 4,
      "outputs": [
        {
          "output_type": "execute_result",
          "data": {
            "text/plain": [
              "array([0, 1, 2, 3, 4, 5, 6, 7, 8, 9])"
            ]
          },
          "metadata": {
            "tags": []
          },
          "execution_count": 4
        }
      ]
    },
    {
      "cell_type": "code",
      "metadata": {
        "colab": {
          "base_uri": "https://localhost:8080/"
        },
        "id": "EjiOa3SuIlDM",
        "outputId": "fd4e8c06-e934-4631-de6b-a427028ea622"
      },
      "source": [
        "np.arange(1, 10)"
      ],
      "execution_count": 5,
      "outputs": [
        {
          "output_type": "execute_result",
          "data": {
            "text/plain": [
              "array([1, 2, 3, 4, 5, 6, 7, 8, 9])"
            ]
          },
          "metadata": {
            "tags": []
          },
          "execution_count": 5
        }
      ]
    },
    {
      "cell_type": "code",
      "metadata": {
        "colab": {
          "base_uri": "https://localhost:8080/"
        },
        "id": "7yPi1MCTIn6p",
        "outputId": "0e7f384e-5214-4490-ce45-3fdf0a884e7d"
      },
      "source": [
        "np.arange(1, 10, 2)"
      ],
      "execution_count": 6,
      "outputs": [
        {
          "output_type": "execute_result",
          "data": {
            "text/plain": [
              "array([1, 3, 5, 7, 9])"
            ]
          },
          "metadata": {
            "tags": []
          },
          "execution_count": 6
        }
      ]
    },
    {
      "cell_type": "code",
      "metadata": {
        "colab": {
          "base_uri": "https://localhost:8080/"
        },
        "id": "5K30w-bdIryW",
        "outputId": "0a25caa2-1b2b-4f33-f77d-475018319ef0"
      },
      "source": [
        "np.arange(5, 101, 5)"
      ],
      "execution_count": 8,
      "outputs": [
        {
          "output_type": "execute_result",
          "data": {
            "text/plain": [
              "array([  5,  10,  15,  20,  25,  30,  35,  40,  45,  50,  55,  60,  65,\n",
              "        70,  75,  80,  85,  90,  95, 100])"
            ]
          },
          "metadata": {
            "tags": []
          },
          "execution_count": 8
        }
      ]
    },
    {
      "cell_type": "markdown",
      "metadata": {
        "id": "BXXiEYNkI4dj"
      },
      "source": [
        "**np.ones,np.zeros로 생성하기**"
      ]
    },
    {
      "cell_type": "code",
      "metadata": {
        "colab": {
          "base_uri": "https://localhost:8080/"
        },
        "id": "xuNYfAZ1I0VT",
        "outputId": "507831f2-7f0c-4bdc-876c-308e89b1a67f"
      },
      "source": [
        "np.ones((4, 5))"
      ],
      "execution_count": 12,
      "outputs": [
        {
          "output_type": "execute_result",
          "data": {
            "text/plain": [
              "array([[1., 1., 1., 1., 1.],\n",
              "       [1., 1., 1., 1., 1.],\n",
              "       [1., 1., 1., 1., 1.],\n",
              "       [1., 1., 1., 1., 1.]])"
            ]
          },
          "metadata": {
            "tags": []
          },
          "execution_count": 12
        }
      ]
    },
    {
      "cell_type": "code",
      "metadata": {
        "colab": {
          "base_uri": "https://localhost:8080/"
        },
        "id": "GpkxC_-DJB0C",
        "outputId": "95be830d-8936-41fb-918a-7844073ab805"
      },
      "source": [
        "np.ones((2, 3, 4))"
      ],
      "execution_count": 14,
      "outputs": [
        {
          "output_type": "execute_result",
          "data": {
            "text/plain": [
              "array([[[1., 1., 1., 1.],\n",
              "        [1., 1., 1., 1.],\n",
              "        [1., 1., 1., 1.]],\n",
              "\n",
              "       [[1., 1., 1., 1.],\n",
              "        [1., 1., 1., 1.],\n",
              "        [1., 1., 1., 1.]]])"
            ]
          },
          "metadata": {
            "tags": []
          },
          "execution_count": 14
        }
      ]
    },
    {
      "cell_type": "code",
      "metadata": {
        "colab": {
          "base_uri": "https://localhost:8080/"
        },
        "id": "yNCT849xJNMl",
        "outputId": "12f548f2-aeb0-4536-e817-df6aab991b9e"
      },
      "source": [
        "np.zeros((2, 3, 8, 8))"
      ],
      "execution_count": 15,
      "outputs": [
        {
          "output_type": "execute_result",
          "data": {
            "text/plain": [
              "array([[[[0., 0., 0., 0., 0., 0., 0., 0.],\n",
              "         [0., 0., 0., 0., 0., 0., 0., 0.],\n",
              "         [0., 0., 0., 0., 0., 0., 0., 0.],\n",
              "         [0., 0., 0., 0., 0., 0., 0., 0.],\n",
              "         [0., 0., 0., 0., 0., 0., 0., 0.],\n",
              "         [0., 0., 0., 0., 0., 0., 0., 0.],\n",
              "         [0., 0., 0., 0., 0., 0., 0., 0.],\n",
              "         [0., 0., 0., 0., 0., 0., 0., 0.]],\n",
              "\n",
              "        [[0., 0., 0., 0., 0., 0., 0., 0.],\n",
              "         [0., 0., 0., 0., 0., 0., 0., 0.],\n",
              "         [0., 0., 0., 0., 0., 0., 0., 0.],\n",
              "         [0., 0., 0., 0., 0., 0., 0., 0.],\n",
              "         [0., 0., 0., 0., 0., 0., 0., 0.],\n",
              "         [0., 0., 0., 0., 0., 0., 0., 0.],\n",
              "         [0., 0., 0., 0., 0., 0., 0., 0.],\n",
              "         [0., 0., 0., 0., 0., 0., 0., 0.]],\n",
              "\n",
              "        [[0., 0., 0., 0., 0., 0., 0., 0.],\n",
              "         [0., 0., 0., 0., 0., 0., 0., 0.],\n",
              "         [0., 0., 0., 0., 0., 0., 0., 0.],\n",
              "         [0., 0., 0., 0., 0., 0., 0., 0.],\n",
              "         [0., 0., 0., 0., 0., 0., 0., 0.],\n",
              "         [0., 0., 0., 0., 0., 0., 0., 0.],\n",
              "         [0., 0., 0., 0., 0., 0., 0., 0.],\n",
              "         [0., 0., 0., 0., 0., 0., 0., 0.]]],\n",
              "\n",
              "\n",
              "       [[[0., 0., 0., 0., 0., 0., 0., 0.],\n",
              "         [0., 0., 0., 0., 0., 0., 0., 0.],\n",
              "         [0., 0., 0., 0., 0., 0., 0., 0.],\n",
              "         [0., 0., 0., 0., 0., 0., 0., 0.],\n",
              "         [0., 0., 0., 0., 0., 0., 0., 0.],\n",
              "         [0., 0., 0., 0., 0., 0., 0., 0.],\n",
              "         [0., 0., 0., 0., 0., 0., 0., 0.],\n",
              "         [0., 0., 0., 0., 0., 0., 0., 0.]],\n",
              "\n",
              "        [[0., 0., 0., 0., 0., 0., 0., 0.],\n",
              "         [0., 0., 0., 0., 0., 0., 0., 0.],\n",
              "         [0., 0., 0., 0., 0., 0., 0., 0.],\n",
              "         [0., 0., 0., 0., 0., 0., 0., 0.],\n",
              "         [0., 0., 0., 0., 0., 0., 0., 0.],\n",
              "         [0., 0., 0., 0., 0., 0., 0., 0.],\n",
              "         [0., 0., 0., 0., 0., 0., 0., 0.],\n",
              "         [0., 0., 0., 0., 0., 0., 0., 0.]],\n",
              "\n",
              "        [[0., 0., 0., 0., 0., 0., 0., 0.],\n",
              "         [0., 0., 0., 0., 0., 0., 0., 0.],\n",
              "         [0., 0., 0., 0., 0., 0., 0., 0.],\n",
              "         [0., 0., 0., 0., 0., 0., 0., 0.],\n",
              "         [0., 0., 0., 0., 0., 0., 0., 0.],\n",
              "         [0., 0., 0., 0., 0., 0., 0., 0.],\n",
              "         [0., 0., 0., 0., 0., 0., 0., 0.],\n",
              "         [0., 0., 0., 0., 0., 0., 0., 0.]]]])"
            ]
          },
          "metadata": {
            "tags": []
          },
          "execution_count": 15
        }
      ]
    },
    {
      "cell_type": "markdown",
      "metadata": {
        "id": "eJLcdqc7JZLb"
      },
      "source": [
        "**np.empty,np.full로 생성하기**"
      ]
    },
    {
      "cell_type": "code",
      "metadata": {
        "colab": {
          "base_uri": "https://localhost:8080/"
        },
        "id": "5bJrVExmJUIT",
        "outputId": "dbf18ad1-e00b-488b-b650-e25379471ab1"
      },
      "source": [
        "np.empty((3, 4))"
      ],
      "execution_count": 16,
      "outputs": [
        {
          "output_type": "execute_result",
          "data": {
            "text/plain": [
              "array([[1.87468427e-316, 2.47032823e-322, 0.00000000e+000,\n",
              "        0.00000000e+000],\n",
              "       [0.00000000e+000, 6.82116729e-043, 5.89573436e-091,\n",
              "        1.72129235e+184],\n",
              "       [5.41920477e-067, 2.23239308e+180, 3.99910963e+252,\n",
              "        1.46030983e-319]])"
            ]
          },
          "metadata": {
            "tags": []
          },
          "execution_count": 16
        }
      ]
    },
    {
      "cell_type": "code",
      "metadata": {
        "colab": {
          "base_uri": "https://localhost:8080/"
        },
        "id": "WmqYWgb-Jh2d",
        "outputId": "8884013c-0864-4aaf-fa17-068c5256f66e"
      },
      "source": [
        "np.full((3, 4, 2), 7)"
      ],
      "execution_count": 20,
      "outputs": [
        {
          "output_type": "execute_result",
          "data": {
            "text/plain": [
              "array([[[7, 7],\n",
              "        [7, 7],\n",
              "        [7, 7],\n",
              "        [7, 7]],\n",
              "\n",
              "       [[7, 7],\n",
              "        [7, 7],\n",
              "        [7, 7],\n",
              "        [7, 7]],\n",
              "\n",
              "       [[7, 7],\n",
              "        [7, 7],\n",
              "        [7, 7],\n",
              "        [7, 7]]])"
            ]
          },
          "metadata": {
            "tags": []
          },
          "execution_count": 20
        }
      ]
    },
    {
      "cell_type": "markdown",
      "metadata": {
        "id": "V1cRArwoJtYP"
      },
      "source": [
        "**np.eye로 생성하기**\n",
        "-  단위 행렬 생성"
      ]
    },
    {
      "cell_type": "code",
      "metadata": {
        "colab": {
          "base_uri": "https://localhost:8080/"
        },
        "id": "devLj-RGJn9t",
        "outputId": "10fc655d-7dd6-4a22-9fa6-43862efaafd8"
      },
      "source": [
        "np.eye(3)"
      ],
      "execution_count": 21,
      "outputs": [
        {
          "output_type": "execute_result",
          "data": {
            "text/plain": [
              "array([[1., 0., 0.],\n",
              "       [0., 1., 0.],\n",
              "       [0., 0., 1.]])"
            ]
          },
          "metadata": {
            "tags": []
          },
          "execution_count": 21
        }
      ]
    },
    {
      "cell_type": "markdown",
      "metadata": {
        "id": "UD_HTYrBKnKC"
      },
      "source": [
        "**np.linspace로 생성하기**"
      ]
    },
    {
      "cell_type": "code",
      "metadata": {
        "colab": {
          "base_uri": "https://localhost:8080/"
        },
        "id": "Fq5QYSMeJ0VH",
        "outputId": "eba1dba0-c0da-4d6b-d8cb-9aec446a3f81"
      },
      "source": [
        "np.linspace(1, 10, 3)"
      ],
      "execution_count": 31,
      "outputs": [
        {
          "output_type": "execute_result",
          "data": {
            "text/plain": [
              "array([ 1. ,  5.5, 10. ])"
            ]
          },
          "metadata": {
            "tags": []
          },
          "execution_count": 31
        }
      ]
    },
    {
      "cell_type": "code",
      "metadata": {
        "colab": {
          "base_uri": "https://localhost:8080/"
        },
        "id": "wZh2CWhQNEr3",
        "outputId": "fe721ef7-228b-4df7-efd5-8051dfadb8e7"
      },
      "source": [
        "np.linspace(1, 10, 4)"
      ],
      "execution_count": 26,
      "outputs": [
        {
          "output_type": "execute_result",
          "data": {
            "text/plain": [
              "array([ 1.,  4.,  7., 10.])"
            ]
          },
          "metadata": {
            "tags": []
          },
          "execution_count": 26
        }
      ]
    },
    {
      "cell_type": "code",
      "metadata": {
        "colab": {
          "base_uri": "https://localhost:8080/"
        },
        "id": "mjV65J62NN16",
        "outputId": "31d682e5-d322-4af3-993c-df3f4230bdeb"
      },
      "source": [
        "np.linspace(1, 10, 5)"
      ],
      "execution_count": 25,
      "outputs": [
        {
          "output_type": "execute_result",
          "data": {
            "text/plain": [
              "array([ 1.  ,  3.25,  5.5 ,  7.75, 10.  ])"
            ]
          },
          "metadata": {
            "tags": []
          },
          "execution_count": 25
        }
      ]
    },
    {
      "cell_type": "markdown",
      "metadata": {
        "id": "3Peca-ygNiPB"
      },
      "source": [
        "**reshape 함수 활용**\n",
        "- ndarray의 형태, 차원을 바꾸기 위해 사용"
      ]
    },
    {
      "cell_type": "code",
      "metadata": {
        "colab": {
          "base_uri": "https://localhost:8080/"
        },
        "id": "oDxciB6TNQ_u",
        "outputId": "e7a55dfc-b48c-4fd7-929e-4fbd41d13374"
      },
      "source": [
        "x = np.arange(1, 16)\n",
        "print(x)\n",
        "\n",
        "x.shape # 1 차원\n",
        "x.reshape(5, 3) # 5열 3행 total=15\n",
        "# x.reshape(5, 4) # 공간이 맞지 않아서 에러 발생, 5열 4행 total=20"
      ],
      "execution_count": 32,
      "outputs": [
        {
          "output_type": "stream",
          "text": [
            "[ 1  2  3  4  5  6  7  8  9 10 11 12 13 14 15]\n"
          ],
          "name": "stdout"
        },
        {
          "output_type": "execute_result",
          "data": {
            "text/plain": [
              "array([[ 1,  2,  3],\n",
              "       [ 4,  5,  6],\n",
              "       [ 7,  8,  9],\n",
              "       [10, 11, 12],\n",
              "       [13, 14, 15]])"
            ]
          },
          "metadata": {
            "tags": []
          },
          "execution_count": 32
        }
      ]
    },
    {
      "cell_type": "markdown",
      "metadata": {
        "id": "XkLGwxe2OXWH"
      },
      "source": [
        "## ndarray 데이터 생성하기\n",
        "\n",
        "**학습목표**\n",
        "- random 서브모듈 함수를 통해 ndarray 생성하기\n",
        "\n",
        "**random 서브모듈**\n",
        "\n",
        "**rand 함수**\n",
        "- 0, 1사이의 분포로 랜덤한 ndarray생성"
      ]
    },
    {
      "cell_type": "code",
      "metadata": {
        "colab": {
          "base_uri": "https://localhost:8080/"
        },
        "id": "H_6bjpvAN4rv",
        "outputId": "5e339cf1-bcb3-4273-d060-0c695bac4ff2"
      },
      "source": [
        "np.random.rand(4, 5, 3)"
      ],
      "execution_count": 33,
      "outputs": [
        {
          "output_type": "execute_result",
          "data": {
            "text/plain": [
              "array([[[0.3037166 , 0.98603712, 0.19087408],\n",
              "        [0.22757815, 0.14963763, 0.18326595],\n",
              "        [0.07036534, 0.06916719, 0.45356338],\n",
              "        [0.97798142, 0.22063498, 0.16168086],\n",
              "        [0.70441614, 0.31949297, 0.18454492]],\n",
              "\n",
              "       [[0.77809453, 0.43249959, 0.70276185],\n",
              "        [0.23130512, 0.45721212, 0.70915873],\n",
              "        [0.15133365, 0.9843032 , 0.56995539],\n",
              "        [0.67359296, 0.1773294 , 0.57930698],\n",
              "        [0.80776289, 0.09531555, 0.19311909]],\n",
              "\n",
              "       [[0.57436024, 0.07952729, 0.67610166],\n",
              "        [0.41148832, 0.96259402, 0.88244752],\n",
              "        [0.27214843, 0.93488399, 0.85329601],\n",
              "        [0.5649414 , 0.16833353, 0.91182116],\n",
              "        [0.15344916, 0.22980342, 0.36713376]],\n",
              "\n",
              "       [[0.17797638, 0.90294771, 0.28329931],\n",
              "        [0.8498801 , 0.5401581 , 0.08381166],\n",
              "        [0.74415785, 0.75429743, 0.60311234],\n",
              "        [0.04043863, 0.16226808, 0.72740447],\n",
              "        [0.67211505, 0.34426374, 0.41255822]]])"
            ]
          },
          "metadata": {
            "tags": []
          },
          "execution_count": 33
        }
      ]
    },
    {
      "cell_type": "markdown",
      "metadata": {
        "id": "rffKGP-SQFNr"
      },
      "source": [
        "**randn함수**\n",
        "- n:normal distribution(정규분포)\n",
        "- 정규분포로 샘플링된 랜덤 ndarray 생성"
      ]
    },
    {
      "cell_type": "code",
      "metadata": {
        "colab": {
          "base_uri": "https://localhost:8080/"
        },
        "id": "UyGhvXpYQAbH",
        "outputId": "5091a4bf-5d0a-4974-ad3b-125efb1bd2c8"
      },
      "source": [
        "np.random.randn(5)"
      ],
      "execution_count": 34,
      "outputs": [
        {
          "output_type": "execute_result",
          "data": {
            "text/plain": [
              "array([ 0.42980254, -0.38687733,  0.43700655,  0.3209379 , -0.25789264])"
            ]
          },
          "metadata": {
            "tags": []
          },
          "execution_count": 34
        }
      ]
    },
    {
      "cell_type": "code",
      "metadata": {
        "colab": {
          "base_uri": "https://localhost:8080/"
        },
        "id": "2adDWoXhQRTU",
        "outputId": "cb10105d-0ec5-4737-ab90-9b12fa56cee5"
      },
      "source": [
        "np.random.randn(3 ,4 ,2)"
      ],
      "execution_count": 36,
      "outputs": [
        {
          "output_type": "execute_result",
          "data": {
            "text/plain": [
              "array([[[ 0.38205722, -1.84364553],\n",
              "        [ 0.61558575, -0.33161198],\n",
              "        [-0.71684454,  0.52160195],\n",
              "        [ 0.46509196, -1.66562624]],\n",
              "\n",
              "       [[ 2.51675232,  0.2574759 ],\n",
              "        [ 0.6891598 ,  0.14397861],\n",
              "        [-0.21945155,  1.38044554],\n",
              "        [ 0.46636677, -1.95873086]],\n",
              "\n",
              "       [[ 1.72908478, -1.50555607],\n",
              "        [ 0.14748719, -1.90414423],\n",
              "        [ 1.32858269, -1.19048156],\n",
              "        [ 0.85916113,  0.37079446]]])"
            ]
          },
          "metadata": {
            "tags": []
          },
          "execution_count": 36
        }
      ]
    },
    {
      "cell_type": "markdown",
      "metadata": {
        "id": "Tw8hakPFQYNi"
      },
      "source": [
        "**seed 함수**\n",
        "- 랜덤한 값을 동일하게 다시 생성하고자 할때 사용"
      ]
    },
    {
      "cell_type": "code",
      "metadata": {
        "colab": {
          "base_uri": "https://localhost:8080/"
        },
        "id": "RvPfaDMxQU1j",
        "outputId": "222f94b7-1ab1-4180-986b-4234a685f72c"
      },
      "source": [
        "np.random.seed(23) # 실험을 위해 동일한 값을 지정, 훈려, 학습 데이터의 값이 변하면 안될때\n",
        "np.random.randn(3, 4)"
      ],
      "execution_count": 37,
      "outputs": [
        {
          "output_type": "execute_result",
          "data": {
            "text/plain": [
              "array([[ 0.66698806,  0.02581308, -0.77761941,  0.94863382],\n",
              "       [ 0.70167179, -1.05108156, -0.36754812, -1.13745969],\n",
              "       [-1.32214752,  1.77225828, -0.34745899,  0.67014016]])"
            ]
          },
          "metadata": {
            "tags": []
          },
          "execution_count": 37
        }
      ]
    },
    {
      "cell_type": "markdown",
      "metadata": {
        "id": "Zt23AyH6Q1MH"
      },
      "source": [
        "**choice**\n",
        "- 주어진 1차원 ndarray로 부터 랜덤으로 샘플링\n",
        "- 정수가 주어진 경우, np.arage(해당숫자)로 간주"
      ]
    },
    {
      "cell_type": "code",
      "metadata": {
        "colab": {
          "base_uri": "https://localhost:8080/"
        },
        "id": "3wDaa4KmQwXR",
        "outputId": "eff162b3-84b3-4fdf-bc6d-43df5d0f17e1"
      },
      "source": [
        "np.random.choice(100, size=(3, 4))"
      ],
      "execution_count": 38,
      "outputs": [
        {
          "output_type": "execute_result",
          "data": {
            "text/plain": [
              "array([[79, 90, 62, 57],\n",
              "       [19, 33, 59, 39],\n",
              "       [15, 36, 65,  1]])"
            ]
          },
          "metadata": {
            "tags": []
          },
          "execution_count": 38
        }
      ]
    },
    {
      "cell_type": "code",
      "metadata": {
        "colab": {
          "base_uri": "https://localhost:8080/"
        },
        "id": "IwuJbc-zRIAf",
        "outputId": "f4d30ae9-7674-489e-fc6e-7eadf0d58fca"
      },
      "source": [
        "x = np.array([1, 2, 3, 1.5, 2.6, 4.9])\n",
        "np.random.choice(x, size = (2, 2), replace = False)"
      ],
      "execution_count": 39,
      "outputs": [
        {
          "output_type": "execute_result",
          "data": {
            "text/plain": [
              "array([[1. , 2. ],\n",
              "       [3. , 4.9]])"
            ]
          },
          "metadata": {
            "tags": []
          },
          "execution_count": 39
        }
      ]
    },
    {
      "cell_type": "markdown",
      "metadata": {
        "id": "rs6_PzC0Rbsk"
      },
      "source": [
        "**확률분포에 따른 ndarray 생성**\n",
        "- uniform\n",
        "- normal 등등"
      ]
    },
    {
      "cell_type": "code",
      "metadata": {
        "colab": {
          "base_uri": "https://localhost:8080/"
        },
        "id": "XrGCaIygRaVw",
        "outputId": "2d66d338-98e2-40fa-aa00-36b117591be5"
      },
      "source": [
        "np.random.uniform(1.0, 3.0, size=(4, 5))"
      ],
      "execution_count": 40,
      "outputs": [
        {
          "output_type": "execute_result",
          "data": {
            "text/plain": [
              "array([[2.51225457, 2.66736254, 1.34436822, 1.42430685, 2.74942904],\n",
              "       [1.8654592 , 2.75215591, 1.94121243, 1.60485579, 2.53464481],\n",
              "       [1.02068753, 2.35248663, 1.94336175, 2.26833065, 2.84085397],\n",
              "       [1.26336399, 2.67879335, 2.40971945, 2.93578399, 2.80844986]])"
            ]
          },
          "metadata": {
            "tags": []
          },
          "execution_count": 40
        }
      ]
    },
    {
      "cell_type": "code",
      "metadata": {
        "colab": {
          "base_uri": "https://localhost:8080/"
        },
        "id": "D5NwMZdHRtCi",
        "outputId": "11394660-4697-4cfa-a052-1ecbe967aa3f"
      },
      "source": [
        "np.random.normal(size=(3, 4))\n",
        "np.random.randn(3, 4)"
      ],
      "execution_count": 48,
      "outputs": [
        {
          "output_type": "execute_result",
          "data": {
            "text/plain": [
              "array([[-1.10028295,  0.19820952,  0.0407598 ,  0.78145406],\n",
              "       [ 0.06493754, -0.15102838, -0.01601653,  1.5072508 ],\n",
              "       [-1.60482532,  1.78616035, -0.2363808 , -2.42559596]])"
            ]
          },
          "metadata": {
            "tags": []
          },
          "execution_count": 48
        }
      ]
    },
    {
      "cell_type": "markdown",
      "metadata": {
        "id": "MiyyQ7FBTt2q"
      },
      "source": [
        "## ndarray 인덱싱 _슬라이싱 이해하기\n",
        "\n",
        "**학습목표**\n",
        "- 인덱싱과 슬라이싱 활용하기\n",
        "\n",
        "**인덱싱**\n",
        "\n",
        "- 파이썬 리스트와 동일한 개념으로 사용\n",
        "- ,를 사용하여 각 차원의 인덱스에 접근 가능\n",
        "<br><br>\n",
        "\n",
        "**1차원 벡터 인덱싱**"
      ]
    },
    {
      "cell_type": "code",
      "metadata": {
        "colab": {
          "base_uri": "https://localhost:8080/"
        },
        "id": "HlZ5zcBOTcu8",
        "outputId": "0615578b-b380-4a4a-ef46-e36d498c7224"
      },
      "source": [
        "x = np.arange(10)\n",
        "print(x)"
      ],
      "execution_count": 50,
      "outputs": [
        {
          "output_type": "stream",
          "text": [
            "[0 1 2 3 4 5 6 7 8 9]\n"
          ],
          "name": "stdout"
        }
      ]
    },
    {
      "cell_type": "code",
      "metadata": {
        "colab": {
          "base_uri": "https://localhost:8080/"
        },
        "id": "8_pPBlfMR2us",
        "outputId": "076efa62-bb22-42b3-ce81-3341336e71af"
      },
      "source": [
        "x[9] = 100 # list기능 활용한 값 변경\n",
        "print(x)"
      ],
      "execution_count": 51,
      "outputs": [
        {
          "output_type": "stream",
          "text": [
            "[  0   1   2   3   4   5   6   7   8 100]\n"
          ],
          "name": "stdout"
        }
      ]
    },
    {
      "cell_type": "markdown",
      "metadata": {
        "id": "QFQxYCziUdRk"
      },
      "source": [
        "**2차원 행렬 인덱싱**"
      ]
    },
    {
      "cell_type": "code",
      "metadata": {
        "colab": {
          "base_uri": "https://localhost:8080/"
        },
        "id": "DcT5xbOQURyg",
        "outputId": "116fd1b6-7aba-4e87-ae05-59a6637bd46e"
      },
      "source": [
        "x = np.arange(10).reshape(2, 5)\n",
        "print(x)"
      ],
      "execution_count": 52,
      "outputs": [
        {
          "output_type": "stream",
          "text": [
            "[[0 1 2 3 4]\n",
            " [5 6 7 8 9]]\n"
          ],
          "name": "stdout"
        }
      ]
    },
    {
      "cell_type": "code",
      "metadata": {
        "colab": {
          "base_uri": "https://localhost:8080/"
        },
        "id": "D2S8PfO0Ut70",
        "outputId": "bc2bdcff-dcc4-4c76-b7e8-ead4192f81bd"
      },
      "source": [
        "x[1, -1]"
      ],
      "execution_count": 53,
      "outputs": [
        {
          "output_type": "execute_result",
          "data": {
            "text/plain": [
              "9"
            ]
          },
          "metadata": {
            "tags": []
          },
          "execution_count": 53
        }
      ]
    },
    {
      "cell_type": "code",
      "metadata": {
        "colab": {
          "base_uri": "https://localhost:8080/"
        },
        "id": "m90cZToMUxKz",
        "outputId": "0d34ec88-8f49-47ee-fb66-9f9be9d14228"
      },
      "source": [
        "x[1, 2]"
      ],
      "execution_count": 54,
      "outputs": [
        {
          "output_type": "execute_result",
          "data": {
            "text/plain": [
              "7"
            ]
          },
          "metadata": {
            "tags": []
          },
          "execution_count": 54
        }
      ]
    },
    {
      "cell_type": "markdown",
      "metadata": {
        "id": "ti71L8DCU2mo"
      },
      "source": [
        "**3차원 텐서 인덱싱**"
      ]
    },
    {
      "cell_type": "code",
      "metadata": {
        "colab": {
          "base_uri": "https://localhost:8080/"
        },
        "id": "FiTcuGZMU0cE",
        "outputId": "efe2269a-2ac4-468b-977d-e0d52a262349"
      },
      "source": [
        "x = np.arange(36).reshape(3, 4, 3)\n",
        "print(x)"
      ],
      "execution_count": 56,
      "outputs": [
        {
          "output_type": "stream",
          "text": [
            "[[[ 0  1  2]\n",
            "  [ 3  4  5]\n",
            "  [ 6  7  8]\n",
            "  [ 9 10 11]]\n",
            "\n",
            " [[12 13 14]\n",
            "  [15 16 17]\n",
            "  [18 19 20]\n",
            "  [21 22 23]]\n",
            "\n",
            " [[24 25 26]\n",
            "  [27 28 29]\n",
            "  [30 31 32]\n",
            "  [33 34 35]]]\n"
          ],
          "name": "stdout"
        }
      ]
    },
    {
      "cell_type": "code",
      "metadata": {
        "colab": {
          "base_uri": "https://localhost:8080/"
        },
        "id": "gidDdLISVDuU",
        "outputId": "6afaf3ba-bdd8-4d28-c4c3-c71d4820b2b1"
      },
      "source": [
        "x[0] # 해당된 그룹 출력"
      ],
      "execution_count": 57,
      "outputs": [
        {
          "output_type": "execute_result",
          "data": {
            "text/plain": [
              "array([[ 0,  1,  2],\n",
              "       [ 3,  4,  5],\n",
              "       [ 6,  7,  8],\n",
              "       [ 9, 10, 11]])"
            ]
          },
          "metadata": {
            "tags": []
          },
          "execution_count": 57
        }
      ]
    },
    {
      "cell_type": "markdown",
      "metadata": {
        "id": "FUqzcTGaVOSa"
      },
      "source": [
        "**슬라이싱**\n",
        "- 리스트, 문자열 slicing과 동일한 개념으로 사용\n",
        "- ,를 사용하여 각 차원 별로 슬라이싱 가능\n",
        "<br><br>\n",
        "\n",
        "**1차운 벡터 슬라이싱**"
      ]
    },
    {
      "cell_type": "code",
      "metadata": {
        "colab": {
          "base_uri": "https://localhost:8080/"
        },
        "id": "mliFTNOnVIbn",
        "outputId": "59bb362e-d3a7-483b-8233-9b1d576d6f56"
      },
      "source": [
        "x = np.arange(10)\n",
        "print(x)"
      ],
      "execution_count": 58,
      "outputs": [
        {
          "output_type": "stream",
          "text": [
            "[0 1 2 3 4 5 6 7 8 9]\n"
          ],
          "name": "stdout"
        }
      ]
    },
    {
      "cell_type": "code",
      "metadata": {
        "colab": {
          "base_uri": "https://localhost:8080/"
        },
        "id": "q_tnlkIPVhsw",
        "outputId": "059aef71-1b8b-4e63-dbe6-bd6cd5dea2db"
      },
      "source": [
        "x[1:]"
      ],
      "execution_count": 59,
      "outputs": [
        {
          "output_type": "execute_result",
          "data": {
            "text/plain": [
              "array([1, 2, 3, 4, 5, 6, 7, 8, 9])"
            ]
          },
          "metadata": {
            "tags": []
          },
          "execution_count": 59
        }
      ]
    },
    {
      "cell_type": "code",
      "metadata": {
        "colab": {
          "base_uri": "https://localhost:8080/"
        },
        "id": "ynIlel1EVlZN",
        "outputId": "caf245db-9c93-43d5-af34-40078b0ddaf9"
      },
      "source": [
        "x = np.arange(10).reshape(2, 5)\n",
        "print(x)"
      ],
      "execution_count": 60,
      "outputs": [
        {
          "output_type": "stream",
          "text": [
            "[[0 1 2 3 4]\n",
            " [5 6 7 8 9]]\n"
          ],
          "name": "stdout"
        }
      ]
    },
    {
      "cell_type": "code",
      "metadata": {
        "colab": {
          "base_uri": "https://localhost:8080/"
        },
        "id": "f8wYnjURVs7-",
        "outputId": "a9a809cd-73b2-4efb-af6d-1f32783a78a7"
      },
      "source": [
        "x[0, :2]"
      ],
      "execution_count": 61,
      "outputs": [
        {
          "output_type": "execute_result",
          "data": {
            "text/plain": [
              "array([0, 1])"
            ]
          },
          "metadata": {
            "tags": []
          },
          "execution_count": 61
        }
      ]
    },
    {
      "cell_type": "code",
      "metadata": {
        "colab": {
          "base_uri": "https://localhost:8080/"
        },
        "id": "lWqmFVdDVwpR",
        "outputId": "7aea6444-db9d-40bc-8e17-4728f5d6176b"
      },
      "source": [
        "x[:1, :2]"
      ],
      "execution_count": 62,
      "outputs": [
        {
          "output_type": "execute_result",
          "data": {
            "text/plain": [
              "array([[0, 1]])"
            ]
          },
          "metadata": {
            "tags": []
          },
          "execution_count": 62
        }
      ]
    },
    {
      "cell_type": "markdown",
      "metadata": {
        "id": "G5uX3busV3ne"
      },
      "source": [
        "**3차원 텐서 슬라이싱**"
      ]
    },
    {
      "cell_type": "code",
      "metadata": {
        "colab": {
          "base_uri": "https://localhost:8080/"
        },
        "id": "j55jBN4cV0R1",
        "outputId": "0bcb76f9-1b16-4bd5-921f-ac01b1f88ad1"
      },
      "source": [
        "x = np.arange(54).reshape(2, 9, 3)\n",
        "print(x)"
      ],
      "execution_count": 64,
      "outputs": [
        {
          "output_type": "stream",
          "text": [
            "[[[ 0  1  2]\n",
            "  [ 3  4  5]\n",
            "  [ 6  7  8]\n",
            "  [ 9 10 11]\n",
            "  [12 13 14]\n",
            "  [15 16 17]\n",
            "  [18 19 20]\n",
            "  [21 22 23]\n",
            "  [24 25 26]]\n",
            "\n",
            " [[27 28 29]\n",
            "  [30 31 32]\n",
            "  [33 34 35]\n",
            "  [36 37 38]\n",
            "  [39 40 41]\n",
            "  [42 43 44]\n",
            "  [45 46 47]\n",
            "  [48 49 50]\n",
            "  [51 52 53]]]\n"
          ],
          "name": "stdout"
        }
      ]
    },
    {
      "cell_type": "code",
      "metadata": {
        "colab": {
          "base_uri": "https://localhost:8080/"
        },
        "id": "gj61L0fXWB-s",
        "outputId": "bf71b56f-1364-4a88-9fb9-e80c9d8023fa"
      },
      "source": [
        "x[:1, :2, :]"
      ],
      "execution_count": 65,
      "outputs": [
        {
          "output_type": "execute_result",
          "data": {
            "text/plain": [
              "array([[[0, 1, 2],\n",
              "        [3, 4, 5]]])"
            ]
          },
          "metadata": {
            "tags": []
          },
          "execution_count": 65
        }
      ]
    },
    {
      "cell_type": "code",
      "metadata": {
        "colab": {
          "base_uri": "https://localhost:8080/"
        },
        "id": "Xw_9fXh9WHei",
        "outputId": "191de36f-f45d-4795-88dd-0a56654f318f"
      },
      "source": [
        "x[0, :2, :]"
      ],
      "execution_count": 66,
      "outputs": [
        {
          "output_type": "execute_result",
          "data": {
            "text/plain": [
              "array([[0, 1, 2],\n",
              "       [3, 4, 5]])"
            ]
          },
          "metadata": {
            "tags": []
          },
          "execution_count": 66
        }
      ]
    },
    {
      "cell_type": "markdown",
      "metadata": {
        "id": "fxIqCTQQWeH3"
      },
      "source": [
        "## ndarray 데이터 형태를 바꿔보기\n",
        "\n",
        "**학습목표**\n",
        "- ndarray shape 변경하기\n",
        "\n",
        "**ravel, np.ravel**\n",
        "- 다차원배열을 1차원으로 변경\n",
        "- 'order'파라미터\n",
        "  - 'C'-row 우선 변경\n",
        "  - 'F'-column 우선 변경"
      ]
    },
    {
      "cell_type": "code",
      "metadata": {
        "colab": {
          "base_uri": "https://localhost:8080/"
        },
        "id": "Y_6MDc9iWKhK",
        "outputId": "99001386-6361-4202-a6ef-f70251c17574"
      },
      "source": [
        "x = np.arange(15).reshape(3, 5)\n",
        "print(x)"
      ],
      "execution_count": 69,
      "outputs": [
        {
          "output_type": "stream",
          "text": [
            "[[ 0  1  2  3  4]\n",
            " [ 5  6  7  8  9]\n",
            " [10 11 12 13 14]]\n"
          ],
          "name": "stdout"
        }
      ]
    },
    {
      "cell_type": "code",
      "metadata": {
        "colab": {
          "base_uri": "https://localhost:8080/"
        },
        "id": "T6YxzMdCXK82",
        "outputId": "44bad331-2559-47dd-ea6b-9b748cf659ff"
      },
      "source": [
        "np.ravel(x, order='F')"
      ],
      "execution_count": 70,
      "outputs": [
        {
          "output_type": "execute_result",
          "data": {
            "text/plain": [
              "array([ 0,  5, 10,  1,  6, 11,  2,  7, 12,  3,  8, 13,  4,  9, 14])"
            ]
          },
          "metadata": {
            "tags": []
          },
          "execution_count": 70
        }
      ]
    },
    {
      "cell_type": "code",
      "metadata": {
        "colab": {
          "base_uri": "https://localhost:8080/"
        },
        "id": "OBGjN_VGXVMM",
        "outputId": "b3b3eef7-8a9a-469a-8fb7-ac28d8517729"
      },
      "source": [
        "np.ravel(x, order='c')"
      ],
      "execution_count": 71,
      "outputs": [
        {
          "output_type": "execute_result",
          "data": {
            "text/plain": [
              "array([ 0,  1,  2,  3,  4,  5,  6,  7,  8,  9, 10, 11, 12, 13, 14])"
            ]
          },
          "metadata": {
            "tags": []
          },
          "execution_count": 71
        }
      ]
    },
    {
      "cell_type": "code",
      "metadata": {
        "colab": {
          "base_uri": "https://localhost:8080/"
        },
        "id": "5consiJmXa2w",
        "outputId": "c469b0e9-3e81-44d7-ee80-4d0a3f844d2b"
      },
      "source": [
        "temp = x.ravel()\n",
        "print(temp)"
      ],
      "execution_count": 72,
      "outputs": [
        {
          "output_type": "stream",
          "text": [
            "[ 0  1  2  3  4  5  6  7  8  9 10 11 12 13 14]\n"
          ],
          "name": "stdout"
        }
      ]
    },
    {
      "cell_type": "code",
      "metadata": {
        "colab": {
          "base_uri": "https://localhost:8080/"
        },
        "id": "SI7TL9gJXiDB",
        "outputId": "aff2b4e6-9e21-4959-efcb-a18f59b0dc9a"
      },
      "source": [
        "temp[0] = 100\n",
        "print(temp)\n",
        "print(x)"
      ],
      "execution_count": 73,
      "outputs": [
        {
          "output_type": "stream",
          "text": [
            "[100   1   2   3   4   5   6   7   8   9  10  11  12  13  14]\n",
            "[[100   1   2   3   4]\n",
            " [  5   6   7   8   9]\n",
            " [ 10  11  12  13  14]]\n"
          ],
          "name": "stdout"
        }
      ]
    },
    {
      "cell_type": "markdown",
      "metadata": {
        "id": "Jad_84TIXywF"
      },
      "source": [
        "**flatten**\n",
        "-다차원 배열을 1차원으로 변경\n",
        "- ravel과의 차이점:copy를 생성하여 변경함(즉, 원본 데이터가 아닌 복사본을 반환)\n",
        "- 'order'파라미터\n",
        "  - 'C'-row 우선 변경\n",
        "  - 'F'-column 우선 변경\n",
        "- 딥러닝에 많이 사용"
      ]
    },
    {
      "cell_type": "code",
      "metadata": {
        "colab": {
          "base_uri": "https://localhost:8080/"
        },
        "id": "Dco3vbfmXojs",
        "outputId": "77b90921-239e-4d2d-e824-5d956991b0e3"
      },
      "source": [
        "y = np.arange(15).reshape(3, 5)\n",
        "print(y)"
      ],
      "execution_count": 75,
      "outputs": [
        {
          "output_type": "stream",
          "text": [
            "[[ 0  1  2  3  4]\n",
            " [ 5  6  7  8  9]\n",
            " [10 11 12 13 14]]\n"
          ],
          "name": "stdout"
        }
      ]
    },
    {
      "cell_type": "code",
      "metadata": {
        "colab": {
          "base_uri": "https://localhost:8080/"
        },
        "id": "8N4T6-RJYVFO",
        "outputId": "2f458e78-185d-464a-c9e2-74fd70ee79b6"
      },
      "source": [
        "t2 = y.flatten(order='c')\n",
        "print(t2)"
      ],
      "execution_count": 76,
      "outputs": [
        {
          "output_type": "stream",
          "text": [
            "[ 0  1  2  3  4  5  6  7  8  9 10 11 12 13 14]\n"
          ],
          "name": "stdout"
        }
      ]
    },
    {
      "cell_type": "code",
      "metadata": {
        "colab": {
          "base_uri": "https://localhost:8080/"
        },
        "id": "FSppAmUpYlk0",
        "outputId": "ab3110a2-dd22-4b31-f1a6-aae17660b747"
      },
      "source": [
        "t2[0] = 100\n",
        "print(t2)\n",
        "print(y)"
      ],
      "execution_count": 77,
      "outputs": [
        {
          "output_type": "stream",
          "text": [
            "[100   1   2   3   4   5   6   7   8   9  10  11  12  13  14]\n",
            "[[ 0  1  2  3  4]\n",
            " [ 5  6  7  8  9]\n",
            " [10 11 12 13 14]]\n"
          ],
          "name": "stdout"
        }
      ]
    },
    {
      "cell_type": "code",
      "metadata": {
        "colab": {
          "base_uri": "https://localhost:8080/"
        },
        "id": "WhJJALuNYt3B",
        "outputId": "ec936870-ac4f-455c-c383-3d881d88ce30"
      },
      "source": [
        "x = np.arange(30).reshape(2, 3, 5)\n",
        "print(x)"
      ],
      "execution_count": 78,
      "outputs": [
        {
          "output_type": "stream",
          "text": [
            "[[[ 0  1  2  3  4]\n",
            "  [ 5  6  7  8  9]\n",
            "  [10 11 12 13 14]]\n",
            "\n",
            " [[15 16 17 18 19]\n",
            "  [20 21 22 23 24]\n",
            "  [25 26 27 28 29]]]\n"
          ],
          "name": "stdout"
        }
      ]
    },
    {
      "cell_type": "code",
      "metadata": {
        "colab": {
          "base_uri": "https://localhost:8080/"
        },
        "id": "oS1U4a_VY26S",
        "outputId": "0da8556c-a380-4f1c-9309-0248292fe11d"
      },
      "source": [
        "x.ravel()"
      ],
      "execution_count": 79,
      "outputs": [
        {
          "output_type": "execute_result",
          "data": {
            "text/plain": [
              "array([ 0,  1,  2,  3,  4,  5,  6,  7,  8,  9, 10, 11, 12, 13, 14, 15, 16,\n",
              "       17, 18, 19, 20, 21, 22, 23, 24, 25, 26, 27, 28, 29])"
            ]
          },
          "metadata": {
            "tags": []
          },
          "execution_count": 79
        }
      ]
    },
    {
      "cell_type": "markdown",
      "metadata": {
        "id": "P1kpOMDYY6eV"
      },
      "source": [
        "**reshape 함수**\n",
        "- array의 shape을 다른 차원으로 변경\n",
        "- 주의할점은 reshape한 후의 결과의 전체 원소 개수와 이전 개수가 같아야 가능\n",
        "- 사용 예) 이미지 데이터 벡터화 - 이미지는 기본적으로 2차원 혹은 3차원(RGB)이나 트레이닝을 위해 1차원으로 변경하여 사용 됨"
      ]
    },
    {
      "cell_type": "code",
      "metadata": {
        "colab": {
          "base_uri": "https://localhost:8080/"
        },
        "id": "UE3AR181Y5Yj",
        "outputId": "9cb3ca12-ece7-4f3e-c4f5-f25986935770"
      },
      "source": [
        "x = np.arange(36)\n",
        "print(x)\n",
        "print(x.shape)\n",
        "print(x.ndim) # ndim 차원을 알아보기 위해 사용"
      ],
      "execution_count": 81,
      "outputs": [
        {
          "output_type": "stream",
          "text": [
            "[ 0  1  2  3  4  5  6  7  8  9 10 11 12 13 14 15 16 17 18 19 20 21 22 23\n",
            " 24 25 26 27 28 29 30 31 32 33 34 35]\n",
            "(36,)\n"
          ],
          "name": "stdout"
        }
      ]
    },
    {
      "cell_type": "code",
      "metadata": {
        "colab": {
          "base_uri": "https://localhost:8080/"
        },
        "id": "ebT2cCTIZo4C",
        "outputId": "7512fee5-03f6-468b-fc5d-51d0bd60764a"
      },
      "source": [
        "y = x.reshape(6, 6) # 위의 36을 기본 값으로 계산\n",
        "print(y.shape)\n",
        "print(y.ndim)"
      ],
      "execution_count": 82,
      "outputs": [
        {
          "output_type": "stream",
          "text": [
            "(6, 6)\n",
            "2\n"
          ],
          "name": "stdout"
        }
      ]
    },
    {
      "cell_type": "code",
      "metadata": {
        "colab": {
          "base_uri": "https://localhost:8080/"
        },
        "id": "LQBF5bkHaFN4",
        "outputId": "35a590fa-39b2-4849-ba8c-e41464b9a29b"
      },
      "source": [
        "k = x.reshape(3, 3, -1)\n",
        "print(k)\n",
        "print(k.shape)\n",
        "print(k.ndim)"
      ],
      "execution_count": 83,
      "outputs": [
        {
          "output_type": "stream",
          "text": [
            "[[[ 0  1  2  3]\n",
            "  [ 4  5  6  7]\n",
            "  [ 8  9 10 11]]\n",
            "\n",
            " [[12 13 14 15]\n",
            "  [16 17 18 19]\n",
            "  [20 21 22 23]]\n",
            "\n",
            " [[24 25 26 27]\n",
            "  [28 29 30 31]\n",
            "  [32 33 34 35]]]\n",
            "(3, 3, 4)\n",
            "3\n"
          ],
          "name": "stdout"
        }
      ]
    },
    {
      "cell_type": "markdown",
      "metadata": {
        "id": "s6Mjtq6Dao8k"
      },
      "source": [
        "## ndarray 기본 함수 사용하기\n",
        "\n",
        "**학습목표**\n",
        "- numpy에서 자주 사용되는 함수들을 사용해보기\n",
        "\n",
        "**numpy documentation**\n",
        "- numpy에서 제공되는 함수등에 대한 문서"
      ]
    },
    {
      "cell_type": "code",
      "metadata": {
        "colab": {
          "base_uri": "https://localhost:8080/"
        },
        "id": "G7r6-mRfaRHs",
        "outputId": "cab61a6e-3bbe-4cc7-a2dd-0224a32bbfd7"
      },
      "source": [
        "x = np.arange(15).reshape(3, 5)\n",
        "y = np.random.rand(15).reshape(3,5)\n",
        "print(x)\n",
        "print(y)"
      ],
      "execution_count": 3,
      "outputs": [
        {
          "output_type": "stream",
          "text": [
            "[[ 0  1  2  3  4]\n",
            " [ 5  6  7  8  9]\n",
            " [10 11 12 13 14]]\n",
            "[[0.49979782 0.38295515 0.00824308 0.94110667 0.04029815]\n",
            " [0.02121326 0.03835887 0.47169484 0.35953142 0.71244599]\n",
            " [0.23613145 0.62312384 0.54206236 0.27565416 0.12183635]]\n"
          ],
          "name": "stdout"
        }
      ]
    },
    {
      "cell_type": "markdown",
      "metadata": {
        "id": "Bb_Qe_7Obbqz"
      },
      "source": [
        "**연산 함수**\n",
        "- add, substract, multply, divide\n"
      ]
    },
    {
      "cell_type": "code",
      "metadata": {
        "colab": {
          "base_uri": "https://localhost:8080/"
        },
        "id": "x1pVzjgwbaPQ",
        "outputId": "9e8192b6-047c-4dcf-fef7-46fc15ec6b56"
      },
      "source": [
        "np.add(x, y)"
      ],
      "execution_count": 4,
      "outputs": [
        {
          "output_type": "execute_result",
          "data": {
            "text/plain": [
              "array([[ 0.49979782,  1.38295515,  2.00824308,  3.94110667,  4.04029815],\n",
              "       [ 5.02121326,  6.03835887,  7.47169484,  8.35953142,  9.71244599],\n",
              "       [10.23613145, 11.62312384, 12.54206236, 13.27565416, 14.12183635]])"
            ]
          },
          "metadata": {
            "tags": []
          },
          "execution_count": 4
        }
      ]
    },
    {
      "cell_type": "code",
      "metadata": {
        "colab": {
          "base_uri": "https://localhost:8080/"
        },
        "id": "Z4Hctaa1cwpL",
        "outputId": "328fec75-0924-4072-d6c8-3a0c8b825ee5"
      },
      "source": [
        "x + y"
      ],
      "execution_count": 5,
      "outputs": [
        {
          "output_type": "execute_result",
          "data": {
            "text/plain": [
              "array([[ 0.49979782,  1.38295515,  2.00824308,  3.94110667,  4.04029815],\n",
              "       [ 5.02121326,  6.03835887,  7.47169484,  8.35953142,  9.71244599],\n",
              "       [10.23613145, 11.62312384, 12.54206236, 13.27565416, 14.12183635]])"
            ]
          },
          "metadata": {
            "tags": []
          },
          "execution_count": 5
        }
      ]
    },
    {
      "cell_type": "code",
      "metadata": {
        "colab": {
          "base_uri": "https://localhost:8080/"
        },
        "id": "JsE-q-cmbvAN",
        "outputId": "da3125b0-35e1-475d-f32a-1de0e1513118"
      },
      "source": [
        "np.divide(x, y) "
      ],
      "execution_count": 6,
      "outputs": [
        {
          "output_type": "execute_result",
          "data": {
            "text/plain": [
              "array([[  0.        ,   2.61127182, 242.62771722,   3.18773641,\n",
              "         99.26013611],\n",
              "       [235.70158157, 156.41754725,  14.84010304,  22.25118462,\n",
              "         12.6325366 ],\n",
              "       [ 42.34929242,  17.65299163,  22.1376743 ,  47.16054304,\n",
              "        114.90824021]])"
            ]
          },
          "metadata": {
            "tags": []
          },
          "execution_count": 6
        }
      ]
    },
    {
      "cell_type": "code",
      "metadata": {
        "colab": {
          "base_uri": "https://localhost:8080/"
        },
        "id": "Lr0OgRiocLZe",
        "outputId": "93ff1ddd-5e16-4a92-8200-1ddfcda019e5"
      },
      "source": [
        "x / y"
      ],
      "execution_count": 7,
      "outputs": [
        {
          "output_type": "execute_result",
          "data": {
            "text/plain": [
              "array([[  0.        ,   2.61127182, 242.62771722,   3.18773641,\n",
              "         99.26013611],\n",
              "       [235.70158157, 156.41754725,  14.84010304,  22.25118462,\n",
              "         12.6325366 ],\n",
              "       [ 42.34929242,  17.65299163,  22.1376743 ,  47.16054304,\n",
              "        114.90824021]])"
            ]
          },
          "metadata": {
            "tags": []
          },
          "execution_count": 7
        }
      ]
    },
    {
      "cell_type": "markdown",
      "metadata": {
        "id": "q99s196mc0w_"
      },
      "source": [
        "**통계 함수**\n",
        "- 평균, 분산, 중앙, 최대, 최소값 등등 통계 관련된 함수가 내장"
      ]
    },
    {
      "cell_type": "code",
      "metadata": {
        "colab": {
          "base_uri": "https://localhost:8080/"
        },
        "id": "PHtqY2kkcujm",
        "outputId": "09a296e2-eb28-442f-b1a2-5164b8d395a8"
      },
      "source": [
        "print(y)"
      ],
      "execution_count": 8,
      "outputs": [
        {
          "output_type": "stream",
          "text": [
            "[[0.49979782 0.38295515 0.00824308 0.94110667 0.04029815]\n",
            " [0.02121326 0.03835887 0.47169484 0.35953142 0.71244599]\n",
            " [0.23613145 0.62312384 0.54206236 0.27565416 0.12183635]]\n"
          ],
          "name": "stdout"
        }
      ]
    },
    {
      "cell_type": "code",
      "metadata": {
        "colab": {
          "base_uri": "https://localhost:8080/"
        },
        "id": "bx3ujFsrc-pa",
        "outputId": "98b829c7-205b-4959-e531-42871a26f8bd"
      },
      "source": [
        "np.mean(y)"
      ],
      "execution_count": 9,
      "outputs": [
        {
          "output_type": "execute_result",
          "data": {
            "text/plain": [
              "0.3516302283672464"
            ]
          },
          "metadata": {
            "tags": []
          },
          "execution_count": 9
        }
      ]
    },
    {
      "cell_type": "code",
      "metadata": {
        "colab": {
          "base_uri": "https://localhost:8080/"
        },
        "id": "MW9OXVp4dGJs",
        "outputId": "e7dddfb9-0dd6-4f5d-ead9-89a1c52c781d"
      },
      "source": [
        "y.mean()"
      ],
      "execution_count": 10,
      "outputs": [
        {
          "output_type": "execute_result",
          "data": {
            "text/plain": [
              "0.3516302283672464"
            ]
          },
          "metadata": {
            "tags": []
          },
          "execution_count": 10
        }
      ]
    },
    {
      "cell_type": "code",
      "metadata": {
        "colab": {
          "base_uri": "https://localhost:8080/"
        },
        "id": "ElCKXWWXdKHg",
        "outputId": "be9eca83-f392-4751-b46c-6edceaaea1b4"
      },
      "source": [
        "np.max(y)"
      ],
      "execution_count": 11,
      "outputs": [
        {
          "output_type": "execute_result",
          "data": {
            "text/plain": [
              "0.9411066713929986"
            ]
          },
          "metadata": {
            "tags": []
          },
          "execution_count": 11
        }
      ]
    },
    {
      "cell_type": "code",
      "metadata": {
        "colab": {
          "base_uri": "https://localhost:8080/"
        },
        "id": "oXMgnfZ3dM1Z",
        "outputId": "2c37826c-c260-41e1-ceeb-c1d26a99f5cd"
      },
      "source": [
        "np.argmax(y)"
      ],
      "execution_count": 12,
      "outputs": [
        {
          "output_type": "execute_result",
          "data": {
            "text/plain": [
              "3"
            ]
          },
          "metadata": {
            "tags": []
          },
          "execution_count": 12
        }
      ]
    },
    {
      "cell_type": "code",
      "metadata": {
        "colab": {
          "base_uri": "https://localhost:8080/"
        },
        "id": "wNwM99jVdQ4C",
        "outputId": "ad8b510c-f00d-4062-fd00-29ff6bb6aaf6"
      },
      "source": [
        "np.var(y), np.median(y), np.std(y) # var: 분산, std: 표준편차"
      ],
      "execution_count": 14,
      "outputs": [
        {
          "output_type": "execute_result",
          "data": {
            "text/plain": [
              "(0.07460871759292029, 0.3595314199031904, 0.27314596389644913)"
            ]
          },
          "metadata": {
            "tags": []
          },
          "execution_count": 14
        }
      ]
    },
    {
      "cell_type": "markdown",
      "metadata": {
        "id": "_0AvSKTm161r"
      },
      "source": [
        "**집계함수**\n",
        "- 합계, 누적합계 등등 계산 가능"
      ]
    },
    {
      "cell_type": "code",
      "metadata": {
        "colab": {
          "base_uri": "https://localhost:8080/"
        },
        "id": "3HLR4Jok00ba",
        "outputId": "3e80df91-68ea-40e0-84ad-de6261021ecb"
      },
      "source": [
        "y"
      ],
      "execution_count": 15,
      "outputs": [
        {
          "output_type": "execute_result",
          "data": {
            "text/plain": [
              "array([[0.49979782, 0.38295515, 0.00824308, 0.94110667, 0.04029815],\n",
              "       [0.02121326, 0.03835887, 0.47169484, 0.35953142, 0.71244599],\n",
              "       [0.23613145, 0.62312384, 0.54206236, 0.27565416, 0.12183635]])"
            ]
          },
          "metadata": {
            "tags": []
          },
          "execution_count": 15
        }
      ]
    },
    {
      "cell_type": "code",
      "metadata": {
        "colab": {
          "base_uri": "https://localhost:8080/"
        },
        "id": "9aAJgMeU2BRL",
        "outputId": "df62490c-d6b7-441b-f5aa-5ec88e5d33cf"
      },
      "source": [
        "np.sum(y, axis=None)"
      ],
      "execution_count": 16,
      "outputs": [
        {
          "output_type": "execute_result",
          "data": {
            "text/plain": [
              "5.274453425508696"
            ]
          },
          "metadata": {
            "tags": []
          },
          "execution_count": 16
        }
      ]
    },
    {
      "cell_type": "code",
      "metadata": {
        "colab": {
          "base_uri": "https://localhost:8080/"
        },
        "id": "44RvEvYm2E-R",
        "outputId": "8a636fa8-4607-4fe6-b4bf-9a6bcd9bb70e"
      },
      "source": [
        "np.cumsum(y) # 누적합계"
      ],
      "execution_count": 18,
      "outputs": [
        {
          "output_type": "execute_result",
          "data": {
            "text/plain": [
              "array([0.49979782, 0.88275298, 0.89099606, 1.83210273, 1.87240088,\n",
              "       1.89361415, 1.93197301, 2.40366785, 2.76319927, 3.47564526,\n",
              "       3.71177671, 4.33490056, 4.87696292, 5.15261708, 5.27445343])"
            ]
          },
          "metadata": {
            "tags": []
          },
          "execution_count": 18
        }
      ]
    },
    {
      "cell_type": "markdown",
      "metadata": {
        "id": "ks-TCfq92ew8"
      },
      "source": [
        "**any, all 함수**\n",
        "- any: 특정 조건을 만족하는 것이 하나라도 있으면 True, 아니면 False\n",
        "- all: 모든 원소가 특정 조건을 만족한다면 True, 아니면 False"
      ]
    },
    {
      "cell_type": "code",
      "metadata": {
        "colab": {
          "base_uri": "https://localhost:8080/"
        },
        "id": "sV4j5wRe2JJO",
        "outputId": "4fca0154-6f55-4bd0-ad45-833571b1195c"
      },
      "source": [
        "z = np.random.randn(10)\n",
        "print(z)"
      ],
      "execution_count": 19,
      "outputs": [
        {
          "output_type": "stream",
          "text": [
            "[ 0.18089874  1.98446555  1.71363508 -1.31246787 -0.48170527  0.66235504\n",
            " -0.10359414  0.63677366 -0.00844582 -1.7302434 ]\n"
          ],
          "name": "stdout"
        }
      ]
    },
    {
      "cell_type": "code",
      "metadata": {
        "colab": {
          "base_uri": "https://localhost:8080/"
        },
        "id": "oY9wlq_523j-",
        "outputId": "5906220d-3ad6-4740-d018-b4760a0679d5"
      },
      "source": [
        "z > 0"
      ],
      "execution_count": 20,
      "outputs": [
        {
          "output_type": "execute_result",
          "data": {
            "text/plain": [
              "array([ True,  True,  True, False, False,  True, False,  True, False,\n",
              "       False])"
            ]
          },
          "metadata": {
            "tags": []
          },
          "execution_count": 20
        }
      ]
    },
    {
      "cell_type": "code",
      "metadata": {
        "colab": {
          "base_uri": "https://localhost:8080/"
        },
        "id": "QdDmM2M625K8",
        "outputId": "c3e2712c-839c-4015-e12d-3164cb0e986d"
      },
      "source": [
        "np.any(z > 0)"
      ],
      "execution_count": 21,
      "outputs": [
        {
          "output_type": "execute_result",
          "data": {
            "text/plain": [
              "True"
            ]
          },
          "metadata": {
            "tags": []
          },
          "execution_count": 21
        }
      ]
    },
    {
      "cell_type": "code",
      "metadata": {
        "colab": {
          "base_uri": "https://localhost:8080/"
        },
        "id": "DCzaZKUo2-1j",
        "outputId": "6439db0c-337f-4113-9bed-b310186925c3"
      },
      "source": [
        "np.all(z != 0)"
      ],
      "execution_count": 22,
      "outputs": [
        {
          "output_type": "execute_result",
          "data": {
            "text/plain": [
              "True"
            ]
          },
          "metadata": {
            "tags": []
          },
          "execution_count": 22
        }
      ]
    },
    {
      "cell_type": "markdown",
      "metadata": {
        "id": "l8fQe5rj3H5g"
      },
      "source": [
        "**where 함수**\n",
        "- numpy에서 if대신 사용\n",
        "- 조건에 따라 선별적으로 값을 선택 가능\n",
        "- 사용 예) 음수인경우는 0, 나머지는 그대로 값을 쓰는 경우"
      ]
    },
    {
      "cell_type": "code",
      "metadata": {
        "colab": {
          "base_uri": "https://localhost:8080/"
        },
        "id": "bMUtjSCd3Bng",
        "outputId": "1ecb7e85-6a8e-4622-e7e4-58ad8c0f628e"
      },
      "source": [
        "z = np.random.randn(10)\n",
        "print(z)"
      ],
      "execution_count": 24,
      "outputs": [
        {
          "output_type": "stream",
          "text": [
            "[ 1.29951855 -1.15131403 -1.68959393  0.05007965  1.04309375  0.60640907\n",
            " -0.49954698  0.30897854 -0.34799971  0.39217598]\n"
          ],
          "name": "stdout"
        }
      ]
    },
    {
      "cell_type": "code",
      "metadata": {
        "colab": {
          "base_uri": "https://localhost:8080/"
        },
        "id": "aFGCLnIN3h5P",
        "outputId": "60da72de-f173-4f01-d9da-686678d94323"
      },
      "source": [
        "np.where(z > 0, z, 0) # 0보다 크면 z 작으면 0으로 표시"
      ],
      "execution_count": 27,
      "outputs": [
        {
          "output_type": "execute_result",
          "data": {
            "text/plain": [
              "array([1.29951855, 0.        , 0.        , 0.05007965, 1.04309375,\n",
              "       0.60640907, 0.        , 0.30897854, 0.        , 0.39217598])"
            ]
          },
          "metadata": {
            "tags": []
          },
          "execution_count": 27
        }
      ]
    },
    {
      "cell_type": "code",
      "metadata": {
        "colab": {
          "base_uri": "https://localhost:8080/"
        },
        "id": "4vAqdylg3n2I",
        "outputId": "55dcb2d3-0677-4e5c-b2ea-5a401d225fe6"
      },
      "source": [
        "b = np.random.randn(12)\n",
        "print(b)"
      ],
      "execution_count": 35,
      "outputs": [
        {
          "output_type": "stream",
          "text": [
            "[ 1.67400666  1.37078468  1.7470579   0.34452981  0.58043827 -0.13053334\n",
            "  0.2107318  -0.2725036  -1.5982326  -1.75797684  0.18121829 -0.37741166]\n"
          ],
          "name": "stdout"
        }
      ]
    },
    {
      "cell_type": "code",
      "metadata": {
        "colab": {
          "base_uri": "https://localhost:8080/"
        },
        "id": "TEBCSr1N4JLi",
        "outputId": "cc9e6cd5-32e2-45c7-ce3b-86b4d9eab1b8"
      },
      "source": [
        "np.where(b > 0, b, 0)"
      ],
      "execution_count": 36,
      "outputs": [
        {
          "output_type": "execute_result",
          "data": {
            "text/plain": [
              "array([1.67400666, 1.37078468, 1.7470579 , 0.34452981, 0.58043827,\n",
              "       0.        , 0.2107318 , 0.        , 0.        , 0.        ,\n",
              "       0.18121829, 0.        ])"
            ]
          },
          "metadata": {
            "tags": []
          },
          "execution_count": 36
        }
      ]
    },
    {
      "cell_type": "code",
      "metadata": {
        "id": "46lhXExR4bXn"
      },
      "source": [
        ""
      ],
      "execution_count": null,
      "outputs": []
    }
  ]
}